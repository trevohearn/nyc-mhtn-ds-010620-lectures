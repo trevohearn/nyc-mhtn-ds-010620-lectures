{
 "cells": [
  {
   "cell_type": "markdown",
   "metadata": {},
   "source": [
    "## More OOP Practice!\n",
    "\n",
    "Learning goals:\n",
    "- Practice creating classes and instance objects\n",
    "- Understand the distinction between classes and instance objects\n",
    "- Understand the difference between class attributes and instance attributes"
   ]
  },
  {
   "cell_type": "markdown",
   "metadata": {},
   "source": [
    "![mayes](dog.jpeg)"
   ]
  },
  {
   "cell_type": "markdown",
   "metadata": {},
   "source": [
    "### Let's define a Dog class"
   ]
  },
  {
   "cell_type": "code",
   "execution_count": 10,
   "metadata": {},
   "outputs": [],
   "source": [
    "class Dog():\n",
    "    \n",
    "    def __init__(self, name):\n",
    "        self = self\n",
    "        self.name = name\n",
    "        self.species = 'mammal'\n",
    "        \n",
    "    "
   ]
  },
  {
   "cell_type": "markdown",
   "metadata": {},
   "source": [
    "#### Create an instance of the Dog class and assign it to a variable. Check the type of that variable."
   ]
  },
  {
   "cell_type": "code",
   "execution_count": 11,
   "metadata": {},
   "outputs": [],
   "source": [
    "Judy = Dog('Judy')"
   ]
  },
  {
   "cell_type": "code",
   "execution_count": 69,
   "metadata": {},
   "outputs": [
    {
     "data": {
      "text/plain": [
       "__main__.Dog"
      ]
     },
     "execution_count": 69,
     "metadata": {},
     "output_type": "execute_result"
    }
   ],
   "source": []
  },
  {
   "cell_type": "markdown",
   "metadata": {},
   "source": [
    "#### Add an initialization function so that every instance of the Dog class has a name and an age associated with it"
   ]
  },
  {
   "cell_type": "code",
   "execution_count": 57,
   "metadata": {},
   "outputs": [],
   "source": []
  },
  {
   "cell_type": "markdown",
   "metadata": {},
   "source": [
    "#### Every dog might have a different name and/or age, but all dogs are mammals! \n",
    "\n",
    "Add a class attribute called species so that every instance of Dog is a 'mammal'."
   ]
  },
  {
   "cell_type": "code",
   "execution_count": 13,
   "metadata": {},
   "outputs": [],
   "source": [
    "Judy.species = 'mammal'"
   ]
  },
  {
   "cell_type": "markdown",
   "metadata": {},
   "source": [
    "#### Create two separate instances of Dog, and assign them to variables.\n",
    "Print \"{name of dog1} is {age of dog 1} and {name of dog2} is {age of dog 2}\""
   ]
  },
  {
   "cell_type": "code",
   "execution_count": 35,
   "metadata": {},
   "outputs": [
    {
     "name": "stdout",
     "output_type": "stream",
     "text": [
      "Peter is 1 and \n"
     ]
    }
   ],
   "source": [
    "dog1 = Dog('Peter')\n",
    "dog1.age = 1\n",
    "dog2 = Dog('Amy')\n",
    "dog2.age = 3\n",
    "print(str(dog1.name) + \" is \" + str(dog1.age) + ' and ' )"
   ]
  },
  {
   "cell_type": "markdown",
   "metadata": {},
   "source": [
    "#### Check the species of these dogs!"
   ]
  },
  {
   "cell_type": "code",
   "execution_count": 36,
   "metadata": {},
   "outputs": [
    {
     "data": {
      "text/plain": [
       "'mammal'"
      ]
     },
     "execution_count": 36,
     "metadata": {},
     "output_type": "execute_result"
    }
   ],
   "source": [
    "dog1.species"
   ]
  },
  {
   "cell_type": "markdown",
   "metadata": {},
   "source": [
    "#### Dogs make sounds too, like barking! \n",
    "Add an instance method to the Dog class called speak, that accepts a sound and prints out, \n",
    "\"{name of dog} says {sound passed into the method}\""
   ]
  },
  {
   "cell_type": "code",
   "execution_count": 37,
   "metadata": {},
   "outputs": [],
   "source": [
    "#dog1.talk = def talk(self, sound): print(self.name + ' says ' + sound )"
   ]
  },
  {
   "cell_type": "markdown",
   "metadata": {},
   "source": [
    "#### Add an instance method called description that prints out:\n",
    "\"{dog name} is {dog age} years old\""
   ]
  },
  {
   "cell_type": "code",
   "execution_count": 38,
   "metadata": {},
   "outputs": [
    {
     "name": "stdout",
     "output_type": "stream",
     "text": [
      "Amy is 3 years old\n"
     ]
    }
   ],
   "source": [
    "def age(dog):\n",
    "    print(dog.name + \" is \" + str(dog.age) + \" years old\")\n",
    "dog1.age = age    \n",
    "dog1.age(dog2)"
   ]
  },
  {
   "cell_type": "markdown",
   "metadata": {},
   "source": [
    "#### Create a new instance of the Dog class and assign it to a variable.\n",
    "Use the description and speak instance methods to display information about the dog."
   ]
  },
  {
   "cell_type": "code",
   "execution_count": 40,
   "metadata": {},
   "outputs": [
    {
     "name": "stdout",
     "output_type": "stream",
     "text": [
      "Peter is <function age at 0x107571170> years old\n"
     ]
    }
   ],
   "source": [
    "dog1.age(dog1)"
   ]
  },
  {
   "cell_type": "code",
   "execution_count": null,
   "metadata": {},
   "outputs": [],
   "source": []
  },
  {
   "cell_type": "markdown",
   "metadata": {},
   "source": [
    "## Your Turn:\n",
    "#### Now you are going to work with a partner to create a class. \n",
    "#### Your class will construct a descriptive statistics calculator using our functions from our previous lecture. Your class should have the following attributes:\n",
    "\n",
    "- .data - where you will hold your data\n",
    "- .length - that tells you the length of your data list\n",
    "- .mean\n",
    "- .median\n",
    "- .variance\n",
    "- .stand_dev\n",
    "\n",
    "#### Your class should have the following methods:\n",
    "\n",
    "- .add_data() - which can take in a value or a list of values and extend the .data attribute\n",
    "- .remove_data() accept a list of numbers and remove any of the numbers in that list from your object data\n"
   ]
  },
  {
   "cell_type": "code",
   "execution_count": 81,
   "metadata": {},
   "outputs": [],
   "source": [
    "class Calculator:\n",
    "    def __init__(self, data):\n",
    "        self = self\n",
    "        self.data = data\n",
    "        self.length = len(data)\n",
    "        self.mean = sum(data) / self.length\n",
    "        if self.length % 2: #is odd 0 is false\n",
    "            self.median = data[int(round(self.length/2, 0))] #number in the middle\n",
    "        else: #is even\n",
    "            self.median = data[int(round(self.length / 2, 0))] + data[int(round(self.length / 2, 0)) - 1] / 2\n",
    "        self.variance = (sum([(x - self.mean)**2 for x in data])) / (self.length)\n",
    "        self.stand_dev = (self.variance)**(1/2)\n",
    "    #given a list, return the number in the middle\n",
    "    def median(self, li):\n",
    "        if self.length % 2: #is odd 0 is false\n",
    "            self.median = data[length/2] #number in the middle\n",
    "        else: #is even\n",
    "            self.median = data[length / 2] + data[int((length / 2)) - 1] / 2\n",
    "    #given:value, list of values\n",
    "    #extend the data attribute\n",
    "    #no return\n",
    "    def add_data(self, new_data):\n",
    "        [self.data.append(nd) for nd in new_data]\n",
    "        \n",
    "    #accept a list of numbers\n",
    "    #remove any of the number in that list from your object data\n",
    "    #return nothing\n",
    "    def remove_data(self, trash):\n",
    "        for element in trash:\n",
    "            self.data.remove(element)\n",
    "    def print_data(self):\n",
    "        print(self.data)\n",
    "        \n",
    "    #def variance(self, data):\n",
    "    #      return (sum([(x - self.mean)**2 for x in data])) / self.length\n",
    "    #def stand_dev(self, data):\n",
    "    #      return (variance(self, data))**(1/2)"
   ]
  },
  {
   "cell_type": "code",
   "execution_count": 82,
   "metadata": {},
   "outputs": [
    {
     "data": {
      "text/plain": [
       "1.707825127659933"
      ]
     },
     "execution_count": 82,
     "metadata": {},
     "output_type": "execute_result"
    }
   ],
   "source": [
    "calc = Calculator([1,2,3,4,5,6])\n",
    "calc.stand_dev"
   ]
  },
  {
   "cell_type": "code",
   "execution_count": 62,
   "metadata": {},
   "outputs": [
    {
     "data": {
      "text/plain": [
       "2.0"
      ]
     },
     "execution_count": 62,
     "metadata": {},
     "output_type": "execute_result"
    }
   ],
   "source": [
    "data = [1,2,3,4,5]\n",
    "variance = (sum([(x - (sum(data) / len(data)))**2 for x in data])) / len(data)\n",
    "variance"
   ]
  },
  {
   "cell_type": "code",
   "execution_count": 23,
   "metadata": {},
   "outputs": [
    {
     "name": "stdout",
     "output_type": "stream",
     "text": [
      "[5]\n"
     ]
    }
   ],
   "source": [
    "calc.print_data()"
   ]
  },
  {
   "cell_type": "code",
   "execution_count": 69,
   "metadata": {},
   "outputs": [
    {
     "data": {
      "text/plain": [
       "1.707825127659933"
      ]
     },
     "execution_count": 69,
     "metadata": {},
     "output_type": "execute_result"
    }
   ],
   "source": [
    "calc.stand_dev"
   ]
  },
  {
   "cell_type": "code",
   "execution_count": 31,
   "metadata": {},
   "outputs": [
    {
     "data": {
      "text/plain": [
       "4.0"
      ]
     },
     "execution_count": 31,
     "metadata": {},
     "output_type": "execute_result"
    }
   ],
   "source": [
    "round(3.5, 0)"
   ]
  },
  {
   "cell_type": "code",
   "execution_count": 70,
   "metadata": {},
   "outputs": [
    {
     "data": {
      "text/plain": [
       "3.5"
      ]
     },
     "execution_count": 70,
     "metadata": {},
     "output_type": "execute_result"
    }
   ],
   "source": [
    "calc.mean"
   ]
  },
  {
   "cell_type": "code",
   "execution_count": 71,
   "metadata": {},
   "outputs": [
    {
     "data": {
      "text/plain": [
       "5.5"
      ]
     },
     "execution_count": 71,
     "metadata": {},
     "output_type": "execute_result"
    }
   ],
   "source": [
    "calc.median"
   ]
  },
  {
   "cell_type": "code",
   "execution_count": 76,
   "metadata": {},
   "outputs": [
    {
     "data": {
      "text/plain": [
       "5.744562646538029"
      ]
     },
     "execution_count": 76,
     "metadata": {},
     "output_type": "execute_result"
    }
   ],
   "source": [
    "33**(1/2)"
   ]
  },
  {
   "cell_type": "code",
   "execution_count": 77,
   "metadata": {},
   "outputs": [
    {
     "data": {
      "text/plain": [
       "5.744562646538029"
      ]
     },
     "execution_count": 77,
     "metadata": {},
     "output_type": "execute_result"
    }
   ],
   "source": [
    "import math\n",
    "math.sqrt(33)"
   ]
  },
  {
   "cell_type": "code",
   "execution_count": null,
   "metadata": {},
   "outputs": [],
   "source": []
  }
 ],
 "metadata": {
  "kernelspec": {
   "display_name": "Python 3",
   "language": "python",
   "name": "python3"
  },
  "language_info": {
   "codemirror_mode": {
    "name": "ipython",
    "version": 3
   },
   "file_extension": ".py",
   "mimetype": "text/x-python",
   "name": "python",
   "nbconvert_exporter": "python",
   "pygments_lexer": "ipython3",
   "version": "3.7.4"
  }
 },
 "nbformat": 4,
 "nbformat_minor": 2
}
