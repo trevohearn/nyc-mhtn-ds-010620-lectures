{
 "cells": [
  {
   "cell_type": "code",
   "execution_count": 11,
   "metadata": {},
   "outputs": [
    {
     "name": "stdout",
     "output_type": "stream",
     "text": [
      "[9, 99, 181, 83, 65, 39, 2]\n"
     ]
    },
    {
     "data": {
      "text/plain": [
       "<Figure size 640x480 with 1 Axes>"
      ]
     },
     "metadata": {},
     "output_type": "display_data"
    }
   ],
   "source": [
    "### Album import\n",
    "\n",
    "import csv\n",
    "file_name = 'data.csv'\n",
    "albums = []\n",
    "with open(file_name) as f:\n",
    "        # we are using DictReader because we want our information to be in dictionary format.\n",
    "        reader = csv.DictReader(f)\n",
    "        for row in reader: #each row is an orderered dictionary\n",
    "            albums.append(dict(row))\n",
    "#{'number': '1', 'year': '1967', 'album': \"Sgt. Pepper's Lonely Hearts Club Band\", \n",
    "#'artist': 'The Beatles', 'genre': 'Rock', 'subgenre': 'Rock & Roll, Psychedelic Rock'}\n",
    "\n",
    "\n",
    "### SEARCHING FUNCTIONS\n",
    "\n",
    "#takes in string\n",
    "#returns dictionary of album of string\n",
    "def find_by_name(name, key='album', data=albums):\n",
    "    return list(filter(lambda x: x[key] == name, data))\n",
    "#find_by_name('the beatles', 'artist')\n",
    "\n",
    "#takes in number for rank\n",
    "#returns dictionary of albums \n",
    "#returns None if no album found\n",
    "def find_by_rank(rank, key='number', data=albums):\n",
    "    li = list(filter(lambda x: x[key] == str(rank), data))\n",
    "    if (li == []): #nothing found\n",
    "        return None\n",
    "    return li\n",
    "\n",
    "#given start rank and end rank\n",
    "#return list of dictionary of albums between start and end\n",
    "#return empty list if none found\n",
    "def find_by_ranks(start, end, rank='number', data=albums):\n",
    "    li = []\n",
    "    li = list(map(lambda x: find_by_rank(x, rank, data), range(start,end)))\n",
    "    return li\n",
    "\n",
    "\n",
    "#\n",
    "def find_by_year(year, data=albums):\n",
    "    if type(year) != int: # this loop tests that the user inserted a number\n",
    "        print(\"Please enter an integer year\")\n",
    "        sys.exit()\n",
    "        \n",
    "    album_list_for_that_year = []\n",
    "    year_str = str(year)\n",
    "    \n",
    "    for album in data: # this loops through each year \n",
    "        if album['year'] == year_str:\n",
    "            album_list_for_that_year.append(album['album'])\n",
    "    return album_list_for_that_year\n",
    "\n",
    "\n",
    "def find_by_years(year1, year2, data=albums):\n",
    "    if type(year1) != int or type(year2) != int: # this loop tests that the user inserted a number\n",
    "        print(\"Please enter an integer year\")\n",
    "        sys.exit()\n",
    "   \n",
    "    full_list_of_albums_between_year = []\n",
    "    # looping through each year (as an int) between year1 and year2\n",
    "    \n",
    "    for year in range(year1, year2 + 1):\n",
    "        year_str1 = str(year1)\n",
    "        year_str2 = str(year2)\n",
    "        list_of_albums_for_one_year = find_by_year(year, data)\n",
    "        full_list_of_albums_between_year.extend(list_of_albums_for_one_year)\n",
    "    return full_list_of_albums_between_year\n",
    "#\n",
    "\n",
    "\n",
    "### ALL FUNCTIONS\n",
    "def all_titles(key='album', data=albums):\n",
    "    # using a list comprehension to get the name (which means album)\n",
    "    title_list = [album[key] for album in data]\n",
    "    return title_list\n",
    "\n",
    "def all_artists(key='artist', data=albums):\n",
    "    # using a list comprehension to get the name (which means album)\n",
    "    artist_list = [album[key] for album in data]\n",
    "    return artist_list\n",
    "\n",
    "### Q & A FUNCTIONS\n",
    "#\n",
    "def artist_with_most_albums(key='artist',data=albums):\n",
    "    artist_with_highest_number_of_albums = None\n",
    "    #Get artist list\n",
    "    artists = all_artists(key, data)\n",
    "    #Add the artists to a dictionary and loop over the original data (albums)\n",
    "    artist_dict_with_album_counts = {artist:0 for artist in artists}\n",
    "\n",
    "    # Getting the album count for all of the artists in a dictionary\n",
    "    for k,value in artist_dict_with_album_counts.items():\n",
    "        album_count = len(list(filter(lambda x: x[key] == k, data)))\n",
    "        artist_dict_with_album_counts[k] = album_count\n",
    "    \n",
    "    # pull highest value from dictionary\n",
    "    all_values = list(artist_dict_with_album_counts.values())\n",
    "    highest_number_of_albums = max(all_values)\n",
    "    \n",
    "    # limiting the list to keys with values equal to highest_number_of_albums\n",
    "    highest_num_of_albums_dict = {k:value for k,value in artist_dict_with_album_counts.items() if value == highest_number_of_albums}\n",
    "    \n",
    "    # getting the keys from the highest_num_of_albums_dict dictionary\n",
    "    artist_with_highest_number_of_albums = list(highest_num_of_albums_dict.keys())\n",
    "    \n",
    "    return artist_with_highest_number_of_albums\n",
    "\n",
    "def most_popular_word(key='artist', data=albums):\n",
    "    most_popular_word = \"\"\n",
    "    album_titles_all = all_titles(key, data)\n",
    "    #print(album_titles_all)\n",
    "    word_list = []\n",
    "    for item in album_titles_all:\n",
    "        split_list = item.split()\n",
    "        word_list.extend(split_list)\n",
    "    \n",
    "    # getting all of the words and their counts\n",
    "    word_dictionary = {x:word_list.count(x) for x in word_list}\n",
    "    \n",
    "    # pull highest value from dictionary\n",
    "    all_values = list(word_dictionary.values())\n",
    "    most_used_word = max(all_values)\n",
    "    print(most_used_word)\n",
    "    \n",
    "    # limiting the list to keys with values equal to highest_number_of_albums\n",
    "    only_most_used_word_dict = {k:value for k,value in word_dictionary.items() if value == most_used_word}\n",
    "    \n",
    "    # getting the keys from the only_most_used_word_dict dictionary\n",
    "    most_popular_word = list(only_most_used_word_dict.keys())\n",
    "    \n",
    "    return most_popular_word\n",
    "#\n",
    "\n",
    "#returns a histogram with each decade pointing to the \n",
    "#number of albums released\n",
    "#imports needed, numpy, matplotlib\n",
    "\n",
    "def histogram_albums_decade(data=albums):\n",
    "    #list of years of all the albums\n",
    "    years = sorted(list(map(lambda x: x['year'] , data)))\n",
    "    #separate by the tens place\n",
    "    decades = {}\n",
    "    quantity = 0\n",
    "    #list(filter(lambda year : year[2] , years))\n",
    "    for year in years:\n",
    "        if (decades.get(year[2]) == None): #create new key\n",
    "            decades[year[2]] = 1\n",
    "        else:\n",
    "            decades[year[2]] += 1 #increment quantity\n",
    "    import numpy as np\n",
    "    import matplotlib.pyplot as plt\n",
    "    bins = len(list(decades.keys())) #how many bars\n",
    "    quantities = list(decades.values()) #values by bar\n",
    "    keylist = list(decades.keys())\n",
    "    print(quantities)\n",
    "    #ax = plt.subplot()\n",
    "    #ax.set_xticks(decades.keys)\n",
    "    plt.hist(years, bins, edgecolor='black')\n",
    "    plt.xlabel('Decade')\n",
    "    #ax.set_xticks(keylist)\n",
    "    #ax.set_xticklabels(range(7))\n",
    "    plt.ylabel('Quantity')\n",
    "    plt.title('Quantity of Albums per Decade')\n",
    "    #plt.xticks(np.arange(5), ('Tom', 'Dick', 'Harry', 'Sally', 'Sue'))\n",
    "    plt.show()\n",
    "histogram_albums_decade()\n",
    "def histogram_genre():\n",
    "        return None\n",
    "\n",
    "\n",
    "\n",
    "### Songs Import\n",
    "# open the text file in read\n",
    "text_file = open('top-500-songs.txt', 'r')\n",
    "lines = text_file.readlines()\n",
    "songs = []\n",
    "for line in lines:\n",
    "    data = line.split('\\n')[0].split('\\t')\n",
    "    keys = ['rank', 'name', 'artist', 'year']\n",
    "    d = dict(zip(keys, data))\n",
    "    songs.append(d)\n",
    "#songs is a list of dictionaries of the songs\n",
    "# the output will look something like this:\n",
    "#['1\\tLike a Rolling Stone\\tBob Dylan\\t1965\\n', '2\\tSatisfaction\\tThe Rolling Stones\\t1965\\n', '3\\tImagine\\tJohn Lennon\\t1971\\n', \"4\\tWhat's Going On\\tMarvin Gaye\\t1971\\n\", '5\\tRespect\\tAretha Franklin\\t1967\\n', '6\\tGood Vibrations\\tThe Beach Boys\\t1966\\n', '7\\tJohnny B. Goode\\tChuck Berry\\t1958\\n', '8\\tHey Jude\\tThe Beatles\\t1968\\n', ...]\n",
    "\n",
    "\n",
    "\n",
    "### JSON Import\n",
    "\n",
    "\n",
    "\n",
    "\n",
    "\n",
    "\n",
    "\n"
   ]
  },
  {
   "cell_type": "code",
   "execution_count": null,
   "metadata": {
    "scrolled": true
   },
   "outputs": [],
   "source": [
    "\n"
   ]
  },
  {
   "cell_type": "code",
   "execution_count": 3,
   "metadata": {},
   "outputs": [
    {
     "name": "stdout",
     "output_type": "stream",
     "text": [
      "[1955, 1956, 1957, 1957, 1958, 1959, 1959, 1959, 1959, 1960, 1960, 1960, 1961, 1962, 1963, 1963, 1963, 1963, 1963, 1964, 1964, 1964, 1964, 1965, 1965, 1965, 1965, 1965, 1965, 1965, 1965, 1965, 1965, 1965, 1965, 1965, 1966, 1966, 1966, 1966, 1966, 1966, 1966, 1966, 1966, 1966, 1966, 1966, 1966, 1967, 1967, 1967, 1967, 1967, 1967, 1967, 1967, 1967, 1967, 1967, 1967, 1967, 1967, 1967, 1967, 1967, 1967, 1968, 1968, 1968, 1968, 1968, 1968, 1968, 1968, 1968, 1968, 1968, 1968, 1968, 1968, 1968, 1968, 1968, 1968, 1968, 1968, 1969, 1969, 1969, 1969, 1969, 1969, 1969, 1969, 1969, 1969, 1969, 1969, 1969, 1969, 1969, 1969, 1969, 1969, 1969, 1969, 1969, 1970, 1970, 1970, 1970, 1970, 1970, 1970, 1970, 1970, 1970, 1970, 1970, 1970, 1970, 1970, 1970, 1970, 1970, 1970, 1970, 1970, 1970, 1970, 1970, 1970, 1970, 1971, 1971, 1971, 1971, 1971, 1971, 1971, 1971, 1971, 1971, 1971, 1971, 1971, 1971, 1971, 1971, 1971, 1971, 1971, 1971, 1971, 1972, 1972, 1972, 1972, 1972, 1972, 1972, 1972, 1972, 1972, 1972, 1972, 1972, 1972, 1972, 1972, 1972, 1972, 1972, 1972, 1972, 1972, 1973, 1973, 1973, 1973, 1973, 1973, 1973, 1973, 1973, 1973, 1973, 1973, 1973, 1973, 1973, 1973, 1973, 1973, 1973, 1973, 1973, 1973, 1973, 1974, 1974, 1974, 1974, 1974, 1974, 1974, 1974, 1974, 1974, 1974, 1974, 1974, 1974, 1975, 1975, 1975, 1975, 1975, 1975, 1975, 1975, 1975, 1975, 1975, 1975, 1975, 1975, 1975, 1975, 1975, 1975, 1976, 1976, 1976, 1976, 1976, 1976, 1976, 1976, 1976, 1976, 1976, 1976, 1977, 1977, 1977, 1977, 1977, 1977, 1977, 1977, 1977, 1977, 1977, 1977, 1977, 1977, 1977, 1977, 1977, 1978, 1978, 1978, 1978, 1978, 1978, 1978, 1978, 1978, 1978, 1978, 1978, 1978, 1978, 1979, 1979, 1979, 1979, 1979, 1979, 1979, 1979, 1979, 1979, 1979, 1979, 1979, 1979, 1980, 1980, 1980, 1980, 1980, 1980, 1980, 1980, 1980, 1981, 1981, 1981, 1981, 1981, 1981, 1982, 1982, 1982, 1982, 1982, 1982, 1983, 1983, 1983, 1983, 1983, 1983, 1984, 1984, 1984, 1984, 1984, 1984, 1984, 1984, 1984, 1984, 1985, 1985, 1985, 1985, 1985, 1985, 1985, 1985, 1985, 1985, 1985, 1986, 1986, 1986, 1986, 1986, 1986, 1986, 1986, 1986, 1987, 1987, 1987, 1987, 1987, 1987, 1987, 1987, 1987, 1987, 1987, 1988, 1988, 1988, 1988, 1988, 1988, 1989, 1989, 1989, 1989, 1989, 1989, 1989, 1989, 1989, 1990, 1990, 1990, 1990, 1991, 1991, 1991, 1991, 1991, 1991, 1991, 1991, 1991, 1991, 1991, 1992, 1992, 1992, 1992, 1992, 1992, 1993, 1993, 1993, 1993, 1993, 1994, 1994, 1994, 1994, 1994, 1994, 1994, 1994, 1994, 1994, 1994, 1994, 1994, 1994, 1994, 1994, 1995, 1995, 1995, 1995, 1996, 1996, 1996, 1996, 1997, 1997, 1997, 1997, 1997, 1998, 1998, 1998, 1998, 1999, 1999, 1999, 1999, 1999, 1999, 2000, 2000, 2000, 2000, 2000, 2000, 2000, 2001, 2001, 2001, 2001, 2001, 2001, 2001, 2001, 2001, 2002, 2002, 2002, 2002, 2002, 2002, 2003, 2003, 2003, 2003, 2004, 2004, 2005, 2005, 2006, 2006, 2006, 2007, 2007, 2007, 2007, 2007, 2008, 2010, 2011]\n"
     ]
    }
   ],
   "source": [
    "#list of years of all the albums\n",
    "years = sorted(list(map(lambda x: int(x['year']) , albums)))\n",
    "#years_sorted = years.sort()\n",
    "print(years)\n",
    "data = {} # dictionary of decades and how many albums in that decade\n",
    "curdecade = 0 #current decade \n",
    "quantity = 1 #amount of albums in that decade\n",
    "for year in years:\n",
    "    newdecade = int(year) // 10 % 10\n",
    "    if (curdecade != newdecade): #new decade, put quantity in dict\n",
    "        curdecade = newdecade\n",
    "        data[str(curdecade)] = quantity\n",
    "        quantity = 1 #reset amount\n",
    "    else: #album in same decade, add one to quantity\n",
    "        quantity += 1"
   ]
  },
  {
   "cell_type": "code",
   "execution_count": 4,
   "metadata": {},
   "outputs": [
    {
     "data": {
      "text/plain": [
       "{'5': 9, '6': 99, '7': 181, '8': 83, '9': 65, '0': 39, '1': 2}"
      ]
     },
     "execution_count": 4,
     "metadata": {},
     "output_type": "execute_result"
    }
   ],
   "source": [
    "#list of years of all the albums\n",
    "years = sorted(list(map(lambda x: x['year'] , albums)))\n",
    "#separate by the tens place\n",
    "decades = {}\n",
    "quantity = 0\n",
    "#list(filter(lambda year : year[2] , years))\n",
    "for year in years:\n",
    "    if (decades.get(year[2]) == None): #create new key\n",
    "        decades[year[2]] = 1\n",
    "    else:\n",
    "        decades[year[2]] += 1 #increment quantity\n",
    "decades"
   ]
  },
  {
   "cell_type": "code",
   "execution_count": 5,
   "metadata": {},
   "outputs": [
    {
     "data": {
      "text/plain": [
       "7"
      ]
     },
     "execution_count": 5,
     "metadata": {},
     "output_type": "execute_result"
    }
   ],
   "source": [
    "1967 % 10"
   ]
  },
  {
   "cell_type": "code",
   "execution_count": 6,
   "metadata": {},
   "outputs": [
    {
     "data": {
      "text/plain": [
       "0"
      ]
     },
     "execution_count": 6,
     "metadata": {},
     "output_type": "execute_result"
    }
   ],
   "source": [
    "(2006 // 10 % 10)\n"
   ]
  },
  {
   "cell_type": "code",
   "execution_count": 89,
   "metadata": {},
   "outputs": [
    {
     "name": "stdout",
     "output_type": "stream",
     "text": [
      "[1, 2, 3, 3, 4, 5, 6]\n"
     ]
    }
   ],
   "source": [
    "y = [3,1,4,2,5,3,6]\n",
    "y.sort()\n",
    "print(y)"
   ]
  },
  {
   "cell_type": "code",
   "execution_count": 12,
   "metadata": {},
   "outputs": [
    {
     "name": "stdout",
     "output_type": "stream",
     "text": [
      "[9, 99, 181, 83, 65, 39, 2]\n"
     ]
    },
    {
     "data": {
      "image/png": "[encoded data removed]",
      "text/plain": [
       "<Figure size 432x288 with 1 Axes>"
      ]
     },
     "metadata": {
      "needs_background": "light"
     },
     "output_type": "display_data"
    }
   ],
   "source": [
    "#list of years of all the albums\n",
    "    years = sorted(list(map(lambda x: x['year'] , albums)))\n",
    "    #separate by the tens place\n",
    "    decades = {}\n",
    "    quantity = 0\n",
    "    #list(filter(lambda year : year[2] , years))\n",
    "    for year in years:\n",
    "        if (decades.get(year[2]) == None): #create new key\n",
    "            decades[year[2]] = 1\n",
    "        else:\n",
    "            decades[year[2]] += 1 #increment quantity\n",
    "    import numpy as np\n",
    "    import matplotlib.pyplot as plt\n",
    "    bins = len(list(decades.keys())) #how many bars\n",
    "    quantities = list(decades.values()) #values by bar\n",
    "    keylist = list(decades.keys())\n",
    "    print(quantities)\n",
    "    #ax = plt.subplot()\n",
    "    #ax.set_xticks(decades.keys)\n",
    "    plt.hist(years, bins, edgecolor='black')\n",
    "    plt.xlabel('Decade')\n",
    "    #ax.set_xticks(keylist)\n",
    "    #ax.set_xticklabels(range(7))\n",
    "    plt.ylabel('Quantity')\n",
    "    plt.title('Quantity of Albums per Decade')\n",
    "    #plt.xticks(np.arange(5), ('Tom', 'Dick', 'Harry', 'Sally', 'Sue'))\n",
    "    plt.show()"
   ]
  },
  {
   "cell_type": "code",
   "execution_count": null,
   "metadata": {},
   "outputs": [],
   "source": []
  }
 ],
 "metadata": {
  "kernelspec": {
   "display_name": "Python [conda env:learn-env] *",
   "language": "python",
   "name": "conda-env-learn-env-py"
  },
  "language_info": {
   "codemirror_mode": {
    "name": "ipython",
    "version": 3
   },
   "file_extension": ".py",
   "mimetype": "text/x-python",
   "name": "python",
   "nbconvert_exporter": "python",
   "pygments_lexer": "ipython3",
   "version": "3.6.9"
  }
 },
 "nbformat": 4,
 "nbformat_minor": 2
}
