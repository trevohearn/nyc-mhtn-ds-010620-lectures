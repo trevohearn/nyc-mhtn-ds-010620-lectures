{
 "cells": [
  {
   "cell_type": "code",
   "execution_count": 48,
   "metadata": {},
   "outputs": [],
   "source": [
    "import config\n",
    "import mysql.connector\n",
    "from mysql.connector import errorcode\n",
    "import requests\n",
    "import json\n",
    "import pandas as pd\n",
    "\n",
    "#set up connection to database\n",
    "#\n",
    "# cnx = mysql.connector.connect(\n",
    "#     host = endpoint,\n",
    "#     user = name,\n",
    "#     passwd = password,\n",
    "# )\n",
    "#create cursor for sql calls\n",
    "#cur = cnx.cursor()\n",
    "#headers = {'Authorization' : 'bearer %s'% config.ApiKeys['OMDB']['ApiKey']}\n",
    "#data = requests.get(url, params=args, headers=headers)\n",
    "\n",
    "url = 'http://www.omdbapi.com/?apikey='\n",
    "args = {'s' : '''type' : 'movie', 'y':'2011', 'plot':'short'}\n",
    "\n",
    "#def omdbRequest(url, args):\n",
    "e2 = 'http://www.omdbapi.com/?&apikey=4079cb8c&y=2010'\n",
    "example = 'http://www.omdbapi.com/?apikey=4079cb8c&type=movie&y=2011'\n",
    "data6 = requests.get(e2)\n",
    "#data4 = requests.get(url + config.ApiKeys['OMDB']['ApiKey'], params=args)\n",
    "\n",
    "#data = omdbRequest(url, args)"
   ]
  },
  {
   "cell_type": "code",
   "execution_count": 49,
   "metadata": {},
   "outputs": [
    {
     "data": {
      "text/plain": [
       "{'Response': 'False', 'Error': 'Something went wrong.'}"
      ]
     },
     "execution_count": 49,
     "metadata": {},
     "output_type": "execute_result"
    }
   ],
   "source": [
    "data6.json()"
   ]
  },
  {
   "cell_type": "code",
   "execution_count": 29,
   "metadata": {},
   "outputs": [
    {
     "data": {
      "text/plain": [
       "{'Title': 'Guardians of the Galaxy Vol. 2',\n",
       " 'Year': '2017',\n",
       " 'Rated': 'PG-13',\n",
       " 'Released': '05 May 2017',\n",
       " 'Runtime': '136 min',\n",
       " 'Genre': 'Action, Adventure, Comedy, Sci-Fi',\n",
       " 'Director': 'James Gunn',\n",
       " 'Writer': 'James Gunn, Dan Abnett (based on the Marvel comics by), Andy Lanning (based on the Marvel comics by), Steve Englehart (Star-Lord created by), Steve Gan (Star-Lord created by), Jim Starlin (Gamora and Drax created by), Stan Lee (Groot created by), Larry Lieber (Groot created by), Jack Kirby (Groot created by), Bill Mantlo (Rocket Raccoon created by), Keith Giffen (Rocket Raccoon created by), Steve Gerber (Howard the Duck created by), Val Mayerik (Howard the Duck created by)',\n",
       " 'Actors': 'Chris Pratt, Zoe Saldana, Dave Bautista, Vin Diesel',\n",
       " 'Plot': \"The Guardians struggle to keep together as a team while dealing with their personal family issues, notably Star-Lord's encounter with his father the ambitious celestial being Ego.\",\n",
       " 'Language': 'English',\n",
       " 'Country': 'USA',\n",
       " 'Awards': 'Nominated for 1 Oscar. Another 14 wins & 52 nominations.',\n",
       " 'Poster': 'https://m.media-amazon.com/images/M/MV5BNjM0NTc0NzItM2FlYS00YzEwLWE0YmUtNTA2ZWIzODc2OTgxXkEyXkFqcGdeQXVyNTgwNzIyNzg@._V1_SX300.jpg',\n",
       " 'Ratings': [{'Source': 'Internet Movie Database', 'Value': '7.6/10'},\n",
       "  {'Source': 'Rotten Tomatoes', 'Value': '85%'},\n",
       "  {'Source': 'Metacritic', 'Value': '67/100'}],\n",
       " 'Metascore': '67',\n",
       " 'imdbRating': '7.6',\n",
       " 'imdbVotes': '518,435',\n",
       " 'imdbID': 'tt3896198',\n",
       " 'Type': 'movie',\n",
       " 'DVD': '22 Aug 2017',\n",
       " 'BoxOffice': '$389,804,217',\n",
       " 'Production': 'Walt Disney Pictures',\n",
       " 'Website': 'N/A',\n",
       " 'Response': 'True'}"
      ]
     },
     "execution_count": 29,
     "metadata": {},
     "output_type": "execute_result"
    }
   ],
   "source": [
    "data3.json()"
   ]
  },
  {
   "cell_type": "code",
   "execution_count": null,
   "metadata": {},
   "outputs": [],
   "source": []
  }
 ],
 "metadata": {
  "kernelspec": {
   "display_name": "Python 3",
   "language": "python",
   "name": "python3"
  },
  "language_info": {
   "codemirror_mode": {
    "name": "ipython",
    "version": 3
   },
   "file_extension": ".py",
   "mimetype": "text/x-python",
   "name": "python",
   "nbconvert_exporter": "python",
   "pygments_lexer": "ipython3",
   "version": "3.7.4"
  }
 },
 "nbformat": 4,
 "nbformat_minor": 2
}
