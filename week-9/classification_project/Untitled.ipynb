{
 "cells": [
  {
   "cell_type": "markdown",
   "metadata": {},
   "source": [
    "# Business Understanding"
   ]
  },
  {
   "cell_type": "code",
   "execution_count": null,
   "metadata": {},
   "outputs": [],
   "source": []
  },
  {
   "cell_type": "code",
   "execution_count": null,
   "metadata": {},
   "outputs": [],
   "source": []
  },
  {
   "cell_type": "code",
   "execution_count": null,
   "metadata": {},
   "outputs": [],
   "source": []
  },
  {
   "cell_type": "markdown",
   "metadata": {},
   "source": [
    "# Data Understanding"
   ]
  },
  {
   "cell_type": "markdown",
   "metadata": {},
   "source": [
    "Age : Ranges -> 18 - 24, 25 - 34, 35 - 44, 45 - 54, 55 - 64, 65+\\n\",\n",
    "    \"Gender : Female, Male\n",
    "    Education : Drop out < 16, Drop out 17, Drop out 18, some college/no certificate, prof cert / diploma, university degree, masters degree, doctorate degree\n",
    "    \"Country : Australia, Canada, New Zealand, Other, Republic of Ireland, UK, USA\n",
    "    \"Ethnicity : Asian, Black, Mixed-Black/Asian, Mixed-White/Asian, Mixed-White/Black, Other, White\",\n",
    "\n",
    "Nscore : Neuroticism (N)refers to the chronic level of emotional adjustment and instability. High N identifies individuals who are prone to psychological distress\n",
    "    \n",
    "Escore : Extraversion (E) - refers to the quantity and intensity of preferred interpersonal interactions, activity level, need for stimulation, and capacity for joy. High E identifies individuals who tend to be sociable, active, talkative, person oriented, optimistic, fun loving, and affectionate.\\n\",\n",
    "\n",
    "Oscore : Openness to Experience (O) - refers to the active seeking and appreciation of experiences for their own sake. High O identifies individuals who are curious, imaginative, and willing to entertain novel ideas and unconventional values.\\n\",\n",
    "\n",
    "Ascore : Agreeableness (A) - refers to the kinds of interactions an individual prefers along a continuum from compassion to antagonism. High A identifies individuals who tend to be soft-hearted, good natured, trusting, helpful, forgiving, and altruistic.\\n\",\n",
    "\n",
    "Cscore : Conscientiousness (C) - assesses the degree of organization, persistence, control, motivation in goal-directed behaviour. High C identifies individuals who tend to be organized, reliable, hard-working, self-directed, punctual, scrupulous, ambitious, and persevering.\\n\",\n",
    "\n",
    "Impulsive : Determines how impulsive a person is based on a questionairre (24?s) BIS-11 : Items are scored on a 4-point scale: Rarely/Never = 1, Occasionally = 2, Often = 3, Almost Always/Always = 4\\n\",\n",
    "\n",
    "SS : Impulsive Sensation Seeking -\n",
    "\n",
    "Alcohol, AmphetAmyl, Benzos, Caff, Cannabis, Choc, Coke, Crack, Ecstacy, Heroin, Ketamine, Legalh, LSD, Meth, Mushrooms, Nicotine, Semer, VSA\n",
    "     0 : Never used\n",
    "     1 : over a decade ago\n",
    "     2 : last decade\n",
    "     3 : last year\n",
    "     4 : last month\n",
    "     5 : last week\n",
    "     6 : last day\n",
    "     \n",
    "Basic Attributes:\n",
    "AGE, GENDER, EDUCATION, COUNTRY, ETHNICITY\n",
    "\n",
    "Mental Attributes:\n",
    "NEROTICISM, EXTRAVERSION, OPENNESS, AGREEABLE, CONSCIENTIOUS, IMPULSIVE, SS\n",
    "     \n",
    "classify target variable: -> hard vs mild multi-classification project\n",
    "    mild -> alcohol, caffeine, nicotine, cannabis\n",
    "    hard -> meth, heroin, crack, ketamine, coke, amphetamine, amyl, benzos, ecstasy, LSD, mushrooms, legalh, VSA"
   ]
  },
  {
   "cell_type": "code",
   "execution_count": null,
   "metadata": {},
   "outputs": [],
   "source": []
  },
  {
   "cell_type": "code",
   "execution_count": null,
   "metadata": {},
   "outputs": [],
   "source": []
  },
  {
   "cell_type": "markdown",
   "metadata": {},
   "source": [
    "# Data Preparation"
   ]
  },
  {
   "cell_type": "code",
   "execution_count": null,
   "metadata": {},
   "outputs": [],
   "source": []
  },
  {
   "cell_type": "code",
   "execution_count": null,
   "metadata": {},
   "outputs": [],
   "source": []
  },
  {
   "cell_type": "code",
   "execution_count": null,
   "metadata": {},
   "outputs": [],
   "source": []
  },
  {
   "cell_type": "markdown",
   "metadata": {},
   "source": [
    "# Modeling"
   ]
  },
  {
   "cell_type": "code",
   "execution_count": null,
   "metadata": {},
   "outputs": [],
   "source": []
  },
  {
   "cell_type": "code",
   "execution_count": null,
   "metadata": {},
   "outputs": [],
   "source": []
  },
  {
   "cell_type": "code",
   "execution_count": null,
   "metadata": {},
   "outputs": [],
   "source": []
  },
  {
   "cell_type": "markdown",
   "metadata": {},
   "source": [
    "# Evaluation"
   ]
  },
  {
   "cell_type": "code",
   "execution_count": null,
   "metadata": {},
   "outputs": [],
   "source": []
  },
  {
   "cell_type": "code",
   "execution_count": null,
   "metadata": {},
   "outputs": [],
   "source": []
  },
  {
   "cell_type": "code",
   "execution_count": null,
   "metadata": {},
   "outputs": [],
   "source": []
  },
  {
   "cell_type": "code",
   "execution_count": null,
   "metadata": {},
   "outputs": [],
   "source": []
  }
 ],
 "metadata": {
  "kernelspec": {
   "display_name": "Python 3",
   "language": "python",
   "name": "python3"
  },
  "language_info": {
   "codemirror_mode": {
    "name": "ipython",
    "version": 3
   },
   "file_extension": ".py",
   "mimetype": "text/x-python",
   "name": "python",
   "nbconvert_exporter": "python",
   "pygments_lexer": "ipython3",
   "version": "3.7.4"
  },
  "toc": {
   "base_numbering": 1,
   "nav_menu": {},
   "number_sections": true,
   "sideBar": true,
   "skip_h1_title": false,
   "title_cell": "Table of Contents",
   "title_sidebar": "Contents",
   "toc_cell": false,
   "toc_position": {},
   "toc_section_display": true,
   "toc_window_display": false
  }
 },
 "nbformat": 4,
 "nbformat_minor": 2
}
