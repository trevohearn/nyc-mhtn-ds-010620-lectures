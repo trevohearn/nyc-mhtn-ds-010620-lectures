{
 "cells": [
  {
   "cell_type": "code",
   "execution_count": 24,
   "metadata": {},
   "outputs": [],
   "source": [
    "def sequenceSum(begin, end, step):\n",
    "    if (begin > end):\n",
    "        return 0\n",
    "    curval = begin\n",
    "    li = [begin]\n",
    "    \n",
    "    while curval < end :\n",
    "        curval += step\n",
    "        if (curval > end):\n",
    "            break\n",
    "        li.append(curval)\n",
    "    print(sum(li))"
   ]
  },
  {
   "cell_type": "code",
   "execution_count": 25,
   "metadata": {},
   "outputs": [
    {
     "name": "stdout",
     "output_type": "stream",
     "text": [
      "2\n",
      "12\n",
      "15\n",
      "5\n"
     ]
    },
    {
     "data": {
      "text/plain": [
       "False"
      ]
     },
     "execution_count": 25,
     "metadata": {},
     "output_type": "execute_result"
    }
   ],
   "source": [
    "\n",
    "sequenceSum(2,2,2) == 2\n",
    "sequenceSum(2,6,2) == 12 // 2 + 4 + 6\n",
    "sequenceSum(1,5,1) == 15 // 1 + 2 + 3 + 4 + 5\n",
    "sequenceSum(1,5,3) == 5 // 1 + 4"
   ]
  },
  {
   "cell_type": "code",
   "execution_count": 3,
   "metadata": {},
   "outputs": [],
   "source": [
    "def max_ball(v0):\n",
    "    t = 0\n",
    "    g = 9.81\n",
    "    h = v0 * t - .5 * g * t * t\n",
    "    #v0 * t - .5 * g * t * t\n",
    "    li = []\n",
    "    while h >= 0 :\n",
    "        h = v0 * t - .5 * g * t * t  \n",
    "        li.append(h)\n",
    "        t += 1\n",
    "    count = 1\n",
    "    cur = li[0]\n",
    "    next = li[1]\n",
    "    while cur < next :\n",
    "        count += 1\n",
    "        cur = next\n",
    "        next = li[count]\n",
    "    \n",
    "    return count"
   ]
  },
  {
   "cell_type": "code",
   "execution_count": 4,
   "metadata": {},
   "outputs": [
    {
     "data": {
      "text/plain": [
       "[0.0,\n",
       " 32.095,\n",
       " 54.379999999999995,\n",
       " 66.855,\n",
       " 69.52,\n",
       " 62.374999999999986,\n",
       " 45.420000000000016,\n",
       " 18.655,\n",
       " -17.920000000000016]"
      ]
     },
     "execution_count": 4,
     "metadata": {},
     "output_type": "execute_result"
    }
   ],
   "source": [
    "max_ball(37)"
   ]
  },
  {
   "cell_type": "code",
   "execution_count": null,
   "metadata": {},
   "outputs": [],
   "source": []
  }
 ],
 "metadata": {
  "kernelspec": {
   "display_name": "Python 3",
   "language": "python",
   "name": "python3"
  },
  "language_info": {
   "codemirror_mode": {
    "name": "ipython",
    "version": 3
   },
   "file_extension": ".py",
   "mimetype": "text/x-python",
   "name": "python",
   "nbconvert_exporter": "python",
   "pygments_lexer": "ipython3",
   "version": "3.7.4"
  },
  "toc": {
   "base_numbering": 1,
   "nav_menu": {},
   "number_sections": true,
   "sideBar": true,
   "skip_h1_title": false,
   "title_cell": "Table of Contents",
   "title_sidebar": "Contents",
   "toc_cell": false,
   "toc_position": {},
   "toc_section_display": true,
   "toc_window_display": false
  }
 },
 "nbformat": 4,
 "nbformat_minor": 2
}
