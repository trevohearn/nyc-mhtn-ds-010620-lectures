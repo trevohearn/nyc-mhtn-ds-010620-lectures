{
 "cells": [
  {
   "cell_type": "code",
   "execution_count": 91,
   "metadata": {},
   "outputs": [],
   "source": [
    "import pandas as pd\n",
    "import matplotlib.pyplot as plt\n",
    "import numpy as np\n",
    "import scipy.stats as stats\n",
    "import seaborn as sns\n",
    "import math as m\n",
    "%matplotlib inline"
   ]
  },
  {
   "cell_type": "code",
   "execution_count": 159,
   "metadata": {},
   "outputs": [],
   "source": [
    "df = pd.read_csv('case_study.csv', index_col=0)"
   ]
  },
  {
   "cell_type": "code",
   "execution_count": 4,
   "metadata": {},
   "outputs": [
    {
     "data": {
      "text/html": [
       "<div>\n",
       "<style scoped>\n",
       "    .dataframe tbody tr th:only-of-type {\n",
       "        vertical-align: middle;\n",
       "    }\n",
       "\n",
       "    .dataframe tbody tr th {\n",
       "        vertical-align: top;\n",
       "    }\n",
       "\n",
       "    .dataframe thead th {\n",
       "        text-align: right;\n",
       "    }\n",
       "</style>\n",
       "<table border=\"1\" class=\"dataframe\">\n",
       "  <thead>\n",
       "    <tr style=\"text-align: right;\">\n",
       "      <th></th>\n",
       "      <th>_STATE</th>\n",
       "      <th>FMONTH</th>\n",
       "      <th>IDATE</th>\n",
       "      <th>IMONTH</th>\n",
       "      <th>IDAY</th>\n",
       "      <th>IYEAR</th>\n",
       "      <th>DISPCODE</th>\n",
       "      <th>SEQNO</th>\n",
       "      <th>_PSU</th>\n",
       "      <th>CTELENM1</th>\n",
       "      <th>...</th>\n",
       "      <th>_PA300R2</th>\n",
       "      <th>_PA30021</th>\n",
       "      <th>_PASTRNG</th>\n",
       "      <th>_PAREC1</th>\n",
       "      <th>_PASTAE1</th>\n",
       "      <th>_RFSEAT2</th>\n",
       "      <th>_RFSEAT3</th>\n",
       "      <th>_FLSHOT6</th>\n",
       "      <th>_PNEUMO2</th>\n",
       "      <th>_AIDTST3</th>\n",
       "    </tr>\n",
       "  </thead>\n",
       "  <tbody>\n",
       "    <tr>\n",
       "      <td>49938</td>\n",
       "      <td>9.0</td>\n",
       "      <td>5.0</td>\n",
       "      <td>5172017</td>\n",
       "      <td>5</td>\n",
       "      <td>17</td>\n",
       "      <td>2017</td>\n",
       "      <td>1200.0</td>\n",
       "      <td>2017000001</td>\n",
       "      <td>2.017000e+09</td>\n",
       "      <td>NaN</td>\n",
       "      <td>...</td>\n",
       "      <td>2.0</td>\n",
       "      <td>2.0</td>\n",
       "      <td>2.0</td>\n",
       "      <td>4.0</td>\n",
       "      <td>2.0</td>\n",
       "      <td>1.0</td>\n",
       "      <td>1.0</td>\n",
       "      <td>NaN</td>\n",
       "      <td>NaN</td>\n",
       "      <td>1.0</td>\n",
       "    </tr>\n",
       "    <tr>\n",
       "      <td>49939</td>\n",
       "      <td>9.0</td>\n",
       "      <td>2.0</td>\n",
       "      <td>2142017</td>\n",
       "      <td>2</td>\n",
       "      <td>14</td>\n",
       "      <td>2017</td>\n",
       "      <td>1200.0</td>\n",
       "      <td>2017000002</td>\n",
       "      <td>2.017000e+09</td>\n",
       "      <td>NaN</td>\n",
       "      <td>...</td>\n",
       "      <td>1.0</td>\n",
       "      <td>1.0</td>\n",
       "      <td>1.0</td>\n",
       "      <td>1.0</td>\n",
       "      <td>1.0</td>\n",
       "      <td>2.0</td>\n",
       "      <td>2.0</td>\n",
       "      <td>NaN</td>\n",
       "      <td>NaN</td>\n",
       "      <td>2.0</td>\n",
       "    </tr>\n",
       "    <tr>\n",
       "      <td>49940</td>\n",
       "      <td>9.0</td>\n",
       "      <td>1.0</td>\n",
       "      <td>1292017</td>\n",
       "      <td>1</td>\n",
       "      <td>29</td>\n",
       "      <td>2017</td>\n",
       "      <td>1200.0</td>\n",
       "      <td>2017000003</td>\n",
       "      <td>2.017000e+09</td>\n",
       "      <td>NaN</td>\n",
       "      <td>...</td>\n",
       "      <td>3.0</td>\n",
       "      <td>2.0</td>\n",
       "      <td>1.0</td>\n",
       "      <td>3.0</td>\n",
       "      <td>2.0</td>\n",
       "      <td>1.0</td>\n",
       "      <td>1.0</td>\n",
       "      <td>NaN</td>\n",
       "      <td>NaN</td>\n",
       "      <td>2.0</td>\n",
       "    </tr>\n",
       "    <tr>\n",
       "      <td>49941</td>\n",
       "      <td>9.0</td>\n",
       "      <td>7.0</td>\n",
       "      <td>9112017</td>\n",
       "      <td>9</td>\n",
       "      <td>11</td>\n",
       "      <td>2017</td>\n",
       "      <td>1200.0</td>\n",
       "      <td>2017000004</td>\n",
       "      <td>2.017000e+09</td>\n",
       "      <td>NaN</td>\n",
       "      <td>...</td>\n",
       "      <td>2.0</td>\n",
       "      <td>2.0</td>\n",
       "      <td>2.0</td>\n",
       "      <td>2.0</td>\n",
       "      <td>2.0</td>\n",
       "      <td>1.0</td>\n",
       "      <td>1.0</td>\n",
       "      <td>NaN</td>\n",
       "      <td>NaN</td>\n",
       "      <td>1.0</td>\n",
       "    </tr>\n",
       "    <tr>\n",
       "      <td>49942</td>\n",
       "      <td>9.0</td>\n",
       "      <td>5.0</td>\n",
       "      <td>7182017</td>\n",
       "      <td>7</td>\n",
       "      <td>18</td>\n",
       "      <td>2017</td>\n",
       "      <td>1200.0</td>\n",
       "      <td>2017000005</td>\n",
       "      <td>2.017000e+09</td>\n",
       "      <td>NaN</td>\n",
       "      <td>...</td>\n",
       "      <td>2.0</td>\n",
       "      <td>2.0</td>\n",
       "      <td>1.0</td>\n",
       "      <td>1.0</td>\n",
       "      <td>1.0</td>\n",
       "      <td>1.0</td>\n",
       "      <td>1.0</td>\n",
       "      <td>NaN</td>\n",
       "      <td>NaN</td>\n",
       "      <td>2.0</td>\n",
       "    </tr>\n",
       "  </tbody>\n",
       "</table>\n",
       "<p>5 rows × 358 columns</p>\n",
       "</div>"
      ],
      "text/plain": [
       "       _STATE  FMONTH    IDATE  IMONTH  IDAY  IYEAR  DISPCODE       SEQNO  \\\n",
       "49938     9.0     5.0  5172017       5    17   2017    1200.0  2017000001   \n",
       "49939     9.0     2.0  2142017       2    14   2017    1200.0  2017000002   \n",
       "49940     9.0     1.0  1292017       1    29   2017    1200.0  2017000003   \n",
       "49941     9.0     7.0  9112017       9    11   2017    1200.0  2017000004   \n",
       "49942     9.0     5.0  7182017       7    18   2017    1200.0  2017000005   \n",
       "\n",
       "               _PSU  CTELENM1  ...  _PA300R2  _PA30021  _PASTRNG  _PAREC1  \\\n",
       "49938  2.017000e+09       NaN  ...       2.0       2.0       2.0      4.0   \n",
       "49939  2.017000e+09       NaN  ...       1.0       1.0       1.0      1.0   \n",
       "49940  2.017000e+09       NaN  ...       3.0       2.0       1.0      3.0   \n",
       "49941  2.017000e+09       NaN  ...       2.0       2.0       2.0      2.0   \n",
       "49942  2.017000e+09       NaN  ...       2.0       2.0       1.0      1.0   \n",
       "\n",
       "       _PASTAE1  _RFSEAT2  _RFSEAT3  _FLSHOT6  _PNEUMO2  _AIDTST3  \n",
       "49938       2.0       1.0       1.0       NaN       NaN       1.0  \n",
       "49939       1.0       2.0       2.0       NaN       NaN       2.0  \n",
       "49940       2.0       1.0       1.0       NaN       NaN       2.0  \n",
       "49941       2.0       1.0       1.0       NaN       NaN       1.0  \n",
       "49942       1.0       1.0       1.0       NaN       NaN       2.0  \n",
       "\n",
       "[5 rows x 358 columns]"
      ]
     },
     "execution_count": 4,
     "metadata": {},
     "output_type": "execute_result"
    }
   ],
   "source": [
    "df.head()"
   ]
  },
  {
   "cell_type": "code",
   "execution_count": 5,
   "metadata": {},
   "outputs": [
    {
     "data": {
      "text/plain": [
       "(34545, 358)"
      ]
     },
     "execution_count": 5,
     "metadata": {},
     "output_type": "execute_result"
    }
   ],
   "source": [
    "df.shape"
   ]
  },
  {
   "cell_type": "code",
   "execution_count": 107,
   "metadata": {},
   "outputs": [],
   "source": [
    "#clean based on weight\n",
    "\n",
    "replace_dict = {\n",
    "            7777: np.nan,\n",
    "            9999: np.nan,\n",
    "            }\n",
    "\n",
    "df['WEIGHT2'] = df['WEIGHT2'].replace(replace_dict)\n",
    "df['WEIGHT2'] = df['WEIGHT2'].apply(lambda x : clean_to_lb(x))\n",
    "\n",
    "def clean_to_lb(x):\n",
    "    if (x >= 9000) :\n",
    "        return(x % 1000) * 2.20462\n",
    "    return x\n",
    "#df['WEIGHT2'].unique()"
   ]
  },
  {
   "cell_type": "code",
   "execution_count": 222,
   "metadata": {},
   "outputs": [],
   "source": [
    "zero_dict = {1.:\"Yes\", \n",
    "            2.: \"Yes\",\n",
    "            3.: \"No\",\n",
    "            4.: \"No\",\n",
    "            7.: \"No\",\n",
    "            9.: np.nan\n",
    "            }\n",
    "df['DIABETE3'] = df['DIABETE3'].replace(zero_dict)\n",
    "diabetes = df['DIABETE3'].dropna()"
   ]
  },
  {
   "cell_type": "code",
   "execution_count": 126,
   "metadata": {},
   "outputs": [
    {
     "data": {
      "text/plain": [
       "49938     160.0\n",
       "49939     205.0\n",
       "49940       NaN\n",
       "49941     165.0\n",
       "49942     164.0\n",
       "          ...  \n",
       "303774    170.0\n",
       "303775    130.0\n",
       "303776    215.0\n",
       "303777    138.0\n",
       "303778    195.0\n",
       "Name: WEIGHT2, Length: 34545, dtype: float64"
      ]
     },
     "execution_count": 126,
     "metadata": {},
     "output_type": "execute_result"
    }
   ],
   "source": [
    "df['WEIGHT2']"
   ]
  },
  {
   "cell_type": "code",
   "execution_count": 109,
   "metadata": {},
   "outputs": [
    {
     "data": {
      "text/plain": [
       "array(['No', 'Yes', nan], dtype=object)"
      ]
     },
     "execution_count": 109,
     "metadata": {},
     "output_type": "execute_result"
    }
   ],
   "source": [
    "df['DIABETE3'].unique()"
   ]
  },
  {
   "cell_type": "code",
   "execution_count": 110,
   "metadata": {
    "scrolled": true
   },
   "outputs": [
    {
     "data": {
      "text/plain": [
       "49938     160.0\n",
       "49939     205.0\n",
       "49940       NaN\n",
       "49941     165.0\n",
       "49942     164.0\n",
       "          ...  \n",
       "303774    170.0\n",
       "303775    130.0\n",
       "303776    215.0\n",
       "303777    138.0\n",
       "303778    195.0\n",
       "Name: WEIGHT2, Length: 34545, dtype: float64"
      ]
     },
     "execution_count": 110,
     "metadata": {},
     "output_type": "execute_result"
    }
   ],
   "source": [
    "df['WEIGHT2']"
   ]
  },
  {
   "cell_type": "markdown",
   "metadata": {},
   "source": [
    "Null Hypothesis: higher weight does not increase your chance at having diabetes"
   ]
  },
  {
   "cell_type": "code",
   "execution_count": 207,
   "metadata": {},
   "outputs": [],
   "source": [
    "dmean = df.groupby('DIABETE3')['WEIGHT2'].mean()\n",
    "dstd = df.groupby('DIABETE3')['WEIGHT2'].std()\n",
    "n = len(df['DIABETE3'])"
   ]
  },
  {
   "cell_type": "code",
   "execution_count": 65,
   "metadata": {},
   "outputs": [
    {
     "ename": "TypeError",
     "evalue": "'float' object is not callable",
     "output_type": "error",
     "traceback": [
      "\u001b[0;31m---------------------------------------------------------------------------\u001b[0m",
      "\u001b[0;31mTypeError\u001b[0m                                 Traceback (most recent call last)",
      "\u001b[0;32m<ipython-input-65-3496c185c7d4>\u001b[0m in \u001b[0;36m<module>\u001b[0;34m\u001b[0m\n\u001b[0;32m----> 1\u001b[0;31m \u001b[0mdmean\u001b[0m\u001b[0;34m[\u001b[0m\u001b[0;34m'No'\u001b[0m\u001b[0;34m]\u001b[0m \u001b[0;34m-\u001b[0m \u001b[0;36m1.96\u001b[0m\u001b[0;34m(\u001b[0m\u001b[0mdstd\u001b[0m\u001b[0;34m[\u001b[0m\u001b[0;34m'No'\u001b[0m\u001b[0;34m]\u001b[0m \u001b[0;34m/\u001b[0m \u001b[0;34m(\u001b[0m\u001b[0mn\u001b[0m\u001b[0;34m)\u001b[0m\u001b[0;34m**\u001b[0m \u001b[0;34m(\u001b[0m\u001b[0;36m1\u001b[0m\u001b[0;34m/\u001b[0m\u001b[0;36m2\u001b[0m\u001b[0;34m)\u001b[0m\u001b[0;34m)\u001b[0m\u001b[0;34m\u001b[0m\u001b[0;34m\u001b[0m\u001b[0m\n\u001b[0m",
      "\u001b[0;31mTypeError\u001b[0m: 'float' object is not callable"
     ]
    }
   ],
   "source": [
    "dmean['No'] - 1.96 * (dstd['No'] / (n)** (1/2))"
   ]
  },
  {
   "cell_type": "code",
   "execution_count": 66,
   "metadata": {},
   "outputs": [],
   "source": [
    "#x +- 1.96 (s / sqrt(n))\n",
    "\n",
    "means = {'no': [\n",
    "                dmean['No'] - 1.96 * (dstd['No'] / (n)** (1/2)) , \n",
    "                dmean['No'] + 1.96 * (dstd['No'] / (n) ** (1/2))\n",
    "               ], 'yes': [\n",
    "                dmean['Yes'] - 1.96 * (dstd['Yes'] / (n) ** (1/2)) , \n",
    "                dmean['Yes'] + 1.967 * (dstd['Yes'] / (n) ** (1/2))\n",
    "                \n",
    "]}\n",
    "\n",
    "\n",
    "    "
   ]
  },
  {
   "cell_type": "code",
   "execution_count": 67,
   "metadata": {},
   "outputs": [
    {
     "data": {
      "text/plain": [
       "{'no': [171.43811156817574, 172.3172719177832],\n",
       " 'yes': [193.64939652840727, 194.6944463148307]}"
      ]
     },
     "execution_count": 67,
     "metadata": {},
     "output_type": "execute_result"
    }
   ],
   "source": [
    "#sample mean confidence interval\n",
    "\n",
    "means"
   ]
  },
  {
   "cell_type": "code",
   "execution_count": 79,
   "metadata": {},
   "outputs": [],
   "source": [
    "no_count = df['DIABETE3'].value_counts()['No']\n",
    "ttl = df['DIABETE3'].count()\n",
    "no_prob = no_count / ttl\n",
    "yes_prob = 1 - no_prob\n",
    "interval = (no_prob - 1.96 * ((no_prob * yes_prob ) / ttl ) ** (1/2), \n",
    "            no_prob + 1.96 * ((no_prob * yes_prob ) / ttl ) ** (1/2)\n",
    "           )"
   ]
  },
  {
   "cell_type": "code",
   "execution_count": 299,
   "metadata": {},
   "outputs": [
    {
     "data": {
      "text/plain": [
       "(0.8628966157740837, 0.8700735693735419)"
      ]
     },
     "execution_count": 299,
     "metadata": {},
     "output_type": "execute_result"
    }
   ],
   "source": [
    "#sample probability confidence interval\n",
    "\n",
    "interval"
   ]
  },
  {
   "cell_type": "code",
   "execution_count": 233,
   "metadata": {},
   "outputs": [],
   "source": [
    "#clean fruit juice\n",
    "def clean_week(x) :\n",
    "    if (x < 100):\n",
    "        return round(x, 2)\n",
    "    elif (x < 200):\n",
    "        return round((x % 100), 2)\n",
    "    elif (x < 300):\n",
    "        return round((x % 100) / 7, 2)\n",
    "    elif (x == 300):\n",
    "        return 0\n",
    "    elif (x < 400):\n",
    "        return round((x % 100) / 12, 2)\n",
    "    elif (x == 555):\n",
    "        return 0\n",
    "    else:\n",
    "        return x\n",
    "def impossibru(x):\n",
    "    if ( x > 5):\n",
    "        return 0\n",
    "    else:\n",
    "        return x\n",
    "\n",
    "df['FRUITJU2-week'] = df['FRUITJU2'].apply(lambda x : clean_week(x))\n",
    "df['FRUITJU2-week-1'] = df['FRUITJU2-week'].replace(to_replace=0.00, value=np.nan)\n",
    "df['FRUITJU2-week-1-5'] = df['FRUITJU2-week-1'].apply(lambda x : impossibru(x))\n",
    "df['FRUITJU2-100'] = df['FRUITJU2-week-1-5'].apply(lambda x: x * 100)\n",
    "df['FRUITJU2-100'].dropna(inplace=True)"
   ]
  },
  {
   "cell_type": "code",
   "execution_count": 187,
   "metadata": {},
   "outputs": [
    {
     "data": {
      "text/plain": [
       "0.00     13763\n",
       "1.00      5148\n",
       "0.14      1778\n",
       "0.29      1758\n",
       "0.43      1341\n",
       "         ...  \n",
       "3.50         1\n",
       "12.00        1\n",
       "4.29         1\n",
       "0.92         1\n",
       "1.42         1\n",
       "Name: FRUITJU2-week, Length: 65, dtype: int64"
      ]
     },
     "execution_count": 187,
     "metadata": {},
     "output_type": "execute_result"
    }
   ],
   "source": [
    "\n",
    "def clean_week(x) :\n",
    "    if (x < 100):\n",
    "        return round(x, 2)\n",
    "    elif (x < 200):\n",
    "        return round((x % 100), 2)\n",
    "    elif (x < 300):\n",
    "        return round((x % 100) / 7, 2)\n",
    "    elif (x == 300):\n",
    "        return 0\n",
    "    elif (x < 400):\n",
    "        return round((x % 100) / 12, 2)\n",
    "    elif (x == 555):\n",
    "        return 0\n",
    "    else:\n",
    "        return x\n",
    "df['FRUITJU2'].dropna(inplace=True)\n",
    "df['FRUITJU2'] = df['FRUITJU2'].apply(lambda x : clean_first(x))\n",
    "def impossibru(x):\n",
    "    if ( x > 5):\n",
    "        return 0\n",
    "    else:\n",
    "        return x\n",
    "df['FRUITJU2-week-1'] = df['FRUITJU2-week'].replace(to_replace=0.00, value=np.nan)\n",
    "df['FRUITJU2-week-1-5'] = df['FRUITJU2-week-1'].apply(lambda x : impossibru(x))\n",
    "df['FRUITJU2-week'] = df['FRUITJU2'].apply(lambda x : clean_week(x))\n",
    "df['FRUITJU2-week'].replace(to_replace=777, value=np.nan, inplace=True)\n",
    "df['FRUITJU2-week'].replace(to_replace=999, value=np.nan, inplace=True)\n",
    "df['FRUITJU2-week'].dropna(inplace=True)\n",
    "df['FRUITJU2'].dropna(inplace=True)\n",
    "df['FRUITJU2-week'].value_counts()"
   ]
  },
  {
   "cell_type": "code",
   "execution_count": 164,
   "metadata": {},
   "outputs": [
    {
     "data": {
      "text/plain": [
       "array([2.85714286e-01, 0.00000000e+00, 1.00000000e+00, 1.66666667e+00,\n",
       "       8.33333333e-01, 8.33333333e-02, 1.66666667e-01, 2.00000000e+00,\n",
       "       4.28571429e-01, 5.71428571e-01, 7.00000000e+00,            nan,\n",
       "       4.16666667e-01, 7.14285714e-01, 2.50000000e-01, 3.33333333e-01,\n",
       "       1.42857143e-01, 7.77000000e+02, 1.50000000e+01, 5.00000000e-01,\n",
       "       3.00000000e+01, 1.25000000e+00, 2.50000000e+00, 5.83333333e-01,\n",
       "       5.00000000e+00, 3.00000000e+00, 2.33333333e+00, 9.99000000e+02,\n",
       "       6.66666667e-01, 1.16666667e+00, 8.57142857e-01, 2.08333333e+00,\n",
       "       3.14285714e+00, 4.00000000e+00, 1.42857143e+00, 7.50000000e-01,\n",
       "       4.28571429e+00, 1.00000000e+01, 1.50000000e+00, 2.25000000e+00,\n",
       "       1.33333333e+00, 2.41666667e+00, 2.00000000e+01, 8.00000000e+00,\n",
       "       6.00000000e+00, 1.14285714e+00, 2.85714286e+00, 2.58333333e+00,\n",
       "       2.42857143e+00, 9.16666667e-01, 1.75000000e+00, 1.71428571e+00,\n",
       "       8.25000000e+00, 2.75000000e+00, 7.50000000e+01, 3.58333333e+00,\n",
       "       3.33333333e+00, 3.50000000e+00, 3.28571429e+00, 2.66666667e+00,\n",
       "       3.57142857e+00, 1.10000000e+01, 1.41666667e+00, 2.14285714e+00,\n",
       "       4.16666667e+00, 1.83333333e+00, 1.28571429e+00, 1.20000000e+01])"
      ]
     },
     "execution_count": 164,
     "metadata": {},
     "output_type": "execute_result"
    }
   ],
   "source": [
    "df['FRUITJU2-week'].unique()"
   ]
  },
  {
   "cell_type": "code",
   "execution_count": 83,
   "metadata": {},
   "outputs": [],
   "source": [
    "interval = (no_prob - 1.96 * ((no_prob * yes_prob ) / ttl ) ** (1/2), \n",
    "            no_prob + 1.96 * ((no_prob * yes_prob ) / ttl ) ** (1/2)\n",
    "           )\n"
   ]
  },
  {
   "cell_type": "code",
   "execution_count": 217,
   "metadata": {},
   "outputs": [],
   "source": [
    "df['FRUITJU2-week-1-5'].value_counts()\n",
    "df['FRUITJU2-100'] = df['FRUITJU2-week-1-5'].apply(lambda x: x * 100)"
   ]
  },
  {
   "cell_type": "code",
   "execution_count": 244,
   "metadata": {},
   "outputs": [
    {
     "data": {
      "text/plain": [
       "0.1335149074261872"
      ]
     },
     "execution_count": 244,
     "metadata": {},
     "output_type": "execute_result"
    }
   ],
   "source": [
    "#two sample prop t-test\n",
    "white_count = df['_IMPRACE'].value_counts()['White']\n",
    "white_count\n",
    "ttl_white_count = df['_IMPRACE'].count()\n",
    "white_prob = white_count / ttl\n",
    "white_prob\n",
    "yes_prob"
   ]
  },
  {
   "cell_type": "code",
   "execution_count": 261,
   "metadata": {},
   "outputs": [
    {
     "data": {
      "text/plain": [
       "-156.67082027651836"
      ]
     },
     "execution_count": 261,
     "metadata": {},
     "output_type": "execute_result"
    }
   ],
   "source": [
    "p1 = yes_prob\n",
    "p2 = white_prob\n",
    "n1 = ttl_white_count\n",
    "n2 = df['DIABETE3'].count()\n",
    "p_hat = (white_count + df['DIABETE3'].value_counts()['Yes']) / (df['_IMPRACE'].count() + df['DIABETE3'].count())\n",
    "\n",
    "\n",
    "numerator = p1 - p2\n",
    "prob_of_hats = (p_hat * (1 - p_hat))\n",
    "fracts = (1 / n1) + (1/n2)\n",
    "sqrt = (prob_of_hats * fracts) ** (1/2)\n",
    "z = numerator / sqrt\n",
    "z"
   ]
  },
  {
   "cell_type": "code",
   "execution_count": 236,
   "metadata": {},
   "outputs": [
    {
     "data": {
      "text/plain": [
       "42.83337030653597"
      ]
     },
     "execution_count": 236,
     "metadata": {},
     "output_type": "execute_result"
    }
   ],
   "source": [
    "#h0 = weight has no effect on how much juice you drink \n",
    "#reject null hypothesis\n",
    "#two sample t-test\n",
    "mjuice = df['FRUITJU2-100'].mean()\n",
    "stdjuice = df['FRUITJU2-100'].std()\n",
    "njuice = df['FRUITJU2-100'].count()\n",
    "wmean = df['WEIGHT2'].mean()\n",
    "wstd = df['WEIGHT2'].std()\n",
    "nweight = df['WEIGHT2'].count()\n",
    "statistic, pvalue = stats.ttest_ind_from_stats(wmean, wstd, nweight, mjuice, stdjuice, njuice)\n",
    "statistic\n"
   ]
  },
  {
   "cell_type": "code",
   "execution_count": 232,
   "metadata": {},
   "outputs": [
    {
     "data": {
      "text/plain": [
       "array([ 29.,  nan, 100., 167.,  83.,   8.,  17., 200.,  43.,  57.,   0.,\n",
       "        42.,  71.,  25.,  33.,  14.,  50., 125., 250.,  58., 500., 300.,\n",
       "       233.,  67., 117.,  86., 208., 314., 400., 143.,  75., 429., 150.,\n",
       "       225., 133., 242., 114., 286., 258., 243.,  92., 175., 171., 275.,\n",
       "       358., 333., 350., 329., 267., 357., 142., 214., 417., 183., 129.])"
      ]
     },
     "execution_count": 232,
     "metadata": {},
     "output_type": "execute_result"
    }
   ],
   "source": [
    "df['FRUITJU2-100'].unique()"
   ]
  },
  {
   "cell_type": "code",
   "execution_count": 171,
   "metadata": {},
   "outputs": [],
   "source": [
    "fruit_mean = df['FRUITJU2-week'].mean()\n",
    "fruit_std = df['FRUITJU2-week'].std()\n"
   ]
  },
  {
   "cell_type": "code",
   "execution_count": 224,
   "metadata": {},
   "outputs": [
    {
     "data": {
      "text/plain": [
       "DIABETE3\n",
       "No     15814\n",
       "Yes     2046\n",
       "Name: FRUITJU2-100, dtype: int64"
      ]
     },
     "execution_count": 224,
     "metadata": {},
     "output_type": "execute_result"
    }
   ],
   "source": [
    "df.groupby('DIABETE3')['FRUITJU2-100'].count()"
   ]
  },
  {
   "cell_type": "code",
   "execution_count": 302,
   "metadata": {
    "scrolled": true
   },
   "outputs": [
    {
     "data": {
      "image/png": "[encoded data removed]",
      "text/plain": [
       "<Figure size 432x288 with 1 Axes>"
      ]
     },
     "metadata": {
      "needs_background": "light"
     },
     "output_type": "display_data"
    }
   ],
   "source": [
    "def impossibru(x):\n",
    "    if ( x > 5):\n",
    "        return 0\n",
    "    else:\n",
    "        return x\n",
    "df['FRUITJU2-week-1'] = df['FRUITJU2-week'].replace(to_replace=0.00, value=np.nan)\n",
    "df['FRUITJU2-week-1-5'] = df['FRUITJU2-week-1'].apply(lambda x : impossibru(x))\n",
    "\n",
    "plt.hist(df['FRUITJU2-week-1-5'], bins=100)\n",
    "plt.title('juice')\n",
    "plt.show()"
   ]
  },
  {
   "cell_type": "code",
   "execution_count": 198,
   "metadata": {},
   "outputs": [
    {
     "data": {
      "text/plain": [
       "17870"
      ]
     },
     "execution_count": 198,
     "metadata": {},
     "output_type": "execute_result"
    }
   ],
   "source": [
    "df['FRUITJU2-week-1-5'].count()"
   ]
  },
  {
   "cell_type": "code",
   "execution_count": 225,
   "metadata": {},
   "outputs": [],
   "source": [
    "zero_dict = {1.:\"White\",\n",
    "            2.: \"Black\",\n",
    "            3.: \"Asian\",\n",
    "            4.: \"Native\",\n",
    "            5.: \"Hispanic\",\n",
    "            6.: \"Other\"}\n",
    "df['_IMPRACE'] = df['_IMPRACE'].replace(zero_dict)\n",
    "race = df['_IMPRACE'].dropna()"
   ]
  },
  {
   "cell_type": "code",
   "execution_count": 230,
   "metadata": {},
   "outputs": [
    {
     "ename": "ValueError",
     "evalue": "The truth value of a Series is ambiguous. Use a.empty, a.bool(), a.item(), a.any() or a.all().",
     "output_type": "error",
     "traceback": [
      "\u001b[0;31m---------------------------------------------------------------------------\u001b[0m",
      "\u001b[0;31mValueError\u001b[0m                                Traceback (most recent call last)",
      "\u001b[0;32m<ipython-input-230-8a6c86c857ac>\u001b[0m in \u001b[0;36m<module>\u001b[0;34m\u001b[0m\n\u001b[0;32m----> 1\u001b[0;31m \u001b[0mbool\u001b[0m\u001b[0;34m(\u001b[0m\u001b[0mrace\u001b[0m \u001b[0;34m==\u001b[0m \u001b[0mdf\u001b[0m\u001b[0;34m[\u001b[0m\u001b[0;34m'_IMPRACE'\u001b[0m\u001b[0;34m]\u001b[0m\u001b[0;34m)\u001b[0m\u001b[0;34m\u001b[0m\u001b[0;34m\u001b[0m\u001b[0m\n\u001b[0m",
      "\u001b[0;32m~/opt/anaconda3/lib/python3.7/site-packages/pandas/core/generic.py\u001b[0m in \u001b[0;36m__nonzero__\u001b[0;34m(self)\u001b[0m\n\u001b[1;32m   1553\u001b[0m             \u001b[0;34m\"The truth value of a {0} is ambiguous. \"\u001b[0m\u001b[0;34m\u001b[0m\u001b[0;34m\u001b[0m\u001b[0m\n\u001b[1;32m   1554\u001b[0m             \"Use a.empty, a.bool(), a.item(), a.any() or a.all().\".format(\n\u001b[0;32m-> 1555\u001b[0;31m                 \u001b[0mself\u001b[0m\u001b[0;34m.\u001b[0m\u001b[0m__class__\u001b[0m\u001b[0;34m.\u001b[0m\u001b[0m__name__\u001b[0m\u001b[0;34m\u001b[0m\u001b[0;34m\u001b[0m\u001b[0m\n\u001b[0m\u001b[1;32m   1556\u001b[0m             )\n\u001b[1;32m   1557\u001b[0m         )\n",
      "\u001b[0;31mValueError\u001b[0m: The truth value of a Series is ambiguous. Use a.empty, a.bool(), a.item(), a.any() or a.all()."
     ]
    }
   ],
   "source": []
  },
  {
   "cell_type": "code",
   "execution_count": 273,
   "metadata": {},
   "outputs": [],
   "source": [
    "#race does not effect idividuals having diabetes\n",
    "\n",
    "diabetic_races = df.groupby('_IMPRACE')['DIABETE3'].value_counts()\n",
    "pd.crosstab()"
   ]
  },
  {
   "cell_type": "code",
   "execution_count": 287,
   "metadata": {},
   "outputs": [
    {
     "data": {
      "text/plain": [
       "34545"
      ]
     },
     "execution_count": 287,
     "metadata": {},
     "output_type": "execute_result"
    }
   ],
   "source": [
    "diabetic_races\n",
    "df['_IMPRACE'].count()"
   ]
  },
  {
   "cell_type": "code",
   "execution_count": 291,
   "metadata": {},
   "outputs": [],
   "source": [
    "ttl_no = 1074+2682+3479+170+611+21889\n",
    "ttl_yes = 142 + 639 + 604 + 170 + 101 + 3080\n",
    "ttl_white = df['_IMPRACE'].value_counts()['White']\n",
    "ttl_black = df['_IMPRACE'].value_counts()['Black']\n",
    "ttl_asian = df['_IMPRACE'].value_counts()['Asian']\n",
    "ttl_native = df['_IMPRACE'].value_counts()['Native']\n",
    "ttl_other = df['_IMPRACE'].value_counts()['Other']\n",
    "ttl_hispanic = df['_IMPRACE'].value_counts()['Hispanic']\n",
    "ttlttl = df['_IMPRACE'].count()\n",
    "weight_yes = ttl_yes / ttlttl\n",
    "weight_no = ttl_no / ttlttl\n",
    "races = [ttl_white, ttl_black, ttl_asian, ttl_native, ttl_other, ttl_hispanic]\n",
    "weighted_yeses = []\n",
    "weighted_nos = []\n",
    "for ttl in races:\n",
    "    weighted_yeses.append(weight_yes * ttl)\n",
    "    weighted_nos.append(weight_no * ttl)"
   ]
  },
  {
   "cell_type": "code",
   "execution_count": 294,
   "metadata": {},
   "outputs": [
    {
     "data": {
      "text/plain": [
       "_IMPRACE  DIABETE3\n",
       "Asian     No           1074\n",
       "          Yes           142\n",
       "Black     No           2682\n",
       "          Yes           639\n",
       "Hispanic  No           3479\n",
       "          Yes           604\n",
       "Native    No            170\n",
       "          Yes            42\n",
       "Other     No            611\n",
       "          Yes           101\n",
       "White     No          21889\n",
       "          Yes          3080\n",
       "Name: DIABETE3, dtype: int64"
      ]
     },
     "execution_count": 294,
     "metadata": {},
     "output_type": "execute_result"
    }
   ],
   "source": [
    "diabetic_races"
   ]
  },
  {
   "cell_type": "code",
   "execution_count": 314,
   "metadata": {},
   "outputs": [
    {
     "data": {
      "text/html": [
       "<div>\n",
       "<style scoped>\n",
       "    .dataframe tbody tr th:only-of-type {\n",
       "        vertical-align: middle;\n",
       "    }\n",
       "\n",
       "    .dataframe tbody tr th {\n",
       "        vertical-align: top;\n",
       "    }\n",
       "\n",
       "    .dataframe thead th {\n",
       "        text-align: right;\n",
       "    }\n",
       "</style>\n",
       "<table border=\"1\" class=\"dataframe\">\n",
       "  <thead>\n",
       "    <tr style=\"text-align: right;\">\n",
       "      <th></th>\n",
       "      <th>_STATE</th>\n",
       "      <th>FMONTH</th>\n",
       "      <th>IDATE</th>\n",
       "      <th>IMONTH</th>\n",
       "      <th>IDAY</th>\n",
       "      <th>IYEAR</th>\n",
       "      <th>DISPCODE</th>\n",
       "      <th>SEQNO</th>\n",
       "      <th>_PSU</th>\n",
       "      <th>CTELENM1</th>\n",
       "      <th>...</th>\n",
       "      <th>_PASTAE1</th>\n",
       "      <th>_RFSEAT2</th>\n",
       "      <th>_RFSEAT3</th>\n",
       "      <th>_FLSHOT6</th>\n",
       "      <th>_PNEUMO2</th>\n",
       "      <th>_AIDTST3</th>\n",
       "      <th>FRUITJU2-week</th>\n",
       "      <th>FRUITJU2-week-1</th>\n",
       "      <th>FRUITJU2-week-1-5</th>\n",
       "      <th>FRUITJU2-100</th>\n",
       "    </tr>\n",
       "  </thead>\n",
       "  <tbody>\n",
       "    <tr>\n",
       "      <td>49938</td>\n",
       "      <td>9.0</td>\n",
       "      <td>5.0</td>\n",
       "      <td>5172017</td>\n",
       "      <td>5</td>\n",
       "      <td>17</td>\n",
       "      <td>2017</td>\n",
       "      <td>1200.0</td>\n",
       "      <td>2017000001</td>\n",
       "      <td>2.017000e+09</td>\n",
       "      <td>NaN</td>\n",
       "      <td>...</td>\n",
       "      <td>2.0</td>\n",
       "      <td>1.0</td>\n",
       "      <td>1.0</td>\n",
       "      <td>NaN</td>\n",
       "      <td>NaN</td>\n",
       "      <td>1.0</td>\n",
       "      <td>0.29</td>\n",
       "      <td>0.29</td>\n",
       "      <td>0.29</td>\n",
       "      <td>29.0</td>\n",
       "    </tr>\n",
       "    <tr>\n",
       "      <td>49939</td>\n",
       "      <td>9.0</td>\n",
       "      <td>2.0</td>\n",
       "      <td>2142017</td>\n",
       "      <td>2</td>\n",
       "      <td>14</td>\n",
       "      <td>2017</td>\n",
       "      <td>1200.0</td>\n",
       "      <td>2017000002</td>\n",
       "      <td>2.017000e+09</td>\n",
       "      <td>NaN</td>\n",
       "      <td>...</td>\n",
       "      <td>1.0</td>\n",
       "      <td>2.0</td>\n",
       "      <td>2.0</td>\n",
       "      <td>NaN</td>\n",
       "      <td>NaN</td>\n",
       "      <td>2.0</td>\n",
       "      <td>0.29</td>\n",
       "      <td>0.29</td>\n",
       "      <td>0.29</td>\n",
       "      <td>29.0</td>\n",
       "    </tr>\n",
       "    <tr>\n",
       "      <td>49940</td>\n",
       "      <td>9.0</td>\n",
       "      <td>1.0</td>\n",
       "      <td>1292017</td>\n",
       "      <td>1</td>\n",
       "      <td>29</td>\n",
       "      <td>2017</td>\n",
       "      <td>1200.0</td>\n",
       "      <td>2017000003</td>\n",
       "      <td>2.017000e+09</td>\n",
       "      <td>NaN</td>\n",
       "      <td>...</td>\n",
       "      <td>2.0</td>\n",
       "      <td>1.0</td>\n",
       "      <td>1.0</td>\n",
       "      <td>NaN</td>\n",
       "      <td>NaN</td>\n",
       "      <td>2.0</td>\n",
       "      <td>0.00</td>\n",
       "      <td>NaN</td>\n",
       "      <td>NaN</td>\n",
       "      <td>NaN</td>\n",
       "    </tr>\n",
       "    <tr>\n",
       "      <td>49941</td>\n",
       "      <td>9.0</td>\n",
       "      <td>7.0</td>\n",
       "      <td>9112017</td>\n",
       "      <td>9</td>\n",
       "      <td>11</td>\n",
       "      <td>2017</td>\n",
       "      <td>1200.0</td>\n",
       "      <td>2017000004</td>\n",
       "      <td>2.017000e+09</td>\n",
       "      <td>NaN</td>\n",
       "      <td>...</td>\n",
       "      <td>2.0</td>\n",
       "      <td>1.0</td>\n",
       "      <td>1.0</td>\n",
       "      <td>NaN</td>\n",
       "      <td>NaN</td>\n",
       "      <td>1.0</td>\n",
       "      <td>0.00</td>\n",
       "      <td>NaN</td>\n",
       "      <td>NaN</td>\n",
       "      <td>NaN</td>\n",
       "    </tr>\n",
       "    <tr>\n",
       "      <td>49942</td>\n",
       "      <td>9.0</td>\n",
       "      <td>5.0</td>\n",
       "      <td>7182017</td>\n",
       "      <td>7</td>\n",
       "      <td>18</td>\n",
       "      <td>2017</td>\n",
       "      <td>1200.0</td>\n",
       "      <td>2017000005</td>\n",
       "      <td>2.017000e+09</td>\n",
       "      <td>NaN</td>\n",
       "      <td>...</td>\n",
       "      <td>1.0</td>\n",
       "      <td>1.0</td>\n",
       "      <td>1.0</td>\n",
       "      <td>NaN</td>\n",
       "      <td>NaN</td>\n",
       "      <td>2.0</td>\n",
       "      <td>0.00</td>\n",
       "      <td>NaN</td>\n",
       "      <td>NaN</td>\n",
       "      <td>NaN</td>\n",
       "    </tr>\n",
       "    <tr>\n",
       "      <td>...</td>\n",
       "      <td>...</td>\n",
       "      <td>...</td>\n",
       "      <td>...</td>\n",
       "      <td>...</td>\n",
       "      <td>...</td>\n",
       "      <td>...</td>\n",
       "      <td>...</td>\n",
       "      <td>...</td>\n",
       "      <td>...</td>\n",
       "      <td>...</td>\n",
       "      <td>...</td>\n",
       "      <td>...</td>\n",
       "      <td>...</td>\n",
       "      <td>...</td>\n",
       "      <td>...</td>\n",
       "      <td>...</td>\n",
       "      <td>...</td>\n",
       "      <td>...</td>\n",
       "      <td>...</td>\n",
       "      <td>...</td>\n",
       "      <td>...</td>\n",
       "    </tr>\n",
       "    <tr>\n",
       "      <td>303774</td>\n",
       "      <td>36.0</td>\n",
       "      <td>5.0</td>\n",
       "      <td>5152017</td>\n",
       "      <td>5</td>\n",
       "      <td>15</td>\n",
       "      <td>2017</td>\n",
       "      <td>1200.0</td>\n",
       "      <td>2017012245</td>\n",
       "      <td>2.017012e+09</td>\n",
       "      <td>NaN</td>\n",
       "      <td>...</td>\n",
       "      <td>2.0</td>\n",
       "      <td>1.0</td>\n",
       "      <td>1.0</td>\n",
       "      <td>NaN</td>\n",
       "      <td>NaN</td>\n",
       "      <td>1.0</td>\n",
       "      <td>1.00</td>\n",
       "      <td>1.00</td>\n",
       "      <td>1.00</td>\n",
       "      <td>100.0</td>\n",
       "    </tr>\n",
       "    <tr>\n",
       "      <td>303775</td>\n",
       "      <td>36.0</td>\n",
       "      <td>6.0</td>\n",
       "      <td>6252017</td>\n",
       "      <td>6</td>\n",
       "      <td>25</td>\n",
       "      <td>2017</td>\n",
       "      <td>1200.0</td>\n",
       "      <td>2017012246</td>\n",
       "      <td>2.017012e+09</td>\n",
       "      <td>NaN</td>\n",
       "      <td>...</td>\n",
       "      <td>2.0</td>\n",
       "      <td>1.0</td>\n",
       "      <td>1.0</td>\n",
       "      <td>NaN</td>\n",
       "      <td>NaN</td>\n",
       "      <td>1.0</td>\n",
       "      <td>1.00</td>\n",
       "      <td>1.00</td>\n",
       "      <td>1.00</td>\n",
       "      <td>100.0</td>\n",
       "    </tr>\n",
       "    <tr>\n",
       "      <td>303776</td>\n",
       "      <td>36.0</td>\n",
       "      <td>7.0</td>\n",
       "      <td>7212017</td>\n",
       "      <td>7</td>\n",
       "      <td>21</td>\n",
       "      <td>2017</td>\n",
       "      <td>1200.0</td>\n",
       "      <td>2017012247</td>\n",
       "      <td>2.017012e+09</td>\n",
       "      <td>NaN</td>\n",
       "      <td>...</td>\n",
       "      <td>2.0</td>\n",
       "      <td>1.0</td>\n",
       "      <td>1.0</td>\n",
       "      <td>NaN</td>\n",
       "      <td>NaN</td>\n",
       "      <td>1.0</td>\n",
       "      <td>0.00</td>\n",
       "      <td>NaN</td>\n",
       "      <td>NaN</td>\n",
       "      <td>NaN</td>\n",
       "    </tr>\n",
       "    <tr>\n",
       "      <td>303777</td>\n",
       "      <td>36.0</td>\n",
       "      <td>7.0</td>\n",
       "      <td>7202017</td>\n",
       "      <td>7</td>\n",
       "      <td>20</td>\n",
       "      <td>2017</td>\n",
       "      <td>1200.0</td>\n",
       "      <td>2017012248</td>\n",
       "      <td>2.017012e+09</td>\n",
       "      <td>NaN</td>\n",
       "      <td>...</td>\n",
       "      <td>9.0</td>\n",
       "      <td>9.0</td>\n",
       "      <td>9.0</td>\n",
       "      <td>9.0</td>\n",
       "      <td>9.0</td>\n",
       "      <td>9.0</td>\n",
       "      <td>999.00</td>\n",
       "      <td>999.00</td>\n",
       "      <td>0.00</td>\n",
       "      <td>0.0</td>\n",
       "    </tr>\n",
       "    <tr>\n",
       "      <td>303778</td>\n",
       "      <td>36.0</td>\n",
       "      <td>7.0</td>\n",
       "      <td>7252017</td>\n",
       "      <td>7</td>\n",
       "      <td>25</td>\n",
       "      <td>2017</td>\n",
       "      <td>1200.0</td>\n",
       "      <td>2017012249</td>\n",
       "      <td>2.017012e+09</td>\n",
       "      <td>NaN</td>\n",
       "      <td>...</td>\n",
       "      <td>2.0</td>\n",
       "      <td>1.0</td>\n",
       "      <td>1.0</td>\n",
       "      <td>NaN</td>\n",
       "      <td>NaN</td>\n",
       "      <td>1.0</td>\n",
       "      <td>0.57</td>\n",
       "      <td>0.57</td>\n",
       "      <td>0.57</td>\n",
       "      <td>57.0</td>\n",
       "    </tr>\n",
       "  </tbody>\n",
       "</table>\n",
       "<p>34545 rows × 362 columns</p>\n",
       "</div>"
      ],
      "text/plain": [
       "        _STATE  FMONTH    IDATE  IMONTH  IDAY  IYEAR  DISPCODE       SEQNO  \\\n",
       "49938      9.0     5.0  5172017       5    17   2017    1200.0  2017000001   \n",
       "49939      9.0     2.0  2142017       2    14   2017    1200.0  2017000002   \n",
       "49940      9.0     1.0  1292017       1    29   2017    1200.0  2017000003   \n",
       "49941      9.0     7.0  9112017       9    11   2017    1200.0  2017000004   \n",
       "49942      9.0     5.0  7182017       7    18   2017    1200.0  2017000005   \n",
       "...        ...     ...      ...     ...   ...    ...       ...         ...   \n",
       "303774    36.0     5.0  5152017       5    15   2017    1200.0  2017012245   \n",
       "303775    36.0     6.0  6252017       6    25   2017    1200.0  2017012246   \n",
       "303776    36.0     7.0  7212017       7    21   2017    1200.0  2017012247   \n",
       "303777    36.0     7.0  7202017       7    20   2017    1200.0  2017012248   \n",
       "303778    36.0     7.0  7252017       7    25   2017    1200.0  2017012249   \n",
       "\n",
       "                _PSU  CTELENM1  ...  _PASTAE1  _RFSEAT2  _RFSEAT3  _FLSHOT6  \\\n",
       "49938   2.017000e+09       NaN  ...       2.0       1.0       1.0       NaN   \n",
       "49939   2.017000e+09       NaN  ...       1.0       2.0       2.0       NaN   \n",
       "49940   2.017000e+09       NaN  ...       2.0       1.0       1.0       NaN   \n",
       "49941   2.017000e+09       NaN  ...       2.0       1.0       1.0       NaN   \n",
       "49942   2.017000e+09       NaN  ...       1.0       1.0       1.0       NaN   \n",
       "...              ...       ...  ...       ...       ...       ...       ...   \n",
       "303774  2.017012e+09       NaN  ...       2.0       1.0       1.0       NaN   \n",
       "303775  2.017012e+09       NaN  ...       2.0       1.0       1.0       NaN   \n",
       "303776  2.017012e+09       NaN  ...       2.0       1.0       1.0       NaN   \n",
       "303777  2.017012e+09       NaN  ...       9.0       9.0       9.0       9.0   \n",
       "303778  2.017012e+09       NaN  ...       2.0       1.0       1.0       NaN   \n",
       "\n",
       "        _PNEUMO2  _AIDTST3  FRUITJU2-week  FRUITJU2-week-1  FRUITJU2-week-1-5  \\\n",
       "49938        NaN       1.0           0.29             0.29               0.29   \n",
       "49939        NaN       2.0           0.29             0.29               0.29   \n",
       "49940        NaN       2.0           0.00              NaN                NaN   \n",
       "49941        NaN       1.0           0.00              NaN                NaN   \n",
       "49942        NaN       2.0           0.00              NaN                NaN   \n",
       "...          ...       ...            ...              ...                ...   \n",
       "303774       NaN       1.0           1.00             1.00               1.00   \n",
       "303775       NaN       1.0           1.00             1.00               1.00   \n",
       "303776       NaN       1.0           0.00              NaN                NaN   \n",
       "303777       9.0       9.0         999.00           999.00               0.00   \n",
       "303778       NaN       1.0           0.57             0.57               0.57   \n",
       "\n",
       "        FRUITJU2-100  \n",
       "49938           29.0  \n",
       "49939           29.0  \n",
       "49940            NaN  \n",
       "49941            NaN  \n",
       "49942            NaN  \n",
       "...              ...  \n",
       "303774         100.0  \n",
       "303775         100.0  \n",
       "303776           NaN  \n",
       "303777           0.0  \n",
       "303778          57.0  \n",
       "\n",
       "[34545 rows x 362 columns]"
      ]
     },
     "execution_count": 314,
     "metadata": {},
     "output_type": "execute_result"
    }
   ],
   "source": [
    "df"
   ]
  },
  {
   "cell_type": "code",
   "execution_count": 312,
   "metadata": {},
   "outputs": [
    {
     "name": "stdout",
     "output_type": "stream",
     "text": [
      "dof=5\n",
      "[[ 1053.64587257  2877.59699244  3537.85863298   183.69483963\n",
      "    616.93738591 21635.26627648]\n",
      " [  162.35412743   443.40300756   545.14136702    28.30516037\n",
      "     95.06261409  3333.73372352]]\n",
      "H0 = You'r race does not affect having diabetes\n",
      "probability=0.950, critical=11.070, stat=140.220\n",
      "dependent (reject H0)\n"
     ]
    }
   ],
   "source": [
    "from scipy.stats import chi2_contingency\n",
    "from scipy.stats import chi2\n",
    "table  = [[1074, 2682, 3479, 170, 611, 21889], [142, 639, 604, 42, 101, 3080]]\n",
    "\n",
    "stat, p, dof, expected = chi2_contingency(table)\n",
    "#weighted_yeses\n",
    "print('dof=%d' % dof)\n",
    "print(expected)\n",
    "prob1 = .95\n",
    "critical = chi2.ppf(prob1, dof)\n",
    "#critical\n",
    "print('H0 = You\\'r race does not affect having diabetes')\n",
    "print('probability=%.3f, critical=%.3f, stat=%.3f' %(prob1, critical, stat))\n",
    "if (abs(stat) >= critical):\n",
    "    print('dependent (reject H0)')\n",
    "else:\n",
    "    print('independent (fail to reject H0)')\n",
    "#summation( ( original - expected) ** 2 / exp) "
   ]
  },
  {
   "cell_type": "code",
   "execution_count": null,
   "metadata": {},
   "outputs": [],
   "source": [
    "#nova\n"
   ]
  },
  {
   "cell_type": "code",
   "execution_count": 316,
   "metadata": {},
   "outputs": [],
   "source": [
    "from statsmodels.formula.api import ols\n",
    "import statsmodels.api as sm\n",
    "anova_season = ols('WEIGHT2~_IMPRACE', data=df).fit()"
   ]
  },
  {
   "cell_type": "code",
   "execution_count": 325,
   "metadata": {},
   "outputs": [
    {
     "name": "stdout",
     "output_type": "stream",
     "text": [
      "               df        sum_sq       mean_sq         F        PR(>F)\n",
      "_IMPRACE      5.0  2.430349e+08  4.860698e+07  8.939442  1.693340e-08\n",
      "Residual  33963.0  1.846691e+11  5.437362e+06       NaN           NaN\n"
     ]
    }
   ],
   "source": [
    "anova_table = sm.stats.anova_lm(anova_season, type=2)\n",
    "print(anova_table)\n",
    "df['WEIGHT2'].dropna(inplace=True)"
   ]
  },
  {
   "cell_type": "code",
   "execution_count": 335,
   "metadata": {},
   "outputs": [
    {
     "name": "stdout",
     "output_type": "stream",
     "text": [
      "H0 = Race does not affect weight\n",
      "HA = Race affects weight\n",
      "PValue = 1.6933404646851255e-08 :: Failed to reject H0\n"
     ]
    }
   ],
   "source": [
    "\n",
    "statfway, pvaluefway = stats.f_oneway(df['WEIGHT2'][df['_IMPRACE'] == 'White'],\n",
    "              df['WEIGHT2'][df['_IMPRACE'] == 'Black'],\n",
    "               df['WEIGHT2'][df['_IMPRACE'] == 'Asian'],\n",
    "               df['WEIGHT2'][df['_IMPRACE'] == 'Hispanic'],\n",
    "               df['WEIGHT2'][df['_IMPRACE'] == 'Other'],\n",
    "               df['WEIGHT2'][df['_IMPRACE'] == 'Native'])\n",
    "print('H0 = Race does not affect weight')\n",
    "print('HA = Race affects weight')\n",
    "print('PValue = {} :: Failed to reject H0'.format(pvaluefway))\n"
   ]
  },
  {
   "cell_type": "code",
   "execution_count": null,
   "metadata": {},
   "outputs": [],
   "source": []
  },
  {
   "cell_type": "code",
   "execution_count": 295,
   "metadata": {},
   "outputs": [
    {
     "data": {
      "text/plain": [
       "(array([8., 3., 0., 0., 0., 0., 0., 0., 0., 1.]),\n",
       " array([   42. ,  2226.7,  4411.4,  6596.1,  8780.8, 10965.5, 13150.2,\n",
       "        15334.9, 17519.6, 19704.3, 21889. ]),\n",
       " <a list of 10 Patch objects>)"
      ]
     },
     "execution_count": 295,
     "metadata": {},
     "output_type": "execute_result"
    },
    {
     "data": {
      "image/png": "[encoded data removed]",
      "text/plain": [
       "<Figure size 432x288 with 1 Axes>"
      ]
     },
     "metadata": {
      "needs_background": "light"
     },
     "output_type": "display_data"
    }
   ],
   "source": [
    "plt.hist(diabetic_races)"
   ]
  },
  {
   "cell_type": "code",
   "execution_count": null,
   "metadata": {},
   "outputs": [],
   "source": []
  },
  {
   "cell_type": "code",
   "execution_count": null,
   "metadata": {},
   "outputs": [],
   "source": []
  },
  {
   "cell_type": "code",
   "execution_count": null,
   "metadata": {},
   "outputs": [],
   "source": []
  },
  {
   "cell_type": "code",
   "execution_count": null,
   "metadata": {},
   "outputs": [],
   "source": []
  },
  {
   "cell_type": "code",
   "execution_count": 296,
   "metadata": {},
   "outputs": [
    {
     "data": {
      "text/plain": [
       "(array([24997.,     0.,  1216.,     0.,  4084.,     0.,  3323.,     0.,\n",
       "          713.,   212.]),\n",
       " array([0. , 0.5, 1. , 1.5, 2. , 2.5, 3. , 3.5, 4. , 4.5, 5. ]),\n",
       " <a list of 10 Patch objects>)"
      ]
     },
     "execution_count": 296,
     "metadata": {},
     "output_type": "execute_result"
    },
    {
     "data": {
      "image/png": "[encoded data removed]",
      "text/plain": [
       "<Figure size 432x288 with 1 Axes>"
      ]
     },
     "metadata": {
      "needs_background": "light"
     },
     "output_type": "display_data"
    }
   ],
   "source": [
    "plt.hist(df['_IMPRACE'])"
   ]
  },
  {
   "cell_type": "code",
   "execution_count": 298,
   "metadata": {},
   "outputs": [
    {
     "data": {
      "text/plain": [
       "(array([29905.,     0.,     0.,     0.,     0.,     0.,     0.,     0.,\n",
       "            0.,  4608.]),\n",
       " array([0. , 0.1, 0.2, 0.3, 0.4, 0.5, 0.6, 0.7, 0.8, 0.9, 1. ]),\n",
       " <a list of 10 Patch objects>)"
      ]
     },
     "execution_count": 298,
     "metadata": {},
     "output_type": "execute_result"
    },
    {
     "data": {
      "image/png": "[encoded data removed]",
      "text/plain": [
       "<Figure size 432x288 with 1 Axes>"
      ]
     },
     "metadata": {
      "needs_background": "light"
     },
     "output_type": "display_data"
    }
   ],
   "source": [
    "df['DIABETE3'].dropna(inplace=True)\n",
    "plt.hist(df['DIABETE3'])"
   ]
  },
  {
   "cell_type": "code",
   "execution_count": null,
   "metadata": {},
   "outputs": [],
   "source": [
    "#stats.chi_2contigency()\n",
    "#ststs.f_oneway()"
   ]
  }
 ],
 "metadata": {
  "kernelspec": {
   "display_name": "Python 3",
   "language": "python",
   "name": "python3"
  },
  "language_info": {
   "codemirror_mode": {
    "name": "ipython",
    "version": 3
   },
   "file_extension": ".py",
   "mimetype": "text/x-python",
   "name": "python",
   "nbconvert_exporter": "python",
   "pygments_lexer": "ipython3",
   "version": "3.7.4"
  }
 },
 "nbformat": 4,
 "nbformat_minor": 2
}
