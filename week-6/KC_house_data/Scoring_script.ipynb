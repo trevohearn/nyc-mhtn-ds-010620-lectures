{
 "cells": [
  {
   "cell_type": "code",
   "execution_count": 1,
   "metadata": {},
   "outputs": [],
   "source": [
    "import pandas as pd\n",
    "import numpy as np\n",
    "from sklearn import metrics\n",
    "import time\n",
    "import os\n",
    "import glob\n",
    "import re"
   ]
  },
  {
   "cell_type": "code",
   "execution_count": 2,
   "metadata": {},
   "outputs": [],
   "source": [
    "actuals = pd.read_csv('kc_house_data_test_target.csv'  )\n"
   ]
  },
  {
   "cell_type": "code",
   "execution_count": 10,
   "metadata": {},
   "outputs": [
    {
     "data": {
      "text/html": [
       "<div>\n",
       "<style scoped>\n",
       "    .dataframe tbody tr th:only-of-type {\n",
       "        vertical-align: middle;\n",
       "    }\n",
       "\n",
       "    .dataframe tbody tr th {\n",
       "        vertical-align: top;\n",
       "    }\n",
       "\n",
       "    .dataframe thead th {\n",
       "        text-align: right;\n",
       "    }\n",
       "</style>\n",
       "<table border=\"1\" class=\"dataframe\">\n",
       "  <thead>\n",
       "    <tr style=\"text-align: right;\">\n",
       "      <th></th>\n",
       "      <th>Unnamed: 0</th>\n",
       "      <th>id</th>\n",
       "      <th>price</th>\n",
       "    </tr>\n",
       "  </thead>\n",
       "  <tbody>\n",
       "    <tr>\n",
       "      <th>count</th>\n",
       "      <td>4323.000000</td>\n",
       "      <td>4.323000e+03</td>\n",
       "      <td>4.323000e+03</td>\n",
       "    </tr>\n",
       "    <tr>\n",
       "      <th>mean</th>\n",
       "      <td>2161.000000</td>\n",
       "      <td>4.625409e+09</td>\n",
       "      <td>5.674476e+05</td>\n",
       "    </tr>\n",
       "    <tr>\n",
       "      <th>std</th>\n",
       "      <td>1248.086936</td>\n",
       "      <td>2.920359e+09</td>\n",
       "      <td>3.706359e+05</td>\n",
       "    </tr>\n",
       "    <tr>\n",
       "      <th>min</th>\n",
       "      <td>0.000000</td>\n",
       "      <td>3.600072e+06</td>\n",
       "      <td>8.300000e+04</td>\n",
       "    </tr>\n",
       "    <tr>\n",
       "      <th>25%</th>\n",
       "      <td>1080.500000</td>\n",
       "      <td>2.125735e+09</td>\n",
       "      <td>3.450000e+05</td>\n",
       "    </tr>\n",
       "    <tr>\n",
       "      <th>50%</th>\n",
       "      <td>2161.000000</td>\n",
       "      <td>3.834001e+09</td>\n",
       "      <td>4.750000e+05</td>\n",
       "    </tr>\n",
       "    <tr>\n",
       "      <th>75%</th>\n",
       "      <td>3241.500000</td>\n",
       "      <td>7.504001e+09</td>\n",
       "      <td>6.700000e+05</td>\n",
       "    </tr>\n",
       "    <tr>\n",
       "      <th>max</th>\n",
       "      <td>4322.000000</td>\n",
       "      <td>9.895000e+09</td>\n",
       "      <td>3.800000e+06</td>\n",
       "    </tr>\n",
       "  </tbody>\n",
       "</table>\n",
       "</div>"
      ],
      "text/plain": [
       "        Unnamed: 0            id         price\n",
       "count  4323.000000  4.323000e+03  4.323000e+03\n",
       "mean   2161.000000  4.625409e+09  5.674476e+05\n",
       "std    1248.086936  2.920359e+09  3.706359e+05\n",
       "min       0.000000  3.600072e+06  8.300000e+04\n",
       "25%    1080.500000  2.125735e+09  3.450000e+05\n",
       "50%    2161.000000  3.834001e+09  4.750000e+05\n",
       "75%    3241.500000  7.504001e+09  6.700000e+05\n",
       "max    4322.000000  9.895000e+09  3.800000e+06"
      ]
     },
     "execution_count": 10,
     "metadata": {},
     "output_type": "execute_result"
    }
   ],
   "source": [
    "actuals.describe()"
   ]
  },
  {
   "cell_type": "code",
   "execution_count": 3,
   "metadata": {},
   "outputs": [
    {
     "data": {
      "text/plain": [
       "(4323, 3)"
      ]
     },
     "execution_count": 3,
     "metadata": {},
     "output_type": "execute_result"
    }
   ],
   "source": [
    "actuals.shape"
   ]
  },
  {
   "cell_type": "code",
   "execution_count": 4,
   "metadata": {},
   "outputs": [],
   "source": [
    "path = '/Users/swilson5/Documents/DSC/ds-010620/nyc-mhtn-ds-010620-lectures/week-6/KC_house_data/answers'\n",
    "extension = 'csv'"
   ]
  },
  {
   "cell_type": "code",
   "execution_count": 5,
   "metadata": {},
   "outputs": [
    {
     "name": "stdout",
     "output_type": "stream",
     "text": [
      "['housing_preds_WL.csv', 'housing_preds_gmf.csv', 'housing_preds_BH.csv', 'housing_preds_ga.csv', 'newprediction_sailaja.csv', 'housing_preds_MER.csv', 'housing_preds_jns.csv', 'test_predictions_ch.csv', 'housing_preds_DK.csv', 'prediction_values_HC .csv', 'housing_preds_RL.csv', 'housing_predictions_slm.csv', 'housing_preds_HS1.csv', 'Fhousing_preds_OH.csv', 'housing_preds_MMA.csv', 'housing_preds_jab6.csv', 'housing_preds_TOH.csv']\n"
     ]
    }
   ],
   "source": [
    "\n",
    "# create a list of all file names\n",
    "# starting with testlabels_ from the file\n",
    "\n",
    "\n",
    "\n",
    "os.chdir(path)\n",
    "files = glob.glob('*.{}'.format(extension))\n",
    "print(files)"
   ]
  },
  {
   "cell_type": "code",
   "execution_count": 6,
   "metadata": {},
   "outputs": [],
   "source": [
    "#create dictionary to store results\n",
    "results = {}\n"
   ]
  },
  {
   "cell_type": "code",
   "execution_count": 7,
   "metadata": {},
   "outputs": [
    {
     "name": "stdout",
     "output_type": "stream",
     "text": [
      "WL\n",
      "gmf\n",
      "BH\n",
      "ga\n",
      "sailaja\n",
      "MER\n",
      "jns\n",
      "ch\n",
      "DK\n",
      "HC \n",
      "RL\n",
      "slm\n",
      "HS1\n",
      "OH\n",
      "MMA\n",
      "jab6\n",
      "TOH\n"
     ]
    }
   ],
   "source": [
    "for file in files:\n",
    "    name = file.split(\"_\")[-1].split(\".\")[0]\n",
    "    print(name)\n",
    "    guesses = pd.read_csv(file, header=None )\n",
    "    # guesses.sort_index(inplace=True)\n",
    "\n",
    "    if guesses.shape[0] != 4323:\n",
    "        print(name, \"not the correct size\", guesses.shape[0]  )\n",
    "        continue\n",
    "    mse = metrics.mean_squared_error(actuals['price'],guesses)\n",
    "    rmse = np.sqrt(mse)\n",
    "    results[name]= [mse, rmse]\n"
   ]
  },
  {
   "cell_type": "code",
   "execution_count": 8,
   "metadata": {},
   "outputs": [],
   "source": [
    "\n",
    "sorted_results = sorted(results.items(), key=lambda x: x[1][0], reverse=True)"
   ]
  },
  {
   "cell_type": "code",
   "execution_count": 9,
   "metadata": {},
   "outputs": [
    {
     "name": "stdout",
     "output_type": "stream",
     "text": [
      "Now printing the results with in ascending order\n",
      "4624154729.43496\n",
      "OH achieved an RMSE of 4624154729.43496 \n",
      "\n",
      "277296.95295782556\n",
      "HS1 achieved an RMSE of 277296.95295782556 \n",
      "\n",
      "254314.89805541537\n",
      "GA achieved an RMSE of 254314.89805541537 \n",
      "\n",
      "248619.70587625346\n",
      "JAB6 achieved an RMSE of 248619.70587625346 \n",
      "\n",
      "245901.41179956225\n",
      "CH achieved an RMSE of 245901.41179956225 \n",
      "\n",
      "223364.55622243427\n",
      "HC  achieved an RMSE of 223364.55622243427 \n",
      "\n",
      "221352.34338300177\n",
      "SAILAJA achieved an RMSE of 221352.34338300177 \n",
      "\n",
      "217443.37794190628\n",
      "MER achieved an RMSE of 217443.37794190628 \n",
      "\n",
      "212251.88900411825\n",
      "SLM achieved an RMSE of 212251.88900411825 \n",
      "\n",
      "210475.4498277611\n",
      "TOH achieved an RMSE of 210475.4498277611 \n",
      "\n",
      "204754.47743023848\n",
      "MMA achieved an RMSE of 204754.47743023848 \n",
      "\n",
      "202791.32492218193\n",
      "JNS achieved an RMSE of 202791.32492218193 \n",
      "\n",
      "202057.41411996848\n",
      "GMF achieved an RMSE of 202057.41411996848 \n",
      "\n",
      "176181.33858407763\n",
      "WL achieved an RMSE of 176181.33858407763 \n",
      "\n",
      "175268.07615273612\n",
      "BH achieved an RMSE of 175268.07615273612 \n",
      "\n",
      "158971.85035742042\n",
      "RL achieved an RMSE of 158971.85035742042 \n",
      "\n",
      "150727.4185643987\n",
      "DK achieved an RMSE of 150727.4185643987 \n",
      "\n"
     ]
    }
   ],
   "source": [
    "\n",
    "\n",
    "print('Now printing the results with in ascending order')\n",
    "\n",
    "for k,v in sorted_results:\n",
    "    print(v[1])\n",
    "    print('{} achieved an RMSE of {} \\n'.format(\n",
    "          k.upper(), v[1]))\n",
    "\n",
    "    time.sleep(2)\n"
   ]
  },
  {
   "cell_type": "code",
   "execution_count": null,
   "metadata": {},
   "outputs": [],
   "source": []
  }
 ],
 "metadata": {
  "kernelspec": {
   "display_name": "Python 3",
   "language": "python",
   "name": "python3"
  },
  "language_info": {
   "codemirror_mode": {
    "name": "ipython",
    "version": 3
   },
   "file_extension": ".py",
   "mimetype": "text/x-python",
   "name": "python",
   "nbconvert_exporter": "python",
   "pygments_lexer": "ipython3",
   "version": "3.7.3"
  }
 },
 "nbformat": 4,
 "nbformat_minor": 2
}
