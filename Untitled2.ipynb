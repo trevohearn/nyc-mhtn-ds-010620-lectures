{
 "cells": [
  {
   "cell_type": "code",
   "execution_count": 4,
   "metadata": {},
   "outputs": [
    {
     "name": "stdout",
     "output_type": "stream",
     "text": [
      "['01|15|59', '1|47|16', '01|17|20', '1|32|34', '2|17|17']\n",
      "['01', '15', '59']\n",
      "['1', '47', '16']\n",
      "['01', '17', '20']\n",
      "['1', '32', '34']\n",
      "['2', '17', '17']\n"
     ]
    }
   ],
   "source": [
    "ex = \"01|15|59, 1|47|16, 01|17|20, 1|32|34, 2|17|17\"\n",
    "stuffs = ex.split(', ')\n",
    "print(stuffs)\n",
    "for s in stuffs :\n",
    "    print(s.split('|'))"
   ]
  },
  {
   "cell_type": "code",
   "execution_count": null,
   "metadata": {},
   "outputs": [],
   "source": []
  }
 ],
 "metadata": {
  "kernelspec": {
   "display_name": "Python 3",
   "language": "python",
   "name": "python3"
  },
  "language_info": {
   "codemirror_mode": {
    "name": "ipython",
    "version": 3
   },
   "file_extension": ".py",
   "mimetype": "text/x-python",
   "name": "python",
   "nbconvert_exporter": "python",
   "pygments_lexer": "ipython3",
   "version": "3.7.4"
  }
 },
 "nbformat": 4,
 "nbformat_minor": 2
}
