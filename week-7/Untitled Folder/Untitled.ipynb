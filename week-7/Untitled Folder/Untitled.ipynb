{
 "cells": [
  {
   "cell_type": "code",
   "execution_count": 1,
   "metadata": {},
   "outputs": [],
   "source": [
    "import pandas as pd\n",
    "\n",
    "df = pd.read_csv(\"products.csv\")"
   ]
  },
  {
   "cell_type": "code",
   "execution_count": 4,
   "metadata": {},
   "outputs": [
    {
     "data": {
      "text/plain": [
       "ID                  0\n",
       "brand               0\n",
       "name                0\n",
       "product_type       12\n",
       "img              9473\n",
       "rating          10667\n",
       "dupes           10667\n",
       "description         0\n",
       "shade_img        4120\n",
       "price_site      10666\n",
       "view_count          0\n",
       "dtype: int64"
      ]
     },
     "execution_count": 4,
     "metadata": {},
     "output_type": "execute_result"
    }
   ],
   "source": [
    "df.isna().sum()"
   ]
  },
  {
   "cell_type": "code",
   "execution_count": 6,
   "metadata": {},
   "outputs": [
    {
     "data": {
      "text/plain": [
       "(10667, 11)"
      ]
     },
     "execution_count": 6,
     "metadata": {},
     "output_type": "execute_result"
    }
   ],
   "source": [
    "df.shape"
   ]
  },
  {
   "cell_type": "code",
   "execution_count": 13,
   "metadata": {},
   "outputs": [
    {
     "data": {
      "text/plain": [
       "0            1\n",
       "1            2\n",
       "2            3\n",
       "3            4\n",
       "4            5\n",
       "         ...  \n",
       "10662    10891\n",
       "10663    10892\n",
       "10664    10893\n",
       "10665    10894\n",
       "10666    10895\n",
       "Name: ID, Length: 10667, dtype: int64"
      ]
     },
     "execution_count": 13,
     "metadata": {},
     "output_type": "execute_result"
    }
   ],
   "source": [
    "df['ID']"
   ]
  },
  {
   "cell_type": "code",
   "execution_count": 17,
   "metadata": {},
   "outputs": [
    {
     "data": {
      "text/plain": [
       "127.5"
      ]
     },
     "execution_count": 17,
     "metadata": {},
     "output_type": "execute_result"
    }
   ],
   "source": [
    "255 / 2"
   ]
  },
  {
   "cell_type": "code",
   "execution_count": 25,
   "metadata": {},
   "outputs": [
    {
     "data": {
      "text/plain": [
       "127.072"
      ]
     },
     "execution_count": 25,
     "metadata": {},
     "output_type": "execute_result"
    }
   ],
   "source": [
    "256 * round((7/19), 3) + 52 * round((12/19), 3)"
   ]
  },
  {
   "cell_type": "code",
   "execution_count": 31,
   "metadata": {},
   "outputs": [
    {
     "data": {
      "text/plain": [
       "3"
      ]
     },
     "execution_count": 31,
     "metadata": {},
     "output_type": "execute_result"
    }
   ],
   "source": [
    "b = (1, 3,3)\n",
    "b[1]"
   ]
  },
  {
   "cell_type": "code",
   "execution_count": 33,
   "metadata": {},
   "outputs": [
    {
     "data": {
      "text/plain": [
       "3"
      ]
     },
     "execution_count": 33,
     "metadata": {},
     "output_type": "execute_result"
    }
   ],
   "source": [
    "len(b)"
   ]
  },
  {
   "cell_type": "markdown",
   "metadata": {},
   "source": [
    "\n",
    "# Unit 2 Final Project\n",
    "\n",
    "\n",
    "## Introduction\n",
    "\n",
    "In this document, we'll review all of the guidelines and specifications for the linear regression project.\n",
    "\n",
    "## Objectives\n",
    "You will be able to:\n",
    "* Describe all required aspects of the linear regression project\n",
    "* Describe all required deliverables\n",
    "* Describe what constitutes a successful project\n",
    "\n",
    "## Final Project Summary\n",
    "\n",
    "Congratulations you now know how to make predictions for continuous variables - take a minute to celebrate your awesomeness!\n",
    "\n",
    "![awesome](https://raw.githubusercontent.com/learn-co-curriculum/dsc-v2-mod1-final-project/master/awesome.gif)\n",
    "\n",
    "All that remains now is for you to put our newfound data science skills to use with a project! You should expect this project to take between 20 and 25 hours of solid, focused effort. If you're done way quicker, go back and dig in deeper or try some of the optional \"level up\" suggestions.\n",
    "\n",
    "## The Deliverables\n",
    "\n",
    "There will be four  deliverables for this project:\n",
    "\n",
    "1. A GitHub repo with at least the following:\n",
    "    - A read.me file that explains very briefly the project, and the other files in the repo.\n",
    "    - A well documented **Jupyter Notebook** containing the important parts of your project (consequential EDA, statistical tests, modeling results) and comments explaining it. This work will need to be pushed to your GitHub repository in order to submit your project.\n",
    "    - Your repo can contain other files like your data file and any other python files you wrote for this project.\n",
    "2. A 5-minute **Google Slides presentation**  giving a high-level overview of your methodology and recommendations for non-technical stakeholders. Make sure to also add and commit this as a pdf  to your repository with a file name of presentation.pdf.\n",
    "\n",
    "\n",
    "\n",
    "## The Dataset\n",
    "\n",
    "For this project, you'll be able to use a dataset of your choice. You can use datasets that you find on websites like Kaggle (https://www.kaggle.com/datasets) or UCI's Machine Learning Repository (https://archive.ics.uci.edu/ml/datasets.php). If you select a 'pre-made' dataset, you want to use one that isn't very common in the data science (not Wine quality, Boston Housing, Car MPG). This will help to differentiate you as a candidate when you apply for jobs later. You can also collect a custom dataset by scraping websites or pulling from an API. If you decide to go down this route, you must discuss the process first with a coach to ensure it is something you can complete in time.     \n",
    "\n",
    "When looking for a dataset, you want to be able to clearly identify a continuous dependent variable and the independent variables.  So you can start with a broad question like, \"What leads less people to ride the NYC subways,\" but will need to connect that to a measurable variable like daily subway riders. The instructors and coaches will meet with each team Monday morning to ensure that you have selected an appropriate dataset for this project.\n",
    "\n",
    "After you have gathered your data, you'll clean, explore, and model this dataset with a multivariate linear regression to predict the dependent variable of your choice as accurately as possible.\n",
    "\n",
    "> **Once you think you think you have a good idea, talk with a instructor or coach to have them approve the idea.**\n",
    "\n",
    "\n",
    "## The Process\n",
    "\n",
    "1. Think of a big picture problem\n",
    "2. Get the data.\n",
    "3. Discover and visualize the data to gain insights.\n",
    "4. Prepare the data for a linear regression model.\n",
    "5. Fit your model to the data and evaluate it.\n",
    "6. Fine-tune your model.\n",
    "7. Interpret the results and present your findings.\n",
    "\n",
    "\n",
    "\n",
    "## Deliverables Requirements\n",
    "\n",
    "This section outlines the rubric we'll use to evaluate your project.\n",
    "\n",
    "### 1. Technical Report Must-Haves\n",
    "\n",
    "For this project, your Jupyter Notebook should meet the following specifications:\n",
    "\n",
    "#### Organization/Code Cleanliness\n",
    "\n",
    "* The notebook should be well organized, easy to follow,  and code should be commented where appropriate.  \n",
    "    * Level Up: The notebook contains well-formatted, professional looking markdown cells explaining any substantial code.  All functions have docstrings that act as professional-quality documentation\n",
    "* The notebook is written for technical audiences with a way to both understand your approach and reproduce your results. The target audience for this deliverable is other data scientists looking to validate your findings.\n",
    "\n",
    "#### Visualizations & EDA\n",
    "\n",
    "* Your project contains at least 4 meaningful data visualizations, with corresponding interpretations. All visualizations are well labeled with axes labels, a title, and a legend (when appropriate)  \n",
    "* You pose at least 3 meaningful questions and answer them through EDA.  These questions should be well labeled and easy to identify inside the notebook.\n",
    "    * **Level Up**: Each question is clearly answered with a visualization that makes the answer easy to understand.   \n",
    "* Your notebook should contain 1 - 2 paragraphs briefly explaining your approach to this project.\n",
    "\n",
    "#### Statistical tests\n",
    "\n",
    "* You must perform at least 3 different statistical tests on your dataset and present their results as well as any conclusions you can draw from the results.  \n",
    "\n",
    "#### Model Quality/Approach\n",
    "\n",
    "* Your notebook shows an iterative approach to modeling, and details the parameters and results of the model at each iteration.  \n",
    "    * **Level Up**: Whenever necessary, you briefly explain the changes made from one iteration to the next, and why you made these choices.  \n",
    "* You provide at least 1 paragraph explaining your final model.   \n",
    "* You pick at least 3 coefficients from your final model and explain their impact on the dependent variable.   \n",
    "\n",
    "\n",
    "\n",
    "### 2. Non-Technical Presentation Must-Haves\n",
    "\n",
    "The second deliverable should be a Google Slides presentation delivered as a pdf file in your fork of this repository with the file name of `presentation.pdf` detailing the results of your project.  Your target audience is non-technical people interested in using your findings to maximize their profit when selling their home.\n",
    "\n",
    "Your presentation should:\n",
    "\n",
    "* Contain between 5 - 10 professional-quality slides.  \n",
    "    * **Level Up**: The slides should use visualizations whenever possible, and avoid walls of text.\n",
    "* Your presentation should include much of the same information from your technical report, the jupyter notebook, but adapted for a presentation. \n",
    "* Take no more than 5 minutes to present.   \n",
    "* Avoid extremely non-important rabbit holes (don't spend a minute breaking down your scraping and data cleaning process), and explain the results in a clear, actionable way for non-technical audiences.   \n",
    "\n",
    "**_Based on the results of your models, your presentation should discuss at least two concrete features that highly influence the dependent variable._**\n",
    "\n",
    "\n",
    "## Submitting your Project\n",
    "\n",
    " You’re almost done! In order for your project to be considered complete, you must finish and include the following links to your work in the corresponding fields of the project worksheet.\n",
    "\n",
    " 1. **GitHub Repo:** Now that you’ve completed your project in Jupyter Notebooks, push your work to GitHub and paste that link to the right. (If you need help doing so, review the resources [here](https://docs.google.com/spreadsheets/d/1CNGDhjcQZDRx2sWByd2v-mgUOjy13Cd_hQYVXPuzEDE/edit#gid=0).)\n",
    "_Reminder: Make sure to also add and commit a pdf of your non-technical presentation to the repository with a file name of presentation.pdf._\n",
    "2. **Blog Post:** Include a link to your blog post.\n",
    "\n",
    "\n",
    "## Summary\n",
    "\n",
    "The end of module projects and project reviews are a critical part of the program. They give you a chance to both bring together all the skills you've learned into realistic projects and to practice key \"business judgement\" and communication skills that you otherwise might not get as much practice with.\n",
    "\n",
    "The projects are serious and important. They are not graded, but they can be passed and they can be failed. Take the project seriously, put the time in, ask for help from your peers or instructors early and often if you need it, and treat the review as a job interview and you'll do great. We're rooting for you to succeed and we're only going to ask you to take a review again if we believe that you need to. We'll also provide open and honest feedback so you can improve as quickly and efficiently as possible.\n",
    "\n",
    "Finally, this is your second project. We don't expect you to remember all of the terms or to get all of the answers right. If in doubt, be honest. If you don't know something, say so. If you can't remember it, just say so. It's very unusual for someone to complete a project review without being asked a question they're unsure of, we know you might be nervous which may affect your performance. Just be as honest, precise and focused as you can be, and you'll do great!\n",
    "\n"
   ]
  },
  {
   "cell_type": "code",
   "execution_count": null,
   "metadata": {},
   "outputs": [],
   "source": []
  }
 ],
 "metadata": {
  "kernelspec": {
   "display_name": "Python 3",
   "language": "python",
   "name": "python3"
  },
  "language_info": {
   "codemirror_mode": {
    "name": "ipython",
    "version": 3
   },
   "file_extension": ".py",
   "mimetype": "text/x-python",
   "name": "python",
   "nbconvert_exporter": "python",
   "pygments_lexer": "ipython3",
   "version": "3.7.4"
  },
  "toc": {
   "base_numbering": 1,
   "nav_menu": {},
   "number_sections": true,
   "sideBar": true,
   "skip_h1_title": false,
   "title_cell": "Table of Contents",
   "title_sidebar": "Contents",
   "toc_cell": false,
   "toc_position": {},
   "toc_section_display": true,
   "toc_window_display": false
  }
 },
 "nbformat": 4,
 "nbformat_minor": 2
}
