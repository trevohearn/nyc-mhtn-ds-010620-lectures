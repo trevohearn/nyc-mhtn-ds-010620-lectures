{
 "cells": [
  {
   "cell_type": "code",
   "execution_count": 1,
   "metadata": {},
   "outputs": [],
   "source": [
    "import pandas as pd\n",
    "import matplotlib.pyplot as plt\n",
    "import numpy as np\n",
    "%matplotlib inline"
   ]
  },
  {
   "cell_type": "code",
   "execution_count": 2,
   "metadata": {
    "scrolled": true
   },
   "outputs": [
    {
     "name": "stderr",
     "output_type": "stream",
     "text": [
      "/Users/trevohearn/opt/anaconda3/lib/python3.7/site-packages/IPython/core/interactiveshell.py:3058: DtypeWarning: Columns (171) have mixed types. Specify dtype option on import or set low_memory=False.\n",
      "  interactivity=interactivity, compiler=compiler, result=result)\n"
     ]
    }
   ],
   "source": [
    "#Load our dataframe account for the index columns\n",
    "df = pd.read_csv('case_study.csv', delimiter=',')"
   ]
  },
  {
   "cell_type": "code",
   "execution_count": 3,
   "metadata": {},
   "outputs": [
    {
     "name": "stdout",
     "output_type": "stream",
     "text": [
      "<class 'pandas.core.frame.DataFrame'>\n",
      "RangeIndex: 34545 entries, 0 to 34544\n",
      "Columns: 359 entries, Unnamed: 0 to _AIDTST3\n",
      "dtypes: float64(352), int64(6), object(1)\n",
      "memory usage: 94.6+ MB\n"
     ]
    },
    {
     "data": {
      "text/html": [
       "<div>\n",
       "<style scoped>\n",
       "    .dataframe tbody tr th:only-of-type {\n",
       "        vertical-align: middle;\n",
       "    }\n",
       "\n",
       "    .dataframe tbody tr th {\n",
       "        vertical-align: top;\n",
       "    }\n",
       "\n",
       "    .dataframe thead th {\n",
       "        text-align: right;\n",
       "    }\n",
       "</style>\n",
       "<table border=\"1\" class=\"dataframe\">\n",
       "  <thead>\n",
       "    <tr style=\"text-align: right;\">\n",
       "      <th></th>\n",
       "      <th>Unnamed: 0</th>\n",
       "      <th>_STATE</th>\n",
       "      <th>FMONTH</th>\n",
       "      <th>IDATE</th>\n",
       "      <th>IMONTH</th>\n",
       "      <th>IDAY</th>\n",
       "      <th>IYEAR</th>\n",
       "      <th>DISPCODE</th>\n",
       "      <th>SEQNO</th>\n",
       "      <th>_PSU</th>\n",
       "      <th>...</th>\n",
       "      <th>_PA300R2</th>\n",
       "      <th>_PA30021</th>\n",
       "      <th>_PASTRNG</th>\n",
       "      <th>_PAREC1</th>\n",
       "      <th>_PASTAE1</th>\n",
       "      <th>_RFSEAT2</th>\n",
       "      <th>_RFSEAT3</th>\n",
       "      <th>_FLSHOT6</th>\n",
       "      <th>_PNEUMO2</th>\n",
       "      <th>_AIDTST3</th>\n",
       "    </tr>\n",
       "  </thead>\n",
       "  <tbody>\n",
       "    <tr>\n",
       "      <td>0</td>\n",
       "      <td>49938</td>\n",
       "      <td>9.0</td>\n",
       "      <td>5.0</td>\n",
       "      <td>5172017</td>\n",
       "      <td>5</td>\n",
       "      <td>17</td>\n",
       "      <td>2017</td>\n",
       "      <td>1200.0</td>\n",
       "      <td>2017000001</td>\n",
       "      <td>2.017000e+09</td>\n",
       "      <td>...</td>\n",
       "      <td>2.0</td>\n",
       "      <td>2.0</td>\n",
       "      <td>2.0</td>\n",
       "      <td>4.0</td>\n",
       "      <td>2.0</td>\n",
       "      <td>1.0</td>\n",
       "      <td>1.0</td>\n",
       "      <td>NaN</td>\n",
       "      <td>NaN</td>\n",
       "      <td>1.0</td>\n",
       "    </tr>\n",
       "    <tr>\n",
       "      <td>1</td>\n",
       "      <td>49939</td>\n",
       "      <td>9.0</td>\n",
       "      <td>2.0</td>\n",
       "      <td>2142017</td>\n",
       "      <td>2</td>\n",
       "      <td>14</td>\n",
       "      <td>2017</td>\n",
       "      <td>1200.0</td>\n",
       "      <td>2017000002</td>\n",
       "      <td>2.017000e+09</td>\n",
       "      <td>...</td>\n",
       "      <td>1.0</td>\n",
       "      <td>1.0</td>\n",
       "      <td>1.0</td>\n",
       "      <td>1.0</td>\n",
       "      <td>1.0</td>\n",
       "      <td>2.0</td>\n",
       "      <td>2.0</td>\n",
       "      <td>NaN</td>\n",
       "      <td>NaN</td>\n",
       "      <td>2.0</td>\n",
       "    </tr>\n",
       "    <tr>\n",
       "      <td>2</td>\n",
       "      <td>49940</td>\n",
       "      <td>9.0</td>\n",
       "      <td>1.0</td>\n",
       "      <td>1292017</td>\n",
       "      <td>1</td>\n",
       "      <td>29</td>\n",
       "      <td>2017</td>\n",
       "      <td>1200.0</td>\n",
       "      <td>2017000003</td>\n",
       "      <td>2.017000e+09</td>\n",
       "      <td>...</td>\n",
       "      <td>3.0</td>\n",
       "      <td>2.0</td>\n",
       "      <td>1.0</td>\n",
       "      <td>3.0</td>\n",
       "      <td>2.0</td>\n",
       "      <td>1.0</td>\n",
       "      <td>1.0</td>\n",
       "      <td>NaN</td>\n",
       "      <td>NaN</td>\n",
       "      <td>2.0</td>\n",
       "    </tr>\n",
       "    <tr>\n",
       "      <td>3</td>\n",
       "      <td>49941</td>\n",
       "      <td>9.0</td>\n",
       "      <td>7.0</td>\n",
       "      <td>9112017</td>\n",
       "      <td>9</td>\n",
       "      <td>11</td>\n",
       "      <td>2017</td>\n",
       "      <td>1200.0</td>\n",
       "      <td>2017000004</td>\n",
       "      <td>2.017000e+09</td>\n",
       "      <td>...</td>\n",
       "      <td>2.0</td>\n",
       "      <td>2.0</td>\n",
       "      <td>2.0</td>\n",
       "      <td>2.0</td>\n",
       "      <td>2.0</td>\n",
       "      <td>1.0</td>\n",
       "      <td>1.0</td>\n",
       "      <td>NaN</td>\n",
       "      <td>NaN</td>\n",
       "      <td>1.0</td>\n",
       "    </tr>\n",
       "    <tr>\n",
       "      <td>4</td>\n",
       "      <td>49942</td>\n",
       "      <td>9.0</td>\n",
       "      <td>5.0</td>\n",
       "      <td>7182017</td>\n",
       "      <td>7</td>\n",
       "      <td>18</td>\n",
       "      <td>2017</td>\n",
       "      <td>1200.0</td>\n",
       "      <td>2017000005</td>\n",
       "      <td>2.017000e+09</td>\n",
       "      <td>...</td>\n",
       "      <td>2.0</td>\n",
       "      <td>2.0</td>\n",
       "      <td>1.0</td>\n",
       "      <td>1.0</td>\n",
       "      <td>1.0</td>\n",
       "      <td>1.0</td>\n",
       "      <td>1.0</td>\n",
       "      <td>NaN</td>\n",
       "      <td>NaN</td>\n",
       "      <td>2.0</td>\n",
       "    </tr>\n",
       "    <tr>\n",
       "      <td>...</td>\n",
       "      <td>...</td>\n",
       "      <td>...</td>\n",
       "      <td>...</td>\n",
       "      <td>...</td>\n",
       "      <td>...</td>\n",
       "      <td>...</td>\n",
       "      <td>...</td>\n",
       "      <td>...</td>\n",
       "      <td>...</td>\n",
       "      <td>...</td>\n",
       "      <td>...</td>\n",
       "      <td>...</td>\n",
       "      <td>...</td>\n",
       "      <td>...</td>\n",
       "      <td>...</td>\n",
       "      <td>...</td>\n",
       "      <td>...</td>\n",
       "      <td>...</td>\n",
       "      <td>...</td>\n",
       "      <td>...</td>\n",
       "      <td>...</td>\n",
       "    </tr>\n",
       "    <tr>\n",
       "      <td>34540</td>\n",
       "      <td>303774</td>\n",
       "      <td>36.0</td>\n",
       "      <td>5.0</td>\n",
       "      <td>5152017</td>\n",
       "      <td>5</td>\n",
       "      <td>15</td>\n",
       "      <td>2017</td>\n",
       "      <td>1200.0</td>\n",
       "      <td>2017012245</td>\n",
       "      <td>2.017012e+09</td>\n",
       "      <td>...</td>\n",
       "      <td>3.0</td>\n",
       "      <td>2.0</td>\n",
       "      <td>2.0</td>\n",
       "      <td>4.0</td>\n",
       "      <td>2.0</td>\n",
       "      <td>1.0</td>\n",
       "      <td>1.0</td>\n",
       "      <td>NaN</td>\n",
       "      <td>NaN</td>\n",
       "      <td>1.0</td>\n",
       "    </tr>\n",
       "    <tr>\n",
       "      <td>34541</td>\n",
       "      <td>303775</td>\n",
       "      <td>36.0</td>\n",
       "      <td>6.0</td>\n",
       "      <td>6252017</td>\n",
       "      <td>6</td>\n",
       "      <td>25</td>\n",
       "      <td>2017</td>\n",
       "      <td>1200.0</td>\n",
       "      <td>2017012246</td>\n",
       "      <td>2.017012e+09</td>\n",
       "      <td>...</td>\n",
       "      <td>2.0</td>\n",
       "      <td>2.0</td>\n",
       "      <td>2.0</td>\n",
       "      <td>4.0</td>\n",
       "      <td>2.0</td>\n",
       "      <td>1.0</td>\n",
       "      <td>1.0</td>\n",
       "      <td>NaN</td>\n",
       "      <td>NaN</td>\n",
       "      <td>1.0</td>\n",
       "    </tr>\n",
       "    <tr>\n",
       "      <td>34542</td>\n",
       "      <td>303776</td>\n",
       "      <td>36.0</td>\n",
       "      <td>7.0</td>\n",
       "      <td>7212017</td>\n",
       "      <td>7</td>\n",
       "      <td>21</td>\n",
       "      <td>2017</td>\n",
       "      <td>1200.0</td>\n",
       "      <td>2017012247</td>\n",
       "      <td>2.017012e+09</td>\n",
       "      <td>...</td>\n",
       "      <td>2.0</td>\n",
       "      <td>2.0</td>\n",
       "      <td>2.0</td>\n",
       "      <td>4.0</td>\n",
       "      <td>2.0</td>\n",
       "      <td>1.0</td>\n",
       "      <td>1.0</td>\n",
       "      <td>NaN</td>\n",
       "      <td>NaN</td>\n",
       "      <td>1.0</td>\n",
       "    </tr>\n",
       "    <tr>\n",
       "      <td>34543</td>\n",
       "      <td>303777</td>\n",
       "      <td>36.0</td>\n",
       "      <td>7.0</td>\n",
       "      <td>7202017</td>\n",
       "      <td>7</td>\n",
       "      <td>20</td>\n",
       "      <td>2017</td>\n",
       "      <td>1200.0</td>\n",
       "      <td>2017012248</td>\n",
       "      <td>2.017012e+09</td>\n",
       "      <td>...</td>\n",
       "      <td>9.0</td>\n",
       "      <td>9.0</td>\n",
       "      <td>9.0</td>\n",
       "      <td>9.0</td>\n",
       "      <td>9.0</td>\n",
       "      <td>9.0</td>\n",
       "      <td>9.0</td>\n",
       "      <td>9.0</td>\n",
       "      <td>9.0</td>\n",
       "      <td>9.0</td>\n",
       "    </tr>\n",
       "    <tr>\n",
       "      <td>34544</td>\n",
       "      <td>303778</td>\n",
       "      <td>36.0</td>\n",
       "      <td>7.0</td>\n",
       "      <td>7252017</td>\n",
       "      <td>7</td>\n",
       "      <td>25</td>\n",
       "      <td>2017</td>\n",
       "      <td>1200.0</td>\n",
       "      <td>2017012249</td>\n",
       "      <td>2.017012e+09</td>\n",
       "      <td>...</td>\n",
       "      <td>3.0</td>\n",
       "      <td>2.0</td>\n",
       "      <td>2.0</td>\n",
       "      <td>4.0</td>\n",
       "      <td>2.0</td>\n",
       "      <td>1.0</td>\n",
       "      <td>1.0</td>\n",
       "      <td>NaN</td>\n",
       "      <td>NaN</td>\n",
       "      <td>1.0</td>\n",
       "    </tr>\n",
       "  </tbody>\n",
       "</table>\n",
       "<p>34545 rows × 359 columns</p>\n",
       "</div>"
      ],
      "text/plain": [
       "       Unnamed: 0  _STATE  FMONTH    IDATE  IMONTH  IDAY  IYEAR  DISPCODE  \\\n",
       "0           49938     9.0     5.0  5172017       5    17   2017    1200.0   \n",
       "1           49939     9.0     2.0  2142017       2    14   2017    1200.0   \n",
       "2           49940     9.0     1.0  1292017       1    29   2017    1200.0   \n",
       "3           49941     9.0     7.0  9112017       9    11   2017    1200.0   \n",
       "4           49942     9.0     5.0  7182017       7    18   2017    1200.0   \n",
       "...           ...     ...     ...      ...     ...   ...    ...       ...   \n",
       "34540      303774    36.0     5.0  5152017       5    15   2017    1200.0   \n",
       "34541      303775    36.0     6.0  6252017       6    25   2017    1200.0   \n",
       "34542      303776    36.0     7.0  7212017       7    21   2017    1200.0   \n",
       "34543      303777    36.0     7.0  7202017       7    20   2017    1200.0   \n",
       "34544      303778    36.0     7.0  7252017       7    25   2017    1200.0   \n",
       "\n",
       "            SEQNO          _PSU  ...  _PA300R2  _PA30021  _PASTRNG  _PAREC1  \\\n",
       "0      2017000001  2.017000e+09  ...       2.0       2.0       2.0      4.0   \n",
       "1      2017000002  2.017000e+09  ...       1.0       1.0       1.0      1.0   \n",
       "2      2017000003  2.017000e+09  ...       3.0       2.0       1.0      3.0   \n",
       "3      2017000004  2.017000e+09  ...       2.0       2.0       2.0      2.0   \n",
       "4      2017000005  2.017000e+09  ...       2.0       2.0       1.0      1.0   \n",
       "...           ...           ...  ...       ...       ...       ...      ...   \n",
       "34540  2017012245  2.017012e+09  ...       3.0       2.0       2.0      4.0   \n",
       "34541  2017012246  2.017012e+09  ...       2.0       2.0       2.0      4.0   \n",
       "34542  2017012247  2.017012e+09  ...       2.0       2.0       2.0      4.0   \n",
       "34543  2017012248  2.017012e+09  ...       9.0       9.0       9.0      9.0   \n",
       "34544  2017012249  2.017012e+09  ...       3.0       2.0       2.0      4.0   \n",
       "\n",
       "       _PASTAE1  _RFSEAT2  _RFSEAT3  _FLSHOT6  _PNEUMO2  _AIDTST3  \n",
       "0           2.0       1.0       1.0       NaN       NaN       1.0  \n",
       "1           1.0       2.0       2.0       NaN       NaN       2.0  \n",
       "2           2.0       1.0       1.0       NaN       NaN       2.0  \n",
       "3           2.0       1.0       1.0       NaN       NaN       1.0  \n",
       "4           1.0       1.0       1.0       NaN       NaN       2.0  \n",
       "...         ...       ...       ...       ...       ...       ...  \n",
       "34540       2.0       1.0       1.0       NaN       NaN       1.0  \n",
       "34541       2.0       1.0       1.0       NaN       NaN       1.0  \n",
       "34542       2.0       1.0       1.0       NaN       NaN       1.0  \n",
       "34543       9.0       9.0       9.0       9.0       9.0       9.0  \n",
       "34544       2.0       1.0       1.0       NaN       NaN       1.0  \n",
       "\n",
       "[34545 rows x 359 columns]"
      ]
     },
     "execution_count": 3,
     "metadata": {},
     "output_type": "execute_result"
    }
   ],
   "source": [
    "# Quickly check to see the size of our DF, both rows and columns\n",
    "df.info()\n",
    "df"
   ]
  },
  {
   "cell_type": "code",
   "execution_count": 4,
   "metadata": {},
   "outputs": [
    {
     "data": {
      "text/plain": [
       "array([ 9., 34., 36.])"
      ]
     },
     "execution_count": 4,
     "metadata": {},
     "output_type": "execute_result"
    }
   ],
   "source": [
    "df.shape\n",
    "df['_STATE'].unique()"
   ]
  },
  {
   "cell_type": "markdown",
   "metadata": {},
   "source": [
    "## Subset your dataframe to only include the states in the tri-state area (NJ, CT, NY)"
   ]
  },
  {
   "cell_type": "code",
   "execution_count": 5,
   "metadata": {},
   "outputs": [
    {
     "data": {
      "text/plain": [
       "array([ 9, 34, 36])"
      ]
     },
     "execution_count": 5,
     "metadata": {},
     "output_type": "execute_result"
    }
   ],
   "source": [
    "# your code here\n",
    "#NJ = 34\n",
    "#CT = 9\n",
    "#NY = 36\n",
    "df['_STATE'] = df['_STATE'].astype('int32')\n",
    "df\n",
    "#df2 = df.set_index('_STATE')#.reset_index()\n",
    "df['_STATE'].unique() #array([9,34,36])\n",
    "\n",
    "#already set to only include the states in the tristate area"
   ]
  },
  {
   "cell_type": "markdown",
   "metadata": {},
   "source": [
    "Now check to see how large our subset df."
   ]
  },
  {
   "cell_type": "code",
   "execution_count": 6,
   "metadata": {},
   "outputs": [
    {
     "name": "stdout",
     "output_type": "stream",
     "text": [
      "<class 'pandas.core.frame.DataFrame'>\n",
      "RangeIndex: 34545 entries, 0 to 34544\n",
      "Columns: 359 entries, Unnamed: 0 to _AIDTST3\n",
      "dtypes: float64(351), int32(1), int64(6), object(1)\n",
      "memory usage: 94.5+ MB\n"
     ]
    }
   ],
   "source": [
    "# your code here\n",
    "df.info()"
   ]
  },
  {
   "cell_type": "markdown",
   "metadata": {},
   "source": [
    "**PHYSHLTH** is the column we are interested in for this analysis, so let's start to investigate the column. Since we have a data cookbook, a.k.a. data dictionary) we want to start there before looking at the code. "
   ]
  },
  {
   "cell_type": "code",
   "execution_count": 7,
   "metadata": {},
   "outputs": [
    {
     "data": {
      "text/plain": [
       "count    34545.000000\n",
       "mean        60.213403\n",
       "std         37.504566\n",
       "min          1.000000\n",
       "25%         15.000000\n",
       "50%         88.000000\n",
       "75%         88.000000\n",
       "max         99.000000\n",
       "Name: PHYSHLTH, dtype: float64"
      ]
     },
     "execution_count": 7,
     "metadata": {},
     "output_type": "execute_result"
    }
   ],
   "source": [
    "df['PHYSHLTH'].describe()"
   ]
  },
  {
   "cell_type": "markdown",
   "metadata": {},
   "source": [
    "## 1. Handle the non-normal values\n",
    "\n",
    "As you can see from the data dictionary, there are a number of responses that are coded with values that could throw off our descriptive statistics.  Let's clean up by mapping the responses to a more appropriate value, and handling any missing values.  "
   ]
  },
  {
   "cell_type": "code",
   "execution_count": 8,
   "metadata": {},
   "outputs": [
    {
     "data": {
      "text/plain": [
       "array([ 0,  2, 28,  5, 30,  4,  3, 15, 29,  7, 10, 14,  6,  1,  8, 25, 20,\n",
       "       12, 18, 27, 21, 19, 22,  9, 13, 17, 11, 16, 24, 26, 23])"
      ]
     },
     "execution_count": 8,
     "metadata": {},
     "output_type": "execute_result"
    }
   ],
   "source": [
    "#your code here\n",
    "df['PHYSHLTH'].isna().unique()#check for nan #0 days sick\n",
    "df.dropna(subset=['PHYSHLTH'], inplace=True)\n",
    "df['PHYSHLTH'] = df['PHYSHLTH'].astype('int64')\n",
    "df['PHYSHLTH'] = df['PHYSHLTH'].replace(to_replace=88, value= 0) #0 days sick\n",
    "df['PHYSHLTH'] = df['PHYSHLTH'].replace(to_replace=77, value= 0) #not sure\n",
    "df['PHYSHLTH'] = df['PHYSHLTH'].replace(to_replace=99, value= 0) #refused\n",
    "\n",
    "#df.drop(subset='PHYSHLTH')\n",
    "\n",
    "\n",
    "#another way to integrate bad values\n",
    "#mean = df['PHYSHLTH'].mean()\n",
    "#df['PHYSHLTH'] = df['PHYSHLTH'].replace(to_replace=77, value=int(mean)) #\n",
    "#df['PHYSHLTH'] = df['PHYSHLTH'].replace(to_replace=99, value=int(mean)) #\n",
    "df['PHYSHLTH'].unique()"
   ]
  },
  {
   "cell_type": "markdown",
   "metadata": {},
   "source": [
    "## 2. Generate the descriptive statistics\n",
    "\n",
    "Now that our target variable is cleaned up lets calculate the descriptive statistics, generate a graph that quickly shows those statistics, and generate a gprah shows the histogram of the data."
   ]
  },
  {
   "cell_type": "code",
   "execution_count": 9,
   "metadata": {},
   "outputs": [
    {
     "data": {
      "text/plain": [
       "(array([2.2094e+04, 1.5380e+03, 1.9930e+03, 1.1870e+03, 6.2200e+02,\n",
       "        1.0920e+03, 1.8700e+02, 6.4100e+02, 9.9000e+01, 1.5000e+01,\n",
       "        7.5100e+02, 8.0000e+00, 6.9000e+01, 1.0000e+01, 3.2600e+02,\n",
       "        6.4000e+02, 1.6000e+01, 1.5000e+01, 1.9000e+01, 1.0000e+01,\n",
       "        4.0200e+02, 7.0000e+01, 1.2000e+01, 4.0000e+00, 7.0000e+00,\n",
       "        1.5900e+02, 7.0000e+00, 2.2000e+01, 5.7000e+01, 3.5000e+01,\n",
       "        2.4380e+03]),\n",
       " array([ 0.        ,  0.96774194,  1.93548387,  2.90322581,  3.87096774,\n",
       "         4.83870968,  5.80645161,  6.77419355,  7.74193548,  8.70967742,\n",
       "         9.67741935, 10.64516129, 11.61290323, 12.58064516, 13.5483871 ,\n",
       "        14.51612903, 15.48387097, 16.4516129 , 17.41935484, 18.38709677,\n",
       "        19.35483871, 20.32258065, 21.29032258, 22.25806452, 23.22580645,\n",
       "        24.19354839, 25.16129032, 26.12903226, 27.09677419, 28.06451613,\n",
       "        29.03225806, 30.        ]),\n",
       " <a list of 31 Patch objects>)"
      ]
     },
     "execution_count": 9,
     "metadata": {},
     "output_type": "execute_result"
    },
    {
     "data": {
      "image/png": "[encoded data removed]",
      "text/plain": [
       "<Figure size 432x288 with 1 Axes>"
      ]
     },
     "metadata": {
      "needs_background": "light"
     },
     "output_type": "display_data"
    }
   ],
   "source": [
    "l = len(df['PHYSHLTH'].unique())\n",
    "plt.title(\"Physical Health\")\n",
    "plt.xlabel(\"Days Sick\")\n",
    "plt.ylabel('Quantity')\n",
    "plt.hist(df['PHYSHLTH'], bins = l)"
   ]
  },
  {
   "cell_type": "code",
   "execution_count": 10,
   "metadata": {},
   "outputs": [
    {
     "name": "stderr",
     "output_type": "stream",
     "text": [
      "/Users/trevohearn/opt/anaconda3/lib/python3.7/site-packages/numpy/lib/histograms.py:829: RuntimeWarning: invalid value encountered in greater_equal\n",
      "  keep = (tmp_a >= first_edge)\n",
      "/Users/trevohearn/opt/anaconda3/lib/python3.7/site-packages/numpy/lib/histograms.py:830: RuntimeWarning: invalid value encountered in less_equal\n",
      "  keep &= (tmp_a <= last_edge)\n"
     ]
    },
    {
     "data": {
      "text/plain": [
       "(array([4718., 1901.,  755.,  828.,  976.,   50.,  482.,   23.,  188.,\n",
       "        2530.]),\n",
       " array([ 1. ,  3.9,  6.8,  9.7, 12.6, 15.5, 18.4, 21.3, 24.2, 27.1, 30. ]),\n",
       " <a list of 10 Patch objects>)"
      ]
     },
     "execution_count": 10,
     "metadata": {},
     "output_type": "execute_result"
    },
    {
     "data": {
      "image/png": "[encoded data removed]",
      "text/plain": [
       "<Figure size 432x288 with 1 Axes>"
      ]
     },
     "metadata": {
      "needs_background": "light"
     },
     "output_type": "display_data"
    }
   ],
   "source": [
    "# graphic showing those descriptive stats\n",
    "#df['SICK'] = df['PHYSHLTH'].apply(lambda x: x != 0, df['PHYSHLTH'])\n",
    "df['SICK'] = df['PHYSHLTH'][df['PHYSHLTH'] != 0]\n",
    "df['SICK'].describe()\n",
    "df['SICK']\n",
    "plt.title('Days of People Being Sick')\n",
    "plt.xlabel(\"Days\")\n",
    "plt.ylabel(\"Quantity of People\")\n",
    "plt.hist(df['SICK'])\n",
    "#plt.show()"
   ]
  },
  {
   "cell_type": "code",
   "execution_count": 11,
   "metadata": {},
   "outputs": [
    {
     "data": {
      "text/plain": [
       "(array([4718., 1901.,  755.,  828.,  976.,   50.,  482.,   23.,  188.,\n",
       "        2530.]),\n",
       " array([ 1. ,  3.9,  6.8,  9.7, 12.6, 15.5, 18.4, 21.3, 24.2, 27.1, 30. ]),\n",
       " <a list of 10 Patch objects>)"
      ]
     },
     "execution_count": 11,
     "metadata": {},
     "output_type": "execute_result"
    },
    {
     "data": {
      "image/png": "[encoded data removed]",
      "text/plain": [
       "<Figure size 432x288 with 1 Axes>"
      ]
     },
     "metadata": {
      "needs_background": "light"
     },
     "output_type": "display_data"
    }
   ],
   "source": [
    "# graphic showing the distribution of data\n",
    "plt.hist(df['SICK'])"
   ]
  },
  {
   "cell_type": "markdown",
   "metadata": {},
   "source": [
    "## 3. Generate a graphic that compares the average number of sick days for each state. "
   ]
  },
  {
   "cell_type": "code",
   "execution_count": 12,
   "metadata": {},
   "outputs": [
    {
     "data": {
      "text/plain": [
       "<BarContainer object of 3 artists>"
      ]
     },
     "execution_count": 12,
     "metadata": {},
     "output_type": "execute_result"
    },
    {
     "data": {
      "image/png": "[encoded data removed]",
      "text/plain": [
       "<Figure size 432x288 with 1 Axes>"
      ]
     },
     "metadata": {
      "needs_background": "light"
     },
     "output_type": "display_data"
    }
   ],
   "source": [
    "# code to calculate the average number of sick days by state\n",
    "\n",
    "#NJ = 34\n",
    "#CT = 9\n",
    "#NY = 36\n",
    "\n",
    "#grp1 = df.groupby('_STATE')['_STATE'].mean().sort_values('')\n",
    "#type(grp_state)\n",
    "grp_avgsickdays = df.groupby('_STATE')['SICK'].mean()\n",
    "grp_avgsickdays\n",
    "plt.title('Average Sick Days by State')\n",
    "plt.ylabel('Days')\n",
    "plt.xlabel('State')\n",
    "plt.bar(x = ['CT', 'NJ', 'NY'], height = grp_avgsickdays.values, align='edge', edgecolor='black' )\n",
    "#grp = df.groupby('_STATE').mean()\n",
    "#grp\n",
    "#first_state = grp_state[df['_STATE'] == 9]\n",
    "#first_state\n",
    "#grp_state\n",
    "#plt.hist(grp_state, edgecolor='black')\n",
    "#plt.hist(grp_state = df.groupby('_STATE')['SICK'].mean())"
   ]
  },
  {
   "cell_type": "code",
   "execution_count": 13,
   "metadata": {},
   "outputs": [
    {
     "data": {
      "text/plain": [
       "(array([1., 1., 0., 0., 0., 0., 0., 0., 0., 1.]),\n",
       " array([10.67121674, 10.72920102, 10.78718531, 10.8451696 , 10.90315389,\n",
       "        10.96113818, 11.01912247, 11.07710675, 11.13509104, 11.19307533,\n",
       "        11.25105962]),\n",
       " <a list of 10 Patch objects>)"
      ]
     },
     "execution_count": 13,
     "metadata": {},
     "output_type": "execute_result"
    },
    {
     "data": {
      "image/png": "[encoded data removed]",
      "text/plain": [
       "<Figure size 432x288 with 1 Axes>"
      ]
     },
     "metadata": {
      "needs_background": "light"
     },
     "output_type": "display_data"
    }
   ],
   "source": [
    "# code to graph those averages using matplotlib\n",
    "plt.hist(df.groupby('_STATE')['SICK'].std())"
   ]
  },
  {
   "cell_type": "markdown",
   "metadata": {},
   "source": [
    "## 4. Turn the number of sick days into a classification of of chronically sick people.  \n",
    "\n",
    "Chronically sick people account for a significant proportion of the costs for health insurers. If we can identify what leads people to be chronically sick, we can address them with specific treatments.\n",
    "\n"
   ]
  },
  {
   "cell_type": "code",
   "execution_count": 14,
   "metadata": {},
   "outputs": [
    {
     "data": {
      "text/html": [
       "<div>\n",
       "<style scoped>\n",
       "    .dataframe tbody tr th:only-of-type {\n",
       "        vertical-align: middle;\n",
       "    }\n",
       "\n",
       "    .dataframe tbody tr th {\n",
       "        vertical-align: top;\n",
       "    }\n",
       "\n",
       "    .dataframe thead th {\n",
       "        text-align: right;\n",
       "    }\n",
       "</style>\n",
       "<table border=\"1\" class=\"dataframe\">\n",
       "  <thead>\n",
       "    <tr style=\"text-align: right;\">\n",
       "      <th></th>\n",
       "      <th>Unnamed: 0</th>\n",
       "      <th>_STATE</th>\n",
       "      <th>FMONTH</th>\n",
       "      <th>IDATE</th>\n",
       "      <th>IMONTH</th>\n",
       "      <th>IDAY</th>\n",
       "      <th>IYEAR</th>\n",
       "      <th>DISPCODE</th>\n",
       "      <th>SEQNO</th>\n",
       "      <th>_PSU</th>\n",
       "      <th>...</th>\n",
       "      <th>_PASTRNG</th>\n",
       "      <th>_PAREC1</th>\n",
       "      <th>_PASTAE1</th>\n",
       "      <th>_RFSEAT2</th>\n",
       "      <th>_RFSEAT3</th>\n",
       "      <th>_FLSHOT6</th>\n",
       "      <th>_PNEUMO2</th>\n",
       "      <th>_AIDTST3</th>\n",
       "      <th>SICK</th>\n",
       "      <th>SICK_CHRONIC</th>\n",
       "    </tr>\n",
       "  </thead>\n",
       "  <tbody>\n",
       "    <tr>\n",
       "      <td>0</td>\n",
       "      <td>49938</td>\n",
       "      <td>9</td>\n",
       "      <td>5.0</td>\n",
       "      <td>5172017</td>\n",
       "      <td>5</td>\n",
       "      <td>17</td>\n",
       "      <td>2017</td>\n",
       "      <td>1200.0</td>\n",
       "      <td>2017000001</td>\n",
       "      <td>2.017000e+09</td>\n",
       "      <td>...</td>\n",
       "      <td>2.0</td>\n",
       "      <td>4.0</td>\n",
       "      <td>2.0</td>\n",
       "      <td>1.0</td>\n",
       "      <td>1.0</td>\n",
       "      <td>NaN</td>\n",
       "      <td>NaN</td>\n",
       "      <td>1.0</td>\n",
       "      <td>NaN</td>\n",
       "      <td>NaN</td>\n",
       "    </tr>\n",
       "    <tr>\n",
       "      <td>1</td>\n",
       "      <td>49939</td>\n",
       "      <td>9</td>\n",
       "      <td>2.0</td>\n",
       "      <td>2142017</td>\n",
       "      <td>2</td>\n",
       "      <td>14</td>\n",
       "      <td>2017</td>\n",
       "      <td>1200.0</td>\n",
       "      <td>2017000002</td>\n",
       "      <td>2.017000e+09</td>\n",
       "      <td>...</td>\n",
       "      <td>1.0</td>\n",
       "      <td>1.0</td>\n",
       "      <td>1.0</td>\n",
       "      <td>2.0</td>\n",
       "      <td>2.0</td>\n",
       "      <td>NaN</td>\n",
       "      <td>NaN</td>\n",
       "      <td>2.0</td>\n",
       "      <td>NaN</td>\n",
       "      <td>NaN</td>\n",
       "    </tr>\n",
       "    <tr>\n",
       "      <td>2</td>\n",
       "      <td>49940</td>\n",
       "      <td>9</td>\n",
       "      <td>1.0</td>\n",
       "      <td>1292017</td>\n",
       "      <td>1</td>\n",
       "      <td>29</td>\n",
       "      <td>2017</td>\n",
       "      <td>1200.0</td>\n",
       "      <td>2017000003</td>\n",
       "      <td>2.017000e+09</td>\n",
       "      <td>...</td>\n",
       "      <td>1.0</td>\n",
       "      <td>3.0</td>\n",
       "      <td>2.0</td>\n",
       "      <td>1.0</td>\n",
       "      <td>1.0</td>\n",
       "      <td>NaN</td>\n",
       "      <td>NaN</td>\n",
       "      <td>2.0</td>\n",
       "      <td>2.0</td>\n",
       "      <td>NaN</td>\n",
       "    </tr>\n",
       "    <tr>\n",
       "      <td>3</td>\n",
       "      <td>49941</td>\n",
       "      <td>9</td>\n",
       "      <td>7.0</td>\n",
       "      <td>9112017</td>\n",
       "      <td>9</td>\n",
       "      <td>11</td>\n",
       "      <td>2017</td>\n",
       "      <td>1200.0</td>\n",
       "      <td>2017000004</td>\n",
       "      <td>2.017000e+09</td>\n",
       "      <td>...</td>\n",
       "      <td>2.0</td>\n",
       "      <td>2.0</td>\n",
       "      <td>2.0</td>\n",
       "      <td>1.0</td>\n",
       "      <td>1.0</td>\n",
       "      <td>NaN</td>\n",
       "      <td>NaN</td>\n",
       "      <td>1.0</td>\n",
       "      <td>NaN</td>\n",
       "      <td>NaN</td>\n",
       "    </tr>\n",
       "    <tr>\n",
       "      <td>4</td>\n",
       "      <td>49942</td>\n",
       "      <td>9</td>\n",
       "      <td>5.0</td>\n",
       "      <td>7182017</td>\n",
       "      <td>7</td>\n",
       "      <td>18</td>\n",
       "      <td>2017</td>\n",
       "      <td>1200.0</td>\n",
       "      <td>2017000005</td>\n",
       "      <td>2.017000e+09</td>\n",
       "      <td>...</td>\n",
       "      <td>1.0</td>\n",
       "      <td>1.0</td>\n",
       "      <td>1.0</td>\n",
       "      <td>1.0</td>\n",
       "      <td>1.0</td>\n",
       "      <td>NaN</td>\n",
       "      <td>NaN</td>\n",
       "      <td>2.0</td>\n",
       "      <td>NaN</td>\n",
       "      <td>NaN</td>\n",
       "    </tr>\n",
       "    <tr>\n",
       "      <td>...</td>\n",
       "      <td>...</td>\n",
       "      <td>...</td>\n",
       "      <td>...</td>\n",
       "      <td>...</td>\n",
       "      <td>...</td>\n",
       "      <td>...</td>\n",
       "      <td>...</td>\n",
       "      <td>...</td>\n",
       "      <td>...</td>\n",
       "      <td>...</td>\n",
       "      <td>...</td>\n",
       "      <td>...</td>\n",
       "      <td>...</td>\n",
       "      <td>...</td>\n",
       "      <td>...</td>\n",
       "      <td>...</td>\n",
       "      <td>...</td>\n",
       "      <td>...</td>\n",
       "      <td>...</td>\n",
       "      <td>...</td>\n",
       "      <td>...</td>\n",
       "    </tr>\n",
       "    <tr>\n",
       "      <td>34540</td>\n",
       "      <td>303774</td>\n",
       "      <td>36</td>\n",
       "      <td>5.0</td>\n",
       "      <td>5152017</td>\n",
       "      <td>5</td>\n",
       "      <td>15</td>\n",
       "      <td>2017</td>\n",
       "      <td>1200.0</td>\n",
       "      <td>2017012245</td>\n",
       "      <td>2.017012e+09</td>\n",
       "      <td>...</td>\n",
       "      <td>2.0</td>\n",
       "      <td>4.0</td>\n",
       "      <td>2.0</td>\n",
       "      <td>1.0</td>\n",
       "      <td>1.0</td>\n",
       "      <td>NaN</td>\n",
       "      <td>NaN</td>\n",
       "      <td>1.0</td>\n",
       "      <td>NaN</td>\n",
       "      <td>NaN</td>\n",
       "    </tr>\n",
       "    <tr>\n",
       "      <td>34541</td>\n",
       "      <td>303775</td>\n",
       "      <td>36</td>\n",
       "      <td>6.0</td>\n",
       "      <td>6252017</td>\n",
       "      <td>6</td>\n",
       "      <td>25</td>\n",
       "      <td>2017</td>\n",
       "      <td>1200.0</td>\n",
       "      <td>2017012246</td>\n",
       "      <td>2.017012e+09</td>\n",
       "      <td>...</td>\n",
       "      <td>2.0</td>\n",
       "      <td>4.0</td>\n",
       "      <td>2.0</td>\n",
       "      <td>1.0</td>\n",
       "      <td>1.0</td>\n",
       "      <td>NaN</td>\n",
       "      <td>NaN</td>\n",
       "      <td>1.0</td>\n",
       "      <td>NaN</td>\n",
       "      <td>NaN</td>\n",
       "    </tr>\n",
       "    <tr>\n",
       "      <td>34542</td>\n",
       "      <td>303776</td>\n",
       "      <td>36</td>\n",
       "      <td>7.0</td>\n",
       "      <td>7212017</td>\n",
       "      <td>7</td>\n",
       "      <td>21</td>\n",
       "      <td>2017</td>\n",
       "      <td>1200.0</td>\n",
       "      <td>2017012247</td>\n",
       "      <td>2.017012e+09</td>\n",
       "      <td>...</td>\n",
       "      <td>2.0</td>\n",
       "      <td>4.0</td>\n",
       "      <td>2.0</td>\n",
       "      <td>1.0</td>\n",
       "      <td>1.0</td>\n",
       "      <td>NaN</td>\n",
       "      <td>NaN</td>\n",
       "      <td>1.0</td>\n",
       "      <td>6.0</td>\n",
       "      <td>NaN</td>\n",
       "    </tr>\n",
       "    <tr>\n",
       "      <td>34543</td>\n",
       "      <td>303777</td>\n",
       "      <td>36</td>\n",
       "      <td>7.0</td>\n",
       "      <td>7202017</td>\n",
       "      <td>7</td>\n",
       "      <td>20</td>\n",
       "      <td>2017</td>\n",
       "      <td>1200.0</td>\n",
       "      <td>2017012248</td>\n",
       "      <td>2.017012e+09</td>\n",
       "      <td>...</td>\n",
       "      <td>9.0</td>\n",
       "      <td>9.0</td>\n",
       "      <td>9.0</td>\n",
       "      <td>9.0</td>\n",
       "      <td>9.0</td>\n",
       "      <td>9.0</td>\n",
       "      <td>9.0</td>\n",
       "      <td>9.0</td>\n",
       "      <td>NaN</td>\n",
       "      <td>NaN</td>\n",
       "    </tr>\n",
       "    <tr>\n",
       "      <td>34544</td>\n",
       "      <td>303778</td>\n",
       "      <td>36</td>\n",
       "      <td>7.0</td>\n",
       "      <td>7252017</td>\n",
       "      <td>7</td>\n",
       "      <td>25</td>\n",
       "      <td>2017</td>\n",
       "      <td>1200.0</td>\n",
       "      <td>2017012249</td>\n",
       "      <td>2.017012e+09</td>\n",
       "      <td>...</td>\n",
       "      <td>2.0</td>\n",
       "      <td>4.0</td>\n",
       "      <td>2.0</td>\n",
       "      <td>1.0</td>\n",
       "      <td>1.0</td>\n",
       "      <td>NaN</td>\n",
       "      <td>NaN</td>\n",
       "      <td>1.0</td>\n",
       "      <td>NaN</td>\n",
       "      <td>NaN</td>\n",
       "    </tr>\n",
       "  </tbody>\n",
       "</table>\n",
       "<p>34545 rows × 361 columns</p>\n",
       "</div>"
      ],
      "text/plain": [
       "       Unnamed: 0  _STATE  FMONTH    IDATE  IMONTH  IDAY  IYEAR  DISPCODE  \\\n",
       "0           49938       9     5.0  5172017       5    17   2017    1200.0   \n",
       "1           49939       9     2.0  2142017       2    14   2017    1200.0   \n",
       "2           49940       9     1.0  1292017       1    29   2017    1200.0   \n",
       "3           49941       9     7.0  9112017       9    11   2017    1200.0   \n",
       "4           49942       9     5.0  7182017       7    18   2017    1200.0   \n",
       "...           ...     ...     ...      ...     ...   ...    ...       ...   \n",
       "34540      303774      36     5.0  5152017       5    15   2017    1200.0   \n",
       "34541      303775      36     6.0  6252017       6    25   2017    1200.0   \n",
       "34542      303776      36     7.0  7212017       7    21   2017    1200.0   \n",
       "34543      303777      36     7.0  7202017       7    20   2017    1200.0   \n",
       "34544      303778      36     7.0  7252017       7    25   2017    1200.0   \n",
       "\n",
       "            SEQNO          _PSU  ...  _PASTRNG  _PAREC1  _PASTAE1  _RFSEAT2  \\\n",
       "0      2017000001  2.017000e+09  ...       2.0      4.0       2.0       1.0   \n",
       "1      2017000002  2.017000e+09  ...       1.0      1.0       1.0       2.0   \n",
       "2      2017000003  2.017000e+09  ...       1.0      3.0       2.0       1.0   \n",
       "3      2017000004  2.017000e+09  ...       2.0      2.0       2.0       1.0   \n",
       "4      2017000005  2.017000e+09  ...       1.0      1.0       1.0       1.0   \n",
       "...           ...           ...  ...       ...      ...       ...       ...   \n",
       "34540  2017012245  2.017012e+09  ...       2.0      4.0       2.0       1.0   \n",
       "34541  2017012246  2.017012e+09  ...       2.0      4.0       2.0       1.0   \n",
       "34542  2017012247  2.017012e+09  ...       2.0      4.0       2.0       1.0   \n",
       "34543  2017012248  2.017012e+09  ...       9.0      9.0       9.0       9.0   \n",
       "34544  2017012249  2.017012e+09  ...       2.0      4.0       2.0       1.0   \n",
       "\n",
       "       _RFSEAT3  _FLSHOT6  _PNEUMO2  _AIDTST3  SICK  SICK_CHRONIC  \n",
       "0           1.0       NaN       NaN       1.0   NaN           NaN  \n",
       "1           2.0       NaN       NaN       2.0   NaN           NaN  \n",
       "2           1.0       NaN       NaN       2.0   2.0           NaN  \n",
       "3           1.0       NaN       NaN       1.0   NaN           NaN  \n",
       "4           1.0       NaN       NaN       2.0   NaN           NaN  \n",
       "...         ...       ...       ...       ...   ...           ...  \n",
       "34540       1.0       NaN       NaN       1.0   NaN           NaN  \n",
       "34541       1.0       NaN       NaN       1.0   NaN           NaN  \n",
       "34542       1.0       NaN       NaN       1.0   6.0           NaN  \n",
       "34543       9.0       9.0       9.0       9.0   NaN           NaN  \n",
       "34544       1.0       NaN       NaN       1.0   NaN           NaN  \n",
       "\n",
       "[34545 rows x 361 columns]"
      ]
     },
     "execution_count": 14,
     "metadata": {},
     "output_type": "execute_result"
    }
   ],
   "source": [
    "# code to create new colum for chronically sick\n",
    "#defining chronically sick\n",
    "#any number one deviation above the mean = ~12.52\n",
    "df['PHYSHLTH'].describe()\n",
    "# count    34545.000000\n",
    "# mean         4.106470\n",
    "# std          8.415507\n",
    "# min          0.000000\n",
    "# 25%          0.000000\n",
    "# 50%          0.000000\n",
    "# 75%          3.000000\n",
    "# max         30.000000\n",
    "\n",
    "#get group of ppl[123][123]\n",
    "df['SICK_CHRONIC'] = df['PHYSHLTH'][df['PHYSHLTH'] > 12]\n",
    "ppl_chronically_sick = df['SICK_CHRONIC'].value_counts().values.sum() #4249 people chronically sick\n",
    "ppl_total = df['_STATE'].value_counts().values.sum() #34535 total people\n",
    "ppl_chronically_sick / ppl_total  #0.122998 ~12% chronically sick\n",
    "#grp_chronic = df.groupby('_STATE')['SICK_CHRONIC']\n",
    "df"
   ]
  },
  {
   "cell_type": "markdown",
   "metadata": {},
   "source": [
    "## 5. Create a graphic that compares the percentage of people labeled as 'sick' in each state. "
   ]
  },
  {
   "cell_type": "code",
   "execution_count": 15,
   "metadata": {},
   "outputs": [
    {
     "data": {
      "text/plain": [
       "_STATE\n",
       "9     0.094290\n",
       "34    0.126014\n",
       "36    0.120954\n",
       "Name: SICK_CHRONIC_BOOL, dtype: float64"
      ]
     },
     "execution_count": 15,
     "metadata": {},
     "output_type": "execute_result"
    }
   ],
   "source": [
    "# code to calculate averages per state\n",
    "df['SICK_CHRONIC'].value_counts()\n",
    "totalsick = df[df['PHYSHLTH'] > 0]['PHYSHLTH'].value_counts().sum() #total ppl sick\n",
    "df['SICK_CHRONIC_BOOL'] = df['SICK_CHRONIC'][df['SICK_CHRONIC'] >= 0] * 0 + 1 # 1 if chronically sick\n",
    "\n",
    "grp_ttlsickbystate = df.groupby('_STATE')['SICK_CHRONIC_BOOL'].sum()\n",
    "grp_avgsickbystate = grp_ttlsickbystate / totalsick\n",
    "grp_ttlsickbystate\n",
    "grp_avgsickbystate\n",
    "#df['PHYSHLTH'] = df['PHYSHLTH'].replace(to_replace=77, value=int(mean))"
   ]
  },
  {
   "cell_type": "code",
   "execution_count": 16,
   "metadata": {},
   "outputs": [
    {
     "data": {
      "text/html": [
       "<div>\n",
       "<style scoped>\n",
       "    .dataframe tbody tr th:only-of-type {\n",
       "        vertical-align: middle;\n",
       "    }\n",
       "\n",
       "    .dataframe tbody tr th {\n",
       "        vertical-align: top;\n",
       "    }\n",
       "\n",
       "    .dataframe thead th {\n",
       "        text-align: right;\n",
       "    }\n",
       "</style>\n",
       "<table border=\"1\" class=\"dataframe\">\n",
       "  <thead>\n",
       "    <tr style=\"text-align: right;\">\n",
       "      <th></th>\n",
       "      <th>Unnamed: 0</th>\n",
       "      <th>_STATE</th>\n",
       "      <th>FMONTH</th>\n",
       "      <th>IDATE</th>\n",
       "      <th>IMONTH</th>\n",
       "      <th>IDAY</th>\n",
       "      <th>IYEAR</th>\n",
       "      <th>DISPCODE</th>\n",
       "      <th>SEQNO</th>\n",
       "      <th>_PSU</th>\n",
       "      <th>...</th>\n",
       "      <th>_PAREC1</th>\n",
       "      <th>_PASTAE1</th>\n",
       "      <th>_RFSEAT2</th>\n",
       "      <th>_RFSEAT3</th>\n",
       "      <th>_FLSHOT6</th>\n",
       "      <th>_PNEUMO2</th>\n",
       "      <th>_AIDTST3</th>\n",
       "      <th>SICK</th>\n",
       "      <th>SICK_CHRONIC</th>\n",
       "      <th>SICK_CHRONIC_BOOL</th>\n",
       "    </tr>\n",
       "  </thead>\n",
       "  <tbody>\n",
       "    <tr>\n",
       "      <td>2</td>\n",
       "      <td>49940</td>\n",
       "      <td>9</td>\n",
       "      <td>1.0</td>\n",
       "      <td>1292017</td>\n",
       "      <td>1</td>\n",
       "      <td>29</td>\n",
       "      <td>2017</td>\n",
       "      <td>1200.0</td>\n",
       "      <td>2017000003</td>\n",
       "      <td>2.017000e+09</td>\n",
       "      <td>...</td>\n",
       "      <td>3.0</td>\n",
       "      <td>2.0</td>\n",
       "      <td>1.0</td>\n",
       "      <td>1.0</td>\n",
       "      <td>NaN</td>\n",
       "      <td>NaN</td>\n",
       "      <td>2.0</td>\n",
       "      <td>2.0</td>\n",
       "      <td>NaN</td>\n",
       "      <td>NaN</td>\n",
       "    </tr>\n",
       "    <tr>\n",
       "      <td>8</td>\n",
       "      <td>49946</td>\n",
       "      <td>9</td>\n",
       "      <td>1.0</td>\n",
       "      <td>1262017</td>\n",
       "      <td>1</td>\n",
       "      <td>26</td>\n",
       "      <td>2017</td>\n",
       "      <td>1100.0</td>\n",
       "      <td>2017000009</td>\n",
       "      <td>2.017000e+09</td>\n",
       "      <td>...</td>\n",
       "      <td>3.0</td>\n",
       "      <td>2.0</td>\n",
       "      <td>1.0</td>\n",
       "      <td>1.0</td>\n",
       "      <td>2.0</td>\n",
       "      <td>1.0</td>\n",
       "      <td>2.0</td>\n",
       "      <td>28.0</td>\n",
       "      <td>28.0</td>\n",
       "      <td>1.0</td>\n",
       "    </tr>\n",
       "    <tr>\n",
       "      <td>12</td>\n",
       "      <td>49950</td>\n",
       "      <td>9</td>\n",
       "      <td>1.0</td>\n",
       "      <td>1192017</td>\n",
       "      <td>1</td>\n",
       "      <td>19</td>\n",
       "      <td>2017</td>\n",
       "      <td>1100.0</td>\n",
       "      <td>2017000013</td>\n",
       "      <td>2.017000e+09</td>\n",
       "      <td>...</td>\n",
       "      <td>1.0</td>\n",
       "      <td>1.0</td>\n",
       "      <td>1.0</td>\n",
       "      <td>1.0</td>\n",
       "      <td>NaN</td>\n",
       "      <td>NaN</td>\n",
       "      <td>2.0</td>\n",
       "      <td>5.0</td>\n",
       "      <td>NaN</td>\n",
       "      <td>NaN</td>\n",
       "    </tr>\n",
       "    <tr>\n",
       "      <td>14</td>\n",
       "      <td>49952</td>\n",
       "      <td>9</td>\n",
       "      <td>1.0</td>\n",
       "      <td>1262017</td>\n",
       "      <td>1</td>\n",
       "      <td>26</td>\n",
       "      <td>2017</td>\n",
       "      <td>1100.0</td>\n",
       "      <td>2017000015</td>\n",
       "      <td>2.017000e+09</td>\n",
       "      <td>...</td>\n",
       "      <td>4.0</td>\n",
       "      <td>2.0</td>\n",
       "      <td>1.0</td>\n",
       "      <td>1.0</td>\n",
       "      <td>NaN</td>\n",
       "      <td>NaN</td>\n",
       "      <td>2.0</td>\n",
       "      <td>2.0</td>\n",
       "      <td>NaN</td>\n",
       "      <td>NaN</td>\n",
       "    </tr>\n",
       "    <tr>\n",
       "      <td>15</td>\n",
       "      <td>49953</td>\n",
       "      <td>9</td>\n",
       "      <td>1.0</td>\n",
       "      <td>1202017</td>\n",
       "      <td>1</td>\n",
       "      <td>20</td>\n",
       "      <td>2017</td>\n",
       "      <td>1100.0</td>\n",
       "      <td>2017000016</td>\n",
       "      <td>2.017000e+09</td>\n",
       "      <td>...</td>\n",
       "      <td>4.0</td>\n",
       "      <td>2.0</td>\n",
       "      <td>1.0</td>\n",
       "      <td>1.0</td>\n",
       "      <td>NaN</td>\n",
       "      <td>NaN</td>\n",
       "      <td>2.0</td>\n",
       "      <td>2.0</td>\n",
       "      <td>NaN</td>\n",
       "      <td>NaN</td>\n",
       "    </tr>\n",
       "    <tr>\n",
       "      <td>...</td>\n",
       "      <td>...</td>\n",
       "      <td>...</td>\n",
       "      <td>...</td>\n",
       "      <td>...</td>\n",
       "      <td>...</td>\n",
       "      <td>...</td>\n",
       "      <td>...</td>\n",
       "      <td>...</td>\n",
       "      <td>...</td>\n",
       "      <td>...</td>\n",
       "      <td>...</td>\n",
       "      <td>...</td>\n",
       "      <td>...</td>\n",
       "      <td>...</td>\n",
       "      <td>...</td>\n",
       "      <td>...</td>\n",
       "      <td>...</td>\n",
       "      <td>...</td>\n",
       "      <td>...</td>\n",
       "      <td>...</td>\n",
       "      <td>...</td>\n",
       "    </tr>\n",
       "    <tr>\n",
       "      <td>34528</td>\n",
       "      <td>303762</td>\n",
       "      <td>36</td>\n",
       "      <td>1.0</td>\n",
       "      <td>1262017</td>\n",
       "      <td>1</td>\n",
       "      <td>26</td>\n",
       "      <td>2017</td>\n",
       "      <td>1200.0</td>\n",
       "      <td>2017012233</td>\n",
       "      <td>2.017012e+09</td>\n",
       "      <td>...</td>\n",
       "      <td>2.0</td>\n",
       "      <td>2.0</td>\n",
       "      <td>1.0</td>\n",
       "      <td>2.0</td>\n",
       "      <td>NaN</td>\n",
       "      <td>NaN</td>\n",
       "      <td>2.0</td>\n",
       "      <td>1.0</td>\n",
       "      <td>NaN</td>\n",
       "      <td>NaN</td>\n",
       "    </tr>\n",
       "    <tr>\n",
       "      <td>34529</td>\n",
       "      <td>303763</td>\n",
       "      <td>36</td>\n",
       "      <td>2.0</td>\n",
       "      <td>2052017</td>\n",
       "      <td>2</td>\n",
       "      <td>5</td>\n",
       "      <td>2017</td>\n",
       "      <td>1200.0</td>\n",
       "      <td>2017012234</td>\n",
       "      <td>2.017012e+09</td>\n",
       "      <td>...</td>\n",
       "      <td>2.0</td>\n",
       "      <td>2.0</td>\n",
       "      <td>1.0</td>\n",
       "      <td>1.0</td>\n",
       "      <td>NaN</td>\n",
       "      <td>NaN</td>\n",
       "      <td>2.0</td>\n",
       "      <td>15.0</td>\n",
       "      <td>15.0</td>\n",
       "      <td>1.0</td>\n",
       "    </tr>\n",
       "    <tr>\n",
       "      <td>34535</td>\n",
       "      <td>303769</td>\n",
       "      <td>36</td>\n",
       "      <td>1.0</td>\n",
       "      <td>2282017</td>\n",
       "      <td>2</td>\n",
       "      <td>28</td>\n",
       "      <td>2017</td>\n",
       "      <td>1200.0</td>\n",
       "      <td>2017012240</td>\n",
       "      <td>2.017012e+09</td>\n",
       "      <td>...</td>\n",
       "      <td>4.0</td>\n",
       "      <td>2.0</td>\n",
       "      <td>1.0</td>\n",
       "      <td>2.0</td>\n",
       "      <td>NaN</td>\n",
       "      <td>NaN</td>\n",
       "      <td>9.0</td>\n",
       "      <td>10.0</td>\n",
       "      <td>NaN</td>\n",
       "      <td>NaN</td>\n",
       "    </tr>\n",
       "    <tr>\n",
       "      <td>34539</td>\n",
       "      <td>303773</td>\n",
       "      <td>36</td>\n",
       "      <td>4.0</td>\n",
       "      <td>4212017</td>\n",
       "      <td>4</td>\n",
       "      <td>21</td>\n",
       "      <td>2017</td>\n",
       "      <td>1200.0</td>\n",
       "      <td>2017012244</td>\n",
       "      <td>2.017012e+09</td>\n",
       "      <td>...</td>\n",
       "      <td>4.0</td>\n",
       "      <td>2.0</td>\n",
       "      <td>1.0</td>\n",
       "      <td>1.0</td>\n",
       "      <td>NaN</td>\n",
       "      <td>NaN</td>\n",
       "      <td>1.0</td>\n",
       "      <td>2.0</td>\n",
       "      <td>NaN</td>\n",
       "      <td>NaN</td>\n",
       "    </tr>\n",
       "    <tr>\n",
       "      <td>34542</td>\n",
       "      <td>303776</td>\n",
       "      <td>36</td>\n",
       "      <td>7.0</td>\n",
       "      <td>7212017</td>\n",
       "      <td>7</td>\n",
       "      <td>21</td>\n",
       "      <td>2017</td>\n",
       "      <td>1200.0</td>\n",
       "      <td>2017012247</td>\n",
       "      <td>2.017012e+09</td>\n",
       "      <td>...</td>\n",
       "      <td>4.0</td>\n",
       "      <td>2.0</td>\n",
       "      <td>1.0</td>\n",
       "      <td>1.0</td>\n",
       "      <td>NaN</td>\n",
       "      <td>NaN</td>\n",
       "      <td>1.0</td>\n",
       "      <td>6.0</td>\n",
       "      <td>NaN</td>\n",
       "      <td>NaN</td>\n",
       "    </tr>\n",
       "  </tbody>\n",
       "</table>\n",
       "<p>12451 rows × 362 columns</p>\n",
       "</div>"
      ],
      "text/plain": [
       "       Unnamed: 0  _STATE  FMONTH    IDATE  IMONTH  IDAY  IYEAR  DISPCODE  \\\n",
       "2           49940       9     1.0  1292017       1    29   2017    1200.0   \n",
       "8           49946       9     1.0  1262017       1    26   2017    1100.0   \n",
       "12          49950       9     1.0  1192017       1    19   2017    1100.0   \n",
       "14          49952       9     1.0  1262017       1    26   2017    1100.0   \n",
       "15          49953       9     1.0  1202017       1    20   2017    1100.0   \n",
       "...           ...     ...     ...      ...     ...   ...    ...       ...   \n",
       "34528      303762      36     1.0  1262017       1    26   2017    1200.0   \n",
       "34529      303763      36     2.0  2052017       2     5   2017    1200.0   \n",
       "34535      303769      36     1.0  2282017       2    28   2017    1200.0   \n",
       "34539      303773      36     4.0  4212017       4    21   2017    1200.0   \n",
       "34542      303776      36     7.0  7212017       7    21   2017    1200.0   \n",
       "\n",
       "            SEQNO          _PSU  ...  _PAREC1  _PASTAE1  _RFSEAT2  _RFSEAT3  \\\n",
       "2      2017000003  2.017000e+09  ...      3.0       2.0       1.0       1.0   \n",
       "8      2017000009  2.017000e+09  ...      3.0       2.0       1.0       1.0   \n",
       "12     2017000013  2.017000e+09  ...      1.0       1.0       1.0       1.0   \n",
       "14     2017000015  2.017000e+09  ...      4.0       2.0       1.0       1.0   \n",
       "15     2017000016  2.017000e+09  ...      4.0       2.0       1.0       1.0   \n",
       "...           ...           ...  ...      ...       ...       ...       ...   \n",
       "34528  2017012233  2.017012e+09  ...      2.0       2.0       1.0       2.0   \n",
       "34529  2017012234  2.017012e+09  ...      2.0       2.0       1.0       1.0   \n",
       "34535  2017012240  2.017012e+09  ...      4.0       2.0       1.0       2.0   \n",
       "34539  2017012244  2.017012e+09  ...      4.0       2.0       1.0       1.0   \n",
       "34542  2017012247  2.017012e+09  ...      4.0       2.0       1.0       1.0   \n",
       "\n",
       "       _FLSHOT6  _PNEUMO2  _AIDTST3  SICK  SICK_CHRONIC  SICK_CHRONIC_BOOL  \n",
       "2           NaN       NaN       2.0   2.0           NaN                NaN  \n",
       "8           2.0       1.0       2.0  28.0          28.0                1.0  \n",
       "12          NaN       NaN       2.0   5.0           NaN                NaN  \n",
       "14          NaN       NaN       2.0   2.0           NaN                NaN  \n",
       "15          NaN       NaN       2.0   2.0           NaN                NaN  \n",
       "...         ...       ...       ...   ...           ...                ...  \n",
       "34528       NaN       NaN       2.0   1.0           NaN                NaN  \n",
       "34529       NaN       NaN       2.0  15.0          15.0                1.0  \n",
       "34535       NaN       NaN       9.0  10.0           NaN                NaN  \n",
       "34539       NaN       NaN       1.0   2.0           NaN                NaN  \n",
       "34542       NaN       NaN       1.0   6.0           NaN                NaN  \n",
       "\n",
       "[12451 rows x 362 columns]"
      ]
     },
     "execution_count": 16,
     "metadata": {},
     "output_type": "execute_result"
    }
   ],
   "source": [
    "df[df['PHYSHLTH'] > 0]"
   ]
  },
  {
   "cell_type": "code",
   "execution_count": 17,
   "metadata": {},
   "outputs": [
    {
     "data": {
      "text/plain": [
       "<BarContainer object of 3 artists>"
      ]
     },
     "execution_count": 17,
     "metadata": {},
     "output_type": "execute_result"
    },
    {
     "data": {
      "image/png": "[encoded data removed]",
      "text/plain": [
       "<Figure size 432x288 with 1 Axes>"
      ]
     },
     "metadata": {
      "needs_background": "light"
     },
     "output_type": "display_data"
    }
   ],
   "source": [
    "# create graphic to compare chronically sick by state\n",
    "plt.title('Percentage of Chronically Sick by State')\n",
    "plt.xlabel('State')\n",
    "plt.ylabel('Percent')\n",
    "plt.bar(x = ['CT', 'NJ', 'NY'], height = grp_avgsickbystate * 100, align='edge', edgecolor='black' )"
   ]
  },
  {
   "cell_type": "markdown",
   "metadata": {},
   "source": [
    "## 6. Independent Variables (categorical)\n",
    "\n",
    "Let's take the column `SMOKDAY2` and start to prepare it so that we can see how it is possibly correlated to `PHYSHLTH`.\n",
    "\n",
    "1. Clean up the values.\n",
    "2. Calculate the descriptive statistics of the variable.\n",
    "3. Generate a histogram for the variable.\n",
    "4. Generate graphics that show how the responses to this variable might differ by state.\n",
    "5. Generate a graphic that compares the physical health of the different groups of 'smokers'."
   ]
  },
  {
   "cell_type": "code",
   "execution_count": 18,
   "metadata": {},
   "outputs": [
    {
     "data": {
      "image/png": "[encoded data removed]",
      "text/plain": [
       "<Figure size 432x288 with 1 Axes>"
      ]
     },
     "metadata": {
      "needs_background": "light"
     },
     "output_type": "display_data"
    }
   ],
   "source": [
    "#SMOKDAY2 Q=Do you now smoke cigarettes every day, some or not\n",
    "#1 : EVERY DAY\n",
    "#2 : SOME DAYS\n",
    "#3 : NOT AT ALL (SECTION 9.04 LASTSMK2)\n",
    "#.      last time smoked\n",
    "#    if (df['SMOKDAY2'] == 3): \n",
    "#.        CHECK ROWS df['LASTSMK2'] == 1 (WITHIN LAST MONTH) ->SMOKER\n",
    "#                                   == 2 (WITHIN 3 MONTHS)   ->SMOKER\n",
    "#                                   == 3 (WITHIN 6 MONTHS)   ->SMOKER\n",
    "#                                   == 4 (WITHIN A YEAR)     ->SMOKER\n",
    "#.        CLASSIFY ABOVE AS SMOKERS\n",
    "#                                   5 >= X <= 8 (OVER A YEAR TO NEVER) -> 0\n",
    "#7 : DON'T KNOW NOT SURE (SECTION 9.05 USENOW3)\n",
    "##    if df['SMOKDAY2'] == 7 or df['SMOKDAY2'] == 9:\n",
    "#.        CHECK ROWS df['USENOW3'] == 1 (EVERYDAY) -> SMOKER\n",
    "#                                   == 2 (SOME)    -> SMOKER\n",
    "#                                   == 3 (NOT AT ALL) -> 0\n",
    "#                                   == 7 (UNSURE) -> NAN\n",
    "#                                   == 9 (REFUSED) ->\n",
    "\n",
    "   \n",
    "#9 : REFUSED (SECTION 9.05 USENOW3)\n",
    "#.             ABOVE\n",
    "#SECTION 9.04 HOW LONG SINCE YOU LAST SMOKED\n",
    "#SECTION 9.05 SMOKELESS TOBACCO\n",
    "#df['SMOKDAY2'][df['SMOKDAY2'] == 3] #should be fine its like every other day\n",
    "#df['is_smoker'] = df['SMOKDAY2'][df['SMOKDAY2'] == ]\n",
    "\n",
    "#df_maysmoke_never = df[df['SMOKDAY2'] == 7][df['USENOW3'] == 3]\n",
    "\n",
    "\n",
    "df['SMOKDAY2'].unique()\n",
    "#df['SMOKDAY2'] = df['SMOKDAY2'].astype('int64')\n",
    "df['SMOKDAY2'] = df['SMOKDAY2'].replace(to_replace=3, value= 0) #never smoked\n",
    "df['SMOKDAY2'] = df['SMOKDAY2'].replace(to_replace=7, value= 0) #not sure\n",
    "df['SMOKDAY2'] = df['SMOKDAY2'].replace(to_replace=9, value= 0) #refused\n",
    "df['SMOKDAY2'] = df['SMOKDAY2'].replace(to_replace=2, value= 0.5)\n",
    "df['SMOKER'] = df[df['SMOKDAY2'] > 0]['SMOKDAY2']\n",
    "df['SMOKER'] = df['SMOKER'].replace(to_replace=0.5, value=1) #smoker bool\n",
    "df['SMOKBYMONTH'] = df['SMOKDAY2'] * 30\n",
    "#every other day\n",
    "#df['SMOKERS'] = df['SMOKDAY2'] * 30 #SMOKE PER DAY\n",
    "plt.title('Smokers by category')\n",
    "plt.xlabel('Smoker Categories')\n",
    "plt.ylabel('Quantity of People')\n",
    "plt.hist(df['SMOKDAY2'])\n",
    "grp_ttlsmokebystate = df.groupby('_STATE')['SMOKER'].sum()\n",
    "\n",
    "# people that maybe smoke and maybe dip\n",
    "#df['SMOKDAY2'] = df[df['SMOKDAY2'] == 7 and (df['USENOW3'] == 1 or df['USENOW3'] == 2)] = \n",
    "#grp_smoking = df.groupby('_STATE')[['SMOKDAY2', 'LASTSMK2', 'USENOW3']].sum()\n",
    "#grp_smoking\n",
    "#df['SMOKERS'] = df['SMOKDAY2'].\n",
    "#NaN values did not answer question, don't include in data\n",
    "\n",
    "#df['PHYSHLTH']"
   ]
  },
  {
   "cell_type": "code",
   "execution_count": 19,
   "metadata": {},
   "outputs": [
    {
     "data": {
      "text/plain": [
       "_STATE\n",
       "9     1064.0\n",
       "34    1411.0\n",
       "36    1572.0\n",
       "Name: SMOKER, dtype: float64"
      ]
     },
     "execution_count": 19,
     "metadata": {},
     "output_type": "execute_result"
    }
   ],
   "source": [
    "grp_ttlsmokebystate"
   ]
  },
  {
   "cell_type": "code",
   "execution_count": 20,
   "metadata": {},
   "outputs": [
    {
     "data": {
      "text/plain": [
       "<BarContainer object of 3 artists>"
      ]
     },
     "execution_count": 20,
     "metadata": {},
     "output_type": "execute_result"
    },
    {
     "data": {
      "image/png": "[encoded data removed]",
      "text/plain": [
       "<Figure size 432x288 with 1 Axes>"
      ]
     },
     "metadata": {
      "needs_background": "light"
     },
     "output_type": "display_data"
    }
   ],
   "source": [
    "grp_ttlsmokebystate = df.groupby('_STATE')['SMOKDAY2'].sum()\n",
    "plt.title('Quantity of Smokers by State')\n",
    "plt.ylabel('Quantity of People')\n",
    "plt.bar(x = ['CT', 'NJ', 'NY'], height = grp_ttlsmokebystate, align='edge', edgecolor='black' )"
   ]
  },
  {
   "cell_type": "markdown",
   "metadata": {},
   "source": [
    "## 7. Independent Variables (continuous):\n",
    "\n",
    "Now let's look at a continuous variable (ALCDAY5) and see how that might impact a person's health. \n",
    "\n",
    "1. Clean up the values.\n",
    "2. Calculate the descriptive statistics of the variable.\n",
    "3. Generate a histogram for the variable.\n",
    "4. Generate graphics that show how the responses to this variable might differ by state.\n",
    "5. Calculate the correlation coefficient between `PHYSHLTH` and `ALCDAY5`.\n",
    "5. Generate a graphic that shows the possible relationship between `PHYSHLTH` and `ALCDAY5`."
   ]
  },
  {
   "cell_type": "markdown",
   "metadata": {},
   "source": [
    "## 8. Additional variables: Choose two additional survey items you would like to investigate do steps  6 or 7 for those variables."
   ]
  },
  {
   "cell_type": "code",
   "execution_count": 21,
   "metadata": {},
   "outputs": [
    {
     "data": {
      "text/plain": [
       "(array([6701., 4285., 1907., 1776.,  654.,  427., 1016.,  138.,  304.,\n",
       "        1961.]),\n",
       " array([ 1. ,  3.9,  6.8,  9.7, 12.6, 15.5, 18.4, 21.3, 24.2, 27.1, 30. ]),\n",
       " <a list of 10 Patch objects>)"
      ]
     },
     "execution_count": 21,
     "metadata": {},
     "output_type": "execute_result"
    },
    {
     "data": {
      "image/png": "[encoded data removed]",
      "text/plain": [
       "<Figure size 432x288 with 1 Axes>"
      ]
     },
     "metadata": {
      "needs_background": "light"
     },
     "output_type": "display_data"
    }
   ],
   "source": [
    "# your code here\n",
    "# 101-107 -  % 100 DAYS A WEEK\n",
    "# 201-230 -  % 200 DAYS A MONTH drinks\n",
    "# 777 - not sure\n",
    "# 888 - dont know\n",
    "# 999 refused\n",
    "df['ALCDAY5'] = df['ALCDAY5'].replace(to_replace=777, value= np.nan) #never smoked\n",
    "df['ALCDAY5'] = df['ALCDAY5'].replace(to_replace=888, value= np.nan) #not sure\n",
    "df['ALCDAY5'] = df['ALCDAY5'].replace(to_replace=999, value= np.nan) #refused\n",
    "\n",
    "df['ALCDAY5'].describe() #float64\n",
    "df['ALCDAY5'].unique()\n",
    "#converts 3 digit number to days of drinking in a month\n",
    "def alcConversion(x):\n",
    "    if (np.isnan(x)):\n",
    "        return np.nan\n",
    "    x = int(x)\n",
    "    is_weeks = x // 100\n",
    "    if (is_weeks == 1): #weeks category\n",
    "        return (x % 100) * 4 #days to days in a month\n",
    "    else: #momnths\n",
    "        return x % 100 \n",
    "df['ALCDAY5'] = df['ALCDAY5'].apply(alcConversion)\n",
    "df['ALCDAY5']\n",
    "plt.title('Amount of people who have a drink in a month')\n",
    "plt.xlabel('Days')\n",
    "plt.ylabel('People')\n",
    "plt.hist(df['ALCDAY5'])\n"
   ]
  },
  {
   "cell_type": "code",
   "execution_count": 22,
   "metadata": {},
   "outputs": [
    {
     "data": {
      "text/plain": [
       "<BarContainer object of 3 artists>"
      ]
     },
     "execution_count": 22,
     "metadata": {},
     "output_type": "execute_result"
    },
    {
     "data": {
      "image/png": "[encoded data removed]",
      "text/plain": [
       "<Figure size 432x288 with 1 Axes>"
      ]
     },
     "metadata": {
      "needs_background": "light"
     },
     "output_type": "display_data"
    }
   ],
   "source": [
    "grp_ttldrinksbystate = df.groupby('_STATE')['ALCDAY5'].sum()\n",
    "grp_ttldrinksbystate\n",
    "plt.title('Total Drinks Consumed In A Month')\n",
    "plt.ylabel('Quantity')\n",
    "plt.bar(x = ['CT', 'NJ', 'NY'], height = grp_ttldrinksbystate, align='edge', edgecolor='black' )"
   ]
  },
  {
   "cell_type": "code",
   "execution_count": 23,
   "metadata": {},
   "outputs": [
    {
     "data": {
      "text/plain": [
       "(array([19.,  2.,  3.,  1.,  0.,  2.,  0.,  2.,  0.,  1.]),\n",
       " array([4.0000e+00, 1.0587e+03, 2.1134e+03, 3.1681e+03, 4.2228e+03,\n",
       "        5.2775e+03, 6.3322e+03, 7.3869e+03, 8.4416e+03, 9.4963e+03,\n",
       "        1.0551e+04]),\n",
       " <a list of 10 Patch objects>)"
      ]
     },
     "execution_count": 23,
     "metadata": {},
     "output_type": "execute_result"
    },
    {
     "data": {
      "image/png": "[encoded data removed]",
      "text/plain": [
       "<Figure size 432x288 with 1 Axes>"
      ]
     },
     "metadata": {
      "needs_background": "light"
     },
     "output_type": "display_data"
    }
   ],
   "source": [
    "df_std_health_alc = df.groupby('PHYSHLTH')['ALCDAY5'].sum()\n",
    "df_std_health_alc.drop(0, inplace=True)\n",
    "df_std_health_alc.keys()\n",
    "df_std_health_alc.values\n",
    "plt.hist(df_std_health_alc)"
   ]
  },
  {
   "cell_type": "code",
   "execution_count": 24,
   "metadata": {},
   "outputs": [
    {
     "data": {
      "text/plain": [
       "_STATE\n",
       "9     59398.0\n",
       "34    54019.0\n",
       "36    57168.0\n",
       "Name: ALCDAY5, dtype: float64"
      ]
     },
     "execution_count": 24,
     "metadata": {},
     "output_type": "execute_result"
    }
   ],
   "source": [
    "grp_ttldrinksbystate"
   ]
  },
  {
   "cell_type": "code",
   "execution_count": null,
   "metadata": {},
   "outputs": [],
   "source": []
  },
  {
   "cell_type": "code",
   "execution_count": 25,
   "metadata": {},
   "outputs": [
    {
     "data": {
      "text/plain": [
       "<BarContainer object of 3 artists>"
      ]
     },
     "execution_count": 25,
     "metadata": {},
     "output_type": "execute_result"
    },
    {
     "data": {
      "image/png": "[encoded data removed]",
      "text/plain": [
       "<Figure size 432x288 with 1 Axes>"
      ]
     },
     "metadata": {
      "needs_background": "light"
     },
     "output_type": "display_data"
    }
   ],
   "source": [
    "df['_STATE'].value_counts()\n",
    "grp_drinks_percapita_bystate = grp_ttldrinksbystate / df['_STATE'].value_counts()\n",
    "grp_drinks_percapita_bystate\n",
    "plt.title(\"Drinks Per Capita by State\")\n",
    "plt.ylabel('Number of Drinks')\n",
    "plt.bar(x = ['CT', 'NJ', 'NY'], height = grp_drinks_percapita_bystate, align='edge', edgecolor='black' )\n"
   ]
  },
  {
   "cell_type": "code",
   "execution_count": 26,
   "metadata": {},
   "outputs": [
    {
     "data": {
      "text/plain": [
       "_STATE\n",
       "9     10.569345\n",
       "34    12.081107\n",
       "36    10.566710\n",
       "Name: SICK, dtype: float64"
      ]
     },
     "execution_count": 26,
     "metadata": {},
     "output_type": "execute_result"
    }
   ],
   "source": [
    "grp_avgsickdays"
   ]
  },
  {
   "cell_type": "code",
   "execution_count": 27,
   "metadata": {},
   "outputs": [],
   "source": [
    "#merge all bar graph data\n",
    "#convert all data to ratio out of people\n",
    "#graph \n",
    "#compare\n",
    "#grp_avgsickdays NJ 12.081  - CT 10.569 - NY 10.567 -  \n",
    "# grp_avgsickbystate * 100\n",
    "#grp_ttlsmokebystate NY 1304 - NJ 1169 - CT 888.5\n",
    "#grp_ttldrinksbystate CT 59398 - NJ 54019 - NY 57168 \n",
    "#grp_drinks_percapita_bystate CT 5.6 - NJ 4.6 - NY 4.6\n",
    "\n",
    "#\n",
    "# 3 POINTS FOR 1ST\n",
    "# (2,3,1) #sick days\n",
    "# (1,2,3) #total smokers\n",
    "# (3,2,1) #drinks\n",
    "# --------\n",
    "# (6, 7, 5) #totals\n",
    "# (CT,NJ,NY)\n",
    "#\n",
    "#"
   ]
  },
  {
   "cell_type": "markdown",
   "metadata": {},
   "source": [
    "## 9. Based on your initial data exploration, what are some hypotheses of what affects a person's health that you would like to further investigate?"
   ]
  },
  {
   "cell_type": "markdown",
   "metadata": {},
   "source": [
    "Type out your initial hyptotheses below:\n",
    "\n",
    "1. After initial evalutation of the available data, in the most simplest methods, the clearest market to \n",
    "\n",
    "2. \n",
    "\n",
    "3.  "
   ]
  },
  {
   "cell_type": "markdown",
   "metadata": {},
   "source": [
    "## Bonus: Create some cool graphics.  "
   ]
  },
  {
   "cell_type": "code",
   "execution_count": 28,
   "metadata": {},
   "outputs": [],
   "source": [
    "#graph by quantity over a month\n",
    "# plt.plot( 'x', 'y1', data=df, marker='o', markerfacecolor='blue', markersize=12, color='skyblue', linewidth=4)\n",
    "# plt.plot( 'x', 'y2', data=df, marker='', color='olive', linewidth=2)\n",
    "# plt.plot( 'x', 'y3', data=df, marker='', color='olive', linewidth=2, linestyle='dashed', label=\"toto\")\n",
    "grp1 = df.groupby('_STATE')['ALCDAY5'].sum()\n",
    "#grp2 = df.groupby('_STATE')['SMOKBYMONTH'].sum()\n",
    "#grp3 = df.groupby('_STATE')['SICK'].sum()\n",
    "\n",
    "\n",
    "#plt.plot('_STATE', 'ALCDAY5', data=df, marker='o', markerfacecolor='blue', markersize=12, color='skyblue', linewidth=4 )\n",
    "#plt.plot('_STATE', 'SMOKBYMONTH', data=df, marker='', color='olive', linewidth=2)\n",
    "#plt.plot('_STATE', 'SICK', data=df, marker='', color='olive', linewidth=2, linestyle='dashed', label=\"toto\")\n",
    "#plt.legend"
   ]
  },
  {
   "cell_type": "code",
   "execution_count": null,
   "metadata": {},
   "outputs": [],
   "source": []
  }
 ],
 "metadata": {
  "kernelspec": {
   "display_name": "Python 3",
   "language": "python",
   "name": "python3"
  },
  "language_info": {
   "codemirror_mode": {
    "name": "ipython",
    "version": 3
   },
   "file_extension": ".py",
   "mimetype": "text/x-python",
   "name": "python",
   "nbconvert_exporter": "python",
   "pygments_lexer": "ipython3",
   "version": "3.7.4"
  }
 },
 "nbformat": 4,
 "nbformat_minor": 2
}
